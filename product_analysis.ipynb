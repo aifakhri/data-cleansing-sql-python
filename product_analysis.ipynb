{
 "cells": [
  {
   "cell_type": "code",
   "execution_count": 1,
   "metadata": {},
   "outputs": [],
   "source": [
    "import matplotlib.pyplot as plt\n",
    "import pandas as pd\n",
    "import seaborn as sns\n",
    "\n",
    "from common_functions import open_connection, translate_products\n",
    "from sql_queries import ordered_product, product_reviews, sellers_sold_items, translation_table"
   ]
  },
  {
   "cell_type": "markdown",
   "metadata": {},
   "source": [
    "#### **Basic Setup**"
   ]
  },
  {
   "cell_type": "code",
   "execution_count": 2,
   "metadata": {},
   "outputs": [
    {
     "name": "stdout",
     "output_type": "stream",
     "text": [
      "Connection is successful\n"
     ]
    }
   ],
   "source": [
    "# Database file path location\n",
    "DATABASE_FILE = \"olist.db\"\n",
    "connection = open_connection(DATABASE_FILE)"
   ]
  },
  {
   "cell_type": "markdown",
   "metadata": {},
   "source": [
    "### **Case 1: Analyzing products which are ordered the most**"
   ]
  },
  {
   "cell_type": "markdown",
   "metadata": {},
   "source": [
    "#### **Loading data and show basic table information**"
   ]
  },
  {
   "cell_type": "code",
   "execution_count": 3,
   "metadata": {},
   "outputs": [
    {
     "data": {
      "text/html": [
       "<div>\n",
       "<style scoped>\n",
       "    .dataframe tbody tr th:only-of-type {\n",
       "        vertical-align: middle;\n",
       "    }\n",
       "\n",
       "    .dataframe tbody tr th {\n",
       "        vertical-align: top;\n",
       "    }\n",
       "\n",
       "    .dataframe thead th {\n",
       "        text-align: right;\n",
       "    }\n",
       "</style>\n",
       "<table border=\"1\" class=\"dataframe\">\n",
       "  <thead>\n",
       "    <tr style=\"text-align: right;\">\n",
       "      <th></th>\n",
       "      <th>order_id</th>\n",
       "      <th>product_name</th>\n",
       "    </tr>\n",
       "  </thead>\n",
       "  <tbody>\n",
       "    <tr>\n",
       "      <th>0</th>\n",
       "      <td>00010242fe8c5a6d1ba2dd792cb16214</td>\n",
       "      <td>cool_stuff</td>\n",
       "    </tr>\n",
       "    <tr>\n",
       "      <th>1</th>\n",
       "      <td>00018f77f2f0320c557190d7a144bdd3</td>\n",
       "      <td>pet_shop</td>\n",
       "    </tr>\n",
       "    <tr>\n",
       "      <th>2</th>\n",
       "      <td>000229ec398224ef6ca0657da4fc703e</td>\n",
       "      <td>moveis_decoracao</td>\n",
       "    </tr>\n",
       "    <tr>\n",
       "      <th>3</th>\n",
       "      <td>00024acbcdf0a6daa1e931b038114c75</td>\n",
       "      <td>perfumaria</td>\n",
       "    </tr>\n",
       "    <tr>\n",
       "      <th>4</th>\n",
       "      <td>00042b26cf59d7ce69dfabb4e55b4fd9</td>\n",
       "      <td>ferramentas_jardim</td>\n",
       "    </tr>\n",
       "  </tbody>\n",
       "</table>\n",
       "</div>"
      ],
      "text/plain": [
       "                           order_id        product_name\n",
       "0  00010242fe8c5a6d1ba2dd792cb16214          cool_stuff\n",
       "1  00018f77f2f0320c557190d7a144bdd3            pet_shop\n",
       "2  000229ec398224ef6ca0657da4fc703e    moveis_decoracao\n",
       "3  00024acbcdf0a6daa1e931b038114c75          perfumaria\n",
       "4  00042b26cf59d7ce69dfabb4e55b4fd9  ferramentas_jardim"
      ]
     },
     "execution_count": 3,
     "metadata": {},
     "output_type": "execute_result"
    }
   ],
   "source": [
    "# Importing table from the database\n",
    "df_ordered_products = pd.read_sql(ordered_product, connection)\n",
    "df_ordered_products.head()"
   ]
  },
  {
   "cell_type": "code",
   "execution_count": 4,
   "metadata": {},
   "outputs": [
    {
     "name": "stdout",
     "output_type": "stream",
     "text": [
      "Table shape:\n",
      " (112650, 2)\n",
      "\n",
      "Table information\n",
      "<class 'pandas.core.frame.DataFrame'>\n",
      "RangeIndex: 112650 entries, 0 to 112649\n",
      "Data columns (total 2 columns):\n",
      " #   Column        Non-Null Count   Dtype \n",
      "---  ------        --------------   ----- \n",
      " 0   order_id      112650 non-null  object\n",
      " 1   product_name  111047 non-null  object\n",
      "dtypes: object(2)\n",
      "memory usage: 1.7+ MB\n"
     ]
    }
   ],
   "source": [
    "# Checking query information\n",
    "print(\"Table shape:\\n\", df_ordered_products.shape)\n",
    "print(\"\\nTable information\")\n",
    "df_ordered_products.info()"
   ]
  },
  {
   "cell_type": "markdown",
   "metadata": {},
   "source": [
    "#### **Data Cleaning - Finding missing data**"
   ]
  },
  {
   "cell_type": "code",
   "execution_count": 5,
   "metadata": {},
   "outputs": [
    {
     "data": {
      "text/plain": [
       "order_id           0\n",
       "product_name    1603\n",
       "dtype: int64"
      ]
     },
     "execution_count": 5,
     "metadata": {},
     "output_type": "execute_result"
    }
   ],
   "source": [
    "# Checking null value\n",
    "df_ordered_products.isna().sum()"
   ]
  },
  {
   "cell_type": "code",
   "execution_count": 6,
   "metadata": {},
   "outputs": [
    {
     "data": {
      "text/html": [
       "<div>\n",
       "<style scoped>\n",
       "    .dataframe tbody tr th:only-of-type {\n",
       "        vertical-align: middle;\n",
       "    }\n",
       "\n",
       "    .dataframe tbody tr th {\n",
       "        vertical-align: top;\n",
       "    }\n",
       "\n",
       "    .dataframe thead th {\n",
       "        text-align: right;\n",
       "    }\n",
       "</style>\n",
       "<table border=\"1\" class=\"dataframe\">\n",
       "  <thead>\n",
       "    <tr style=\"text-align: right;\">\n",
       "      <th></th>\n",
       "      <th>order_id</th>\n",
       "      <th>product_name</th>\n",
       "    </tr>\n",
       "  </thead>\n",
       "  <tbody>\n",
       "    <tr>\n",
       "      <th>123</th>\n",
       "      <td>0046e1d57f4c07c8c92ab26be8c3dfc0</td>\n",
       "      <td>None</td>\n",
       "    </tr>\n",
       "    <tr>\n",
       "      <th>125</th>\n",
       "      <td>00482f2670787292280e0a8153d82467</td>\n",
       "      <td>None</td>\n",
       "    </tr>\n",
       "    <tr>\n",
       "      <th>132</th>\n",
       "      <td>004f5d8f238e8908e6864b874eda3391</td>\n",
       "      <td>None</td>\n",
       "    </tr>\n",
       "    <tr>\n",
       "      <th>142</th>\n",
       "      <td>0057199db02d1a5ef41bacbf41f8f63b</td>\n",
       "      <td>None</td>\n",
       "    </tr>\n",
       "    <tr>\n",
       "      <th>171</th>\n",
       "      <td>006cb7cafc99b29548d4f412c7f9f493</td>\n",
       "      <td>None</td>\n",
       "    </tr>\n",
       "    <tr>\n",
       "      <th>...</th>\n",
       "      <td>...</td>\n",
       "      <td>...</td>\n",
       "    </tr>\n",
       "    <tr>\n",
       "      <th>112306</th>\n",
       "      <td>ff24fec69b7f3d30f9dc1ab3aee7c179</td>\n",
       "      <td>None</td>\n",
       "    </tr>\n",
       "    <tr>\n",
       "      <th>112333</th>\n",
       "      <td>ff3024474be86400847879103757d1fd</td>\n",
       "      <td>None</td>\n",
       "    </tr>\n",
       "    <tr>\n",
       "      <th>112350</th>\n",
       "      <td>ff3a45ee744a7c1f8096d2e72c1a23e4</td>\n",
       "      <td>None</td>\n",
       "    </tr>\n",
       "    <tr>\n",
       "      <th>112438</th>\n",
       "      <td>ff7b636282b98e0aa524264b295ed928</td>\n",
       "      <td>None</td>\n",
       "    </tr>\n",
       "    <tr>\n",
       "      <th>112501</th>\n",
       "      <td>ffa5e4c604dea4f0a59d19cc2322ac19</td>\n",
       "      <td>None</td>\n",
       "    </tr>\n",
       "  </tbody>\n",
       "</table>\n",
       "<p>1603 rows × 2 columns</p>\n",
       "</div>"
      ],
      "text/plain": [
       "                                order_id product_name\n",
       "123     0046e1d57f4c07c8c92ab26be8c3dfc0         None\n",
       "125     00482f2670787292280e0a8153d82467         None\n",
       "132     004f5d8f238e8908e6864b874eda3391         None\n",
       "142     0057199db02d1a5ef41bacbf41f8f63b         None\n",
       "171     006cb7cafc99b29548d4f412c7f9f493         None\n",
       "...                                  ...          ...\n",
       "112306  ff24fec69b7f3d30f9dc1ab3aee7c179         None\n",
       "112333  ff3024474be86400847879103757d1fd         None\n",
       "112350  ff3a45ee744a7c1f8096d2e72c1a23e4         None\n",
       "112438  ff7b636282b98e0aa524264b295ed928         None\n",
       "112501  ffa5e4c604dea4f0a59d19cc2322ac19         None\n",
       "\n",
       "[1603 rows x 2 columns]"
      ]
     },
     "execution_count": 6,
     "metadata": {},
     "output_type": "execute_result"
    }
   ],
   "source": [
    "df_ordered_products[df_ordered_products.isna().any(axis=1)]"
   ]
  },
  {
   "cell_type": "code",
   "execution_count": 7,
   "metadata": {},
   "outputs": [
    {
     "data": {
      "text/plain": [
       "order_id        0\n",
       "product_name    0\n",
       "dtype: int64"
      ]
     },
     "execution_count": 7,
     "metadata": {},
     "output_type": "execute_result"
    }
   ],
   "source": [
    "# Change the product Category to Unknown in Our Query\n",
    "df_ordered_products[\"product_name\"].fillna(\"Unknown\", inplace=True)\n",
    "\n",
    "# Re-Checking The Null Value\n",
    "df_ordered_products.isnull().sum()"
   ]
  },
  {
   "cell_type": "markdown",
   "metadata": {},
   "source": [
    "#### **Data Cleaning - Finding Duplicates**"
   ]
  },
  {
   "cell_type": "code",
   "execution_count": 8,
   "metadata": {},
   "outputs": [
    {
     "data": {
      "text/html": [
       "<div>\n",
       "<style scoped>\n",
       "    .dataframe tbody tr th:only-of-type {\n",
       "        vertical-align: middle;\n",
       "    }\n",
       "\n",
       "    .dataframe tbody tr th {\n",
       "        vertical-align: top;\n",
       "    }\n",
       "\n",
       "    .dataframe thead th {\n",
       "        text-align: right;\n",
       "    }\n",
       "</style>\n",
       "<table border=\"1\" class=\"dataframe\">\n",
       "  <thead>\n",
       "    <tr style=\"text-align: right;\">\n",
       "      <th></th>\n",
       "      <th>order_id</th>\n",
       "      <th>product_name</th>\n",
       "    </tr>\n",
       "  </thead>\n",
       "  <tbody>\n",
       "    <tr>\n",
       "      <th>13</th>\n",
       "      <td>0008288aa423d2a3f00fcb17cd7d8719</td>\n",
       "      <td>ferramentas_jardim</td>\n",
       "    </tr>\n",
       "    <tr>\n",
       "      <th>14</th>\n",
       "      <td>0008288aa423d2a3f00fcb17cd7d8719</td>\n",
       "      <td>ferramentas_jardim</td>\n",
       "    </tr>\n",
       "    <tr>\n",
       "      <th>32</th>\n",
       "      <td>00143d0f86d6fbd9f9b38ab440ac16f5</td>\n",
       "      <td>esporte_lazer</td>\n",
       "    </tr>\n",
       "    <tr>\n",
       "      <th>33</th>\n",
       "      <td>00143d0f86d6fbd9f9b38ab440ac16f5</td>\n",
       "      <td>esporte_lazer</td>\n",
       "    </tr>\n",
       "    <tr>\n",
       "      <th>34</th>\n",
       "      <td>00143d0f86d6fbd9f9b38ab440ac16f5</td>\n",
       "      <td>esporte_lazer</td>\n",
       "    </tr>\n",
       "    <tr>\n",
       "      <th>...</th>\n",
       "      <td>...</td>\n",
       "      <td>...</td>\n",
       "    </tr>\n",
       "    <tr>\n",
       "      <th>112635</th>\n",
       "      <td>fff8287bbae429a99bb7e8c21d151c41</td>\n",
       "      <td>informatica_acessorios</td>\n",
       "    </tr>\n",
       "    <tr>\n",
       "      <th>112640</th>\n",
       "      <td>fffb9224b6fc7c43ebb0904318b10b5f</td>\n",
       "      <td>relogios_presentes</td>\n",
       "    </tr>\n",
       "    <tr>\n",
       "      <th>112641</th>\n",
       "      <td>fffb9224b6fc7c43ebb0904318b10b5f</td>\n",
       "      <td>relogios_presentes</td>\n",
       "    </tr>\n",
       "    <tr>\n",
       "      <th>112642</th>\n",
       "      <td>fffb9224b6fc7c43ebb0904318b10b5f</td>\n",
       "      <td>relogios_presentes</td>\n",
       "    </tr>\n",
       "    <tr>\n",
       "      <th>112643</th>\n",
       "      <td>fffb9224b6fc7c43ebb0904318b10b5f</td>\n",
       "      <td>relogios_presentes</td>\n",
       "    </tr>\n",
       "  </tbody>\n",
       "</table>\n",
       "<p>22421 rows × 2 columns</p>\n",
       "</div>"
      ],
      "text/plain": [
       "                                order_id            product_name\n",
       "13      0008288aa423d2a3f00fcb17cd7d8719      ferramentas_jardim\n",
       "14      0008288aa423d2a3f00fcb17cd7d8719      ferramentas_jardim\n",
       "32      00143d0f86d6fbd9f9b38ab440ac16f5           esporte_lazer\n",
       "33      00143d0f86d6fbd9f9b38ab440ac16f5           esporte_lazer\n",
       "34      00143d0f86d6fbd9f9b38ab440ac16f5           esporte_lazer\n",
       "...                                  ...                     ...\n",
       "112635  fff8287bbae429a99bb7e8c21d151c41  informatica_acessorios\n",
       "112640  fffb9224b6fc7c43ebb0904318b10b5f      relogios_presentes\n",
       "112641  fffb9224b6fc7c43ebb0904318b10b5f      relogios_presentes\n",
       "112642  fffb9224b6fc7c43ebb0904318b10b5f      relogios_presentes\n",
       "112643  fffb9224b6fc7c43ebb0904318b10b5f      relogios_presentes\n",
       "\n",
       "[22421 rows x 2 columns]"
      ]
     },
     "execution_count": 8,
     "metadata": {},
     "output_type": "execute_result"
    }
   ],
   "source": [
    "df_ordered_products[df_ordered_products.duplicated(keep=False)]"
   ]
  },
  {
   "cell_type": "code",
   "execution_count": 9,
   "metadata": {},
   "outputs": [
    {
     "data": {
      "text/html": [
       "<div>\n",
       "<style scoped>\n",
       "    .dataframe tbody tr th:only-of-type {\n",
       "        vertical-align: middle;\n",
       "    }\n",
       "\n",
       "    .dataframe tbody tr th {\n",
       "        vertical-align: top;\n",
       "    }\n",
       "\n",
       "    .dataframe thead th {\n",
       "        text-align: right;\n",
       "    }\n",
       "</style>\n",
       "<table border=\"1\" class=\"dataframe\">\n",
       "  <thead>\n",
       "    <tr style=\"text-align: right;\">\n",
       "      <th></th>\n",
       "      <th>order_id</th>\n",
       "      <th>product_name</th>\n",
       "    </tr>\n",
       "  </thead>\n",
       "  <tbody>\n",
       "    <tr>\n",
       "      <th>13</th>\n",
       "      <td>0008288aa423d2a3f00fcb17cd7d8719</td>\n",
       "      <td>ferramentas_jardim</td>\n",
       "    </tr>\n",
       "    <tr>\n",
       "      <th>14</th>\n",
       "      <td>0008288aa423d2a3f00fcb17cd7d8719</td>\n",
       "      <td>ferramentas_jardim</td>\n",
       "    </tr>\n",
       "    <tr>\n",
       "      <th>32</th>\n",
       "      <td>00143d0f86d6fbd9f9b38ab440ac16f5</td>\n",
       "      <td>esporte_lazer</td>\n",
       "    </tr>\n",
       "    <tr>\n",
       "      <th>33</th>\n",
       "      <td>00143d0f86d6fbd9f9b38ab440ac16f5</td>\n",
       "      <td>esporte_lazer</td>\n",
       "    </tr>\n",
       "    <tr>\n",
       "      <th>34</th>\n",
       "      <td>00143d0f86d6fbd9f9b38ab440ac16f5</td>\n",
       "      <td>esporte_lazer</td>\n",
       "    </tr>\n",
       "    <tr>\n",
       "      <th>...</th>\n",
       "      <td>...</td>\n",
       "      <td>...</td>\n",
       "    </tr>\n",
       "    <tr>\n",
       "      <th>112635</th>\n",
       "      <td>fff8287bbae429a99bb7e8c21d151c41</td>\n",
       "      <td>informatica_acessorios</td>\n",
       "    </tr>\n",
       "    <tr>\n",
       "      <th>112640</th>\n",
       "      <td>fffb9224b6fc7c43ebb0904318b10b5f</td>\n",
       "      <td>relogios_presentes</td>\n",
       "    </tr>\n",
       "    <tr>\n",
       "      <th>112641</th>\n",
       "      <td>fffb9224b6fc7c43ebb0904318b10b5f</td>\n",
       "      <td>relogios_presentes</td>\n",
       "    </tr>\n",
       "    <tr>\n",
       "      <th>112642</th>\n",
       "      <td>fffb9224b6fc7c43ebb0904318b10b5f</td>\n",
       "      <td>relogios_presentes</td>\n",
       "    </tr>\n",
       "    <tr>\n",
       "      <th>112643</th>\n",
       "      <td>fffb9224b6fc7c43ebb0904318b10b5f</td>\n",
       "      <td>relogios_presentes</td>\n",
       "    </tr>\n",
       "  </tbody>\n",
       "</table>\n",
       "<p>22421 rows × 2 columns</p>\n",
       "</div>"
      ],
      "text/plain": [
       "                                order_id            product_name\n",
       "13      0008288aa423d2a3f00fcb17cd7d8719      ferramentas_jardim\n",
       "14      0008288aa423d2a3f00fcb17cd7d8719      ferramentas_jardim\n",
       "32      00143d0f86d6fbd9f9b38ab440ac16f5           esporte_lazer\n",
       "33      00143d0f86d6fbd9f9b38ab440ac16f5           esporte_lazer\n",
       "34      00143d0f86d6fbd9f9b38ab440ac16f5           esporte_lazer\n",
       "...                                  ...                     ...\n",
       "112635  fff8287bbae429a99bb7e8c21d151c41  informatica_acessorios\n",
       "112640  fffb9224b6fc7c43ebb0904318b10b5f      relogios_presentes\n",
       "112641  fffb9224b6fc7c43ebb0904318b10b5f      relogios_presentes\n",
       "112642  fffb9224b6fc7c43ebb0904318b10b5f      relogios_presentes\n",
       "112643  fffb9224b6fc7c43ebb0904318b10b5f      relogios_presentes\n",
       "\n",
       "[22421 rows x 2 columns]"
      ]
     },
     "execution_count": 9,
     "metadata": {},
     "output_type": "execute_result"
    }
   ],
   "source": [
    "df_ordered_products[df_ordered_products.duplicated(keep=False)]"
   ]
  },
  {
   "cell_type": "code",
   "execution_count": 10,
   "metadata": {},
   "outputs": [
    {
     "data": {
      "text/html": [
       "<div>\n",
       "<style scoped>\n",
       "    .dataframe tbody tr th:only-of-type {\n",
       "        vertical-align: middle;\n",
       "    }\n",
       "\n",
       "    .dataframe tbody tr th {\n",
       "        vertical-align: top;\n",
       "    }\n",
       "\n",
       "    .dataframe thead th {\n",
       "        text-align: right;\n",
       "    }\n",
       "</style>\n",
       "<table border=\"1\" class=\"dataframe\">\n",
       "  <thead>\n",
       "    <tr style=\"text-align: right;\">\n",
       "      <th></th>\n",
       "      <th>order_id</th>\n",
       "      <th>product_name</th>\n",
       "    </tr>\n",
       "  </thead>\n",
       "  <tbody>\n",
       "  </tbody>\n",
       "</table>\n",
       "</div>"
      ],
      "text/plain": [
       "Empty DataFrame\n",
       "Columns: [order_id, product_name]\n",
       "Index: []"
      ]
     },
     "execution_count": 10,
     "metadata": {},
     "output_type": "execute_result"
    }
   ],
   "source": [
    "# Removing duplicates\n",
    "df_ordered_products.drop_duplicates(keep=\"first\", inplace=True)\n",
    "\n",
    "# Re-check duplicates\n",
    "df_ordered_products[df_ordered_products.duplicated()]"
   ]
  },
  {
   "cell_type": "markdown",
   "metadata": {},
   "source": [
    "### **Data Formatting and Manipulaton**"
   ]
  },
  {
   "cell_type": "code",
   "execution_count": 11,
   "metadata": {},
   "outputs": [
    {
     "data": {
      "text/html": [
       "<div>\n",
       "<style scoped>\n",
       "    .dataframe tbody tr th:only-of-type {\n",
       "        vertical-align: middle;\n",
       "    }\n",
       "\n",
       "    .dataframe tbody tr th {\n",
       "        vertical-align: top;\n",
       "    }\n",
       "\n",
       "    .dataframe thead th {\n",
       "        text-align: right;\n",
       "    }\n",
       "</style>\n",
       "<table border=\"1\" class=\"dataframe\">\n",
       "  <thead>\n",
       "    <tr style=\"text-align: right;\">\n",
       "      <th></th>\n",
       "      <th>order_id</th>\n",
       "      <th>product_name</th>\n",
       "    </tr>\n",
       "  </thead>\n",
       "  <tbody>\n",
       "    <tr>\n",
       "      <th>0</th>\n",
       "      <td>00010242fe8c5a6d1ba2dd792cb16214</td>\n",
       "      <td>cool_stuff</td>\n",
       "    </tr>\n",
       "    <tr>\n",
       "      <th>1</th>\n",
       "      <td>00018f77f2f0320c557190d7a144bdd3</td>\n",
       "      <td>pet_shop</td>\n",
       "    </tr>\n",
       "    <tr>\n",
       "      <th>2</th>\n",
       "      <td>000229ec398224ef6ca0657da4fc703e</td>\n",
       "      <td>moveis_decoracao</td>\n",
       "    </tr>\n",
       "    <tr>\n",
       "      <th>3</th>\n",
       "      <td>00024acbcdf0a6daa1e931b038114c75</td>\n",
       "      <td>perfumaria</td>\n",
       "    </tr>\n",
       "    <tr>\n",
       "      <th>4</th>\n",
       "      <td>00042b26cf59d7ce69dfabb4e55b4fd9</td>\n",
       "      <td>ferramentas_jardim</td>\n",
       "    </tr>\n",
       "  </tbody>\n",
       "</table>\n",
       "</div>"
      ],
      "text/plain": [
       "                           order_id        product_name\n",
       "0  00010242fe8c5a6d1ba2dd792cb16214          cool_stuff\n",
       "1  00018f77f2f0320c557190d7a144bdd3            pet_shop\n",
       "2  000229ec398224ef6ca0657da4fc703e    moveis_decoracao\n",
       "3  00024acbcdf0a6daa1e931b038114c75          perfumaria\n",
       "4  00042b26cf59d7ce69dfabb4e55b4fd9  ferramentas_jardim"
      ]
     },
     "execution_count": 11,
     "metadata": {},
     "output_type": "execute_result"
    }
   ],
   "source": [
    "df_ordered_products.head()"
   ]
  },
  {
   "cell_type": "code",
   "execution_count": 12,
   "metadata": {},
   "outputs": [
    {
     "name": "stdout",
     "output_type": "stream",
     "text": [
      "{'beleza_saude': 'Health beauty', 'informatica_acessorios': 'Computers accessories', 'automotivo': 'Auto', 'cama_mesa_banho': 'Bed bath table', 'moveis_decoracao': 'Furniture decor', 'esporte_lazer': 'Sports leisure', 'perfumaria': 'Perfumery', 'utilidades_domesticas': 'Housewares', 'telefonia': 'Telephony', 'relogios_presentes': 'Watches gifts', 'alimentos_bebidas': 'Food drink', 'bebes': 'Baby', 'papelaria': 'Stationery', 'tablets_impressao_imagem': 'Tablets printing image', 'brinquedos': 'Toys', 'telefonia_fixa': 'Fixed telephony', 'ferramentas_jardim': 'Garden tools', 'fashion_bolsas_e_acessorios': 'Fashion bags accessories', 'eletroportateis': 'Small appliances', 'consoles_games': 'Consoles games', 'audio': 'Audio', 'fashion_calcados': 'Fashion shoes', 'cool_stuff': 'Cool stuff', 'malas_acessorios': 'Luggage accessories', 'climatizacao': 'Air conditioning', 'construcao_ferramentas_construcao': 'Construction tools construction', 'moveis_cozinha_area_de_servico_jantar_e_jardim': 'Kitchen dining laundry garden furniture', 'construcao_ferramentas_jardim': 'Costruction tools garden', 'fashion_roupa_masculina': 'Fashion male clothing', 'pet_shop': 'Pet shop', 'moveis_escritorio': 'Office furniture', 'market_place': 'Market place', 'eletronicos': 'Electronics', 'eletrodomesticos': 'Home appliances', 'artigos_de_festas': 'Party supplies', 'casa_conforto': 'Home confort', 'construcao_ferramentas_ferramentas': 'Costruction tools tools', 'agro_industria_e_comercio': 'Agro industry and commerce', 'moveis_colchao_e_estofado': 'Furniture mattress and upholstery', 'livros_tecnicos': 'Books technical', 'casa_construcao': 'Home construction', 'instrumentos_musicais': 'Musical instruments', 'moveis_sala': 'Furniture living room', 'construcao_ferramentas_iluminacao': 'Construction tools lights', 'industria_comercio_e_negocios': 'Industry commerce and business', 'alimentos': 'Food', 'artes': 'Art', 'moveis_quarto': 'Furniture bedroom', 'livros_interesse_geral': 'Books general interest', 'construcao_ferramentas_seguranca': 'Construction tools safety', 'fashion_underwear_e_moda_praia': 'Fashion underwear beach', 'fashion_esporte': 'Fashion sport', 'sinalizacao_e_seguranca': 'Signaling and security', 'pcs': 'Computers', 'artigos_de_natal': 'Christmas supplies', 'fashion_roupa_feminina': 'Fashio female clothing', 'eletrodomesticos_2': 'Home appliances 2', 'livros_importados': 'Books imported', 'bebidas': 'Drinks', 'cine_foto': 'Cine photo', 'la_cuisine': 'La cuisine', 'musica': 'Music', 'casa_conforto_2': 'Home comfort 2', 'portateis_casa_forno_e_cafe': 'Small appliances home oven and coffee', 'cds_dvds_musicais': 'Cds dvds musicals', 'dvds_blu_ray': 'Dvds blu ray', 'flores': 'Flowers', 'artes_e_artesanato': 'Arts and craftmanship', 'fraldas_higiene': 'Diapers and hygiene', 'fashion_roupa_infanto_juvenil': 'Fashion childrens clothes', 'seguros_e_servicos': 'Security and services'}\n"
     ]
    }
   ],
   "source": [
    "## Create Translation Table with Pandas\n",
    "df_translation_table = pd.read_sql(translation_table, connection)\n",
    "\n",
    "## Get Translation Dictionary\n",
    "new_product_name = translate_products(df_translation_table)\n",
    "print(new_product_name)"
   ]
  },
  {
   "cell_type": "code",
   "execution_count": 13,
   "metadata": {},
   "outputs": [
    {
     "data": {
      "text/plain": [
       "['portateis_cozinha_e_preparadores_de_alimentos', 'pc_gamer']"
      ]
     },
     "execution_count": 13,
     "metadata": {},
     "output_type": "execute_result"
    }
   ],
   "source": [
    "# Replacing the current product name with cleaned and translated data\n",
    "df_ordered_products[\"product_name\"].replace(new_product_name, inplace=True)\n",
    "\n",
    "# Re-check the unformated data\n",
    "unformatted_data = []\n",
    "for product in df_ordered_products[\"product_name\"].unique():\n",
    "    if \"_\" in product:\n",
    "        unformatted_data.append(product)\n",
    "\n",
    "unformatted_data"
   ]
  },
  {
   "cell_type": "code",
   "execution_count": 14,
   "metadata": {},
   "outputs": [
    {
     "data": {
      "text/plain": [
       "[]"
      ]
     },
     "execution_count": 14,
     "metadata": {},
     "output_type": "execute_result"
    }
   ],
   "source": [
    "# Adding unformatted and not translated data\n",
    "new_product_name[\"pc_gamer\"] = \"PC Gamer\" \n",
    "new_product_name[\"portateis_cozinha_e_preparadores_de_alimentos\"] = \"Kitchen and Food Preparation racks\"\n",
    "\n",
    "# Replacing unformatted and not translated data\n",
    "df_ordered_products[\"product_name\"].replace(new_product_name, inplace=True)\n",
    "\n",
    "# Re-checking the data\n",
    "unformatted_data = []\n",
    "for product in df_ordered_products[\"product_name\"].unique():\n",
    "    if \"_\" in product:\n",
    "        unformatted_data.append(product)\n",
    "\n",
    "unformatted_data"
   ]
  },
  {
   "cell_type": "markdown",
   "metadata": {},
   "source": [
    "#### **Group and Transform Data**"
   ]
  },
  {
   "cell_type": "code",
   "execution_count": 15,
   "metadata": {},
   "outputs": [
    {
     "data": {
      "text/html": [
       "<div>\n",
       "<style scoped>\n",
       "    .dataframe tbody tr th:only-of-type {\n",
       "        vertical-align: middle;\n",
       "    }\n",
       "\n",
       "    .dataframe tbody tr th {\n",
       "        vertical-align: top;\n",
       "    }\n",
       "\n",
       "    .dataframe thead th {\n",
       "        text-align: right;\n",
       "    }\n",
       "</style>\n",
       "<table border=\"1\" class=\"dataframe\">\n",
       "  <thead>\n",
       "    <tr style=\"text-align: right;\">\n",
       "      <th></th>\n",
       "      <th>order_counts</th>\n",
       "    </tr>\n",
       "    <tr>\n",
       "      <th>product_name</th>\n",
       "      <th></th>\n",
       "    </tr>\n",
       "  </thead>\n",
       "  <tbody>\n",
       "    <tr>\n",
       "      <th>Agro industry and commerce</th>\n",
       "      <td>182</td>\n",
       "    </tr>\n",
       "    <tr>\n",
       "      <th>Air conditioning</th>\n",
       "      <td>253</td>\n",
       "    </tr>\n",
       "    <tr>\n",
       "      <th>Art</th>\n",
       "      <td>202</td>\n",
       "    </tr>\n",
       "    <tr>\n",
       "      <th>Arts and craftmanship</th>\n",
       "      <td>23</td>\n",
       "    </tr>\n",
       "    <tr>\n",
       "      <th>Audio</th>\n",
       "      <td>350</td>\n",
       "    </tr>\n",
       "  </tbody>\n",
       "</table>\n",
       "</div>"
      ],
      "text/plain": [
       "                            order_counts\n",
       "product_name                            \n",
       "Agro industry and commerce           182\n",
       "Air conditioning                     253\n",
       "Art                                  202\n",
       "Arts and craftmanship                 23\n",
       "Audio                                350"
      ]
     },
     "execution_count": 15,
     "metadata": {},
     "output_type": "execute_result"
    }
   ],
   "source": [
    "df_product_analysis = df_ordered_products.groupby(\"product_name\").agg(\"count\")\n",
    "\n",
    "df_product_analysis.rename(columns={\"order_id\": \"order_counts\"}, inplace=True)\n",
    "df_product_analysis.head()"
   ]
  },
  {
   "cell_type": "code",
   "execution_count": 16,
   "metadata": {},
   "outputs": [
    {
     "data": {
      "text/html": [
       "<div>\n",
       "<style scoped>\n",
       "    .dataframe tbody tr th:only-of-type {\n",
       "        vertical-align: middle;\n",
       "    }\n",
       "\n",
       "    .dataframe tbody tr th {\n",
       "        vertical-align: top;\n",
       "    }\n",
       "\n",
       "    .dataframe thead th {\n",
       "        text-align: right;\n",
       "    }\n",
       "</style>\n",
       "<table border=\"1\" class=\"dataframe\">\n",
       "  <thead>\n",
       "    <tr style=\"text-align: right;\">\n",
       "      <th></th>\n",
       "      <th>product_name</th>\n",
       "      <th>order_counts</th>\n",
       "    </tr>\n",
       "  </thead>\n",
       "  <tbody>\n",
       "    <tr>\n",
       "      <th>0</th>\n",
       "      <td>Agro industry and commerce</td>\n",
       "      <td>182</td>\n",
       "    </tr>\n",
       "    <tr>\n",
       "      <th>1</th>\n",
       "      <td>Air conditioning</td>\n",
       "      <td>253</td>\n",
       "    </tr>\n",
       "    <tr>\n",
       "      <th>2</th>\n",
       "      <td>Art</td>\n",
       "      <td>202</td>\n",
       "    </tr>\n",
       "    <tr>\n",
       "      <th>3</th>\n",
       "      <td>Arts and craftmanship</td>\n",
       "      <td>23</td>\n",
       "    </tr>\n",
       "    <tr>\n",
       "      <th>4</th>\n",
       "      <td>Audio</td>\n",
       "      <td>350</td>\n",
       "    </tr>\n",
       "    <tr>\n",
       "      <th>...</th>\n",
       "      <td>...</td>\n",
       "      <td>...</td>\n",
       "    </tr>\n",
       "    <tr>\n",
       "      <th>69</th>\n",
       "      <td>Tablets printing image</td>\n",
       "      <td>79</td>\n",
       "    </tr>\n",
       "    <tr>\n",
       "      <th>70</th>\n",
       "      <td>Telephony</td>\n",
       "      <td>4199</td>\n",
       "    </tr>\n",
       "    <tr>\n",
       "      <th>71</th>\n",
       "      <td>Toys</td>\n",
       "      <td>3886</td>\n",
       "    </tr>\n",
       "    <tr>\n",
       "      <th>72</th>\n",
       "      <td>Unknown</td>\n",
       "      <td>1451</td>\n",
       "    </tr>\n",
       "    <tr>\n",
       "      <th>73</th>\n",
       "      <td>Watches gifts</td>\n",
       "      <td>5624</td>\n",
       "    </tr>\n",
       "  </tbody>\n",
       "</table>\n",
       "<p>74 rows × 2 columns</p>\n",
       "</div>"
      ],
      "text/plain": [
       "                  product_name  order_counts\n",
       "0   Agro industry and commerce           182\n",
       "1             Air conditioning           253\n",
       "2                          Art           202\n",
       "3        Arts and craftmanship            23\n",
       "4                        Audio           350\n",
       "..                         ...           ...\n",
       "69      Tablets printing image            79\n",
       "70                   Telephony          4199\n",
       "71                        Toys          3886\n",
       "72                     Unknown          1451\n",
       "73               Watches gifts          5624\n",
       "\n",
       "[74 rows x 2 columns]"
      ]
     },
     "execution_count": 16,
     "metadata": {},
     "output_type": "execute_result"
    }
   ],
   "source": [
    "df_product_analysis.reset_index(inplace=True)\n",
    "df_product_analysis"
   ]
  },
  {
   "cell_type": "markdown",
   "metadata": {},
   "source": [
    "### **Data Analysis**"
   ]
  },
  {
   "cell_type": "code",
   "execution_count": 17,
   "metadata": {},
   "outputs": [
    {
     "data": {
      "image/png": "[encoded data removed]",
      "text/plain": [
       "<Figure size 720x504 with 1 Axes>"
      ]
     },
     "metadata": {
      "needs_background": "light"
     },
     "output_type": "display_data"
    }
   ],
   "source": [
    "# Get Top 10 most ordered products\n",
    "most_ordered_product = df_product_analysis.sort_values(\"order_counts\", ascending=False)[:20]\n",
    "\n",
    "\n",
    "# Create chart\n",
    "plt.figure(figsize=(10, 7))\n",
    "\n",
    "ax1 = sns.barplot(x=\"order_counts\", y=\"product_name\",\n",
    "                  palette=\"YlGnBu_r\", data=most_ordered_product)\n",
    "\n",
    "# Adding data label into the graph\n",
    "ax1.bar_label(ax1.containers[0])\n",
    "\n",
    "# Adding table name and axes labels\n",
    "plt.title(\"Top 20 Most Ordered Products\")\n",
    "plt.xlabel(\"Number of Orders\")\n",
    "plt.ylabel(\"Product Name\")\n",
    "plt.show()"
   ]
  },
  {
   "cell_type": "markdown",
   "metadata": {},
   "source": [
    "### **Case 2: Analyzing products which are ordered the most**"
   ]
  },
  {
   "cell_type": "markdown",
   "metadata": {},
   "source": [
    "#### **Loading data and show basic table information**"
   ]
  },
  {
   "cell_type": "code",
   "execution_count": null,
   "metadata": {},
   "outputs": [],
   "source": [
    "df_product_reviews = pd.read_sql(product_reviews, connection)\n",
    "df_product_reviews.head()"
   ]
  },
  {
   "cell_type": "code",
   "execution_count": null,
   "metadata": {},
   "outputs": [],
   "source": [
    "print(\"Data Frame Shape: \", df_product_reviews.shape)\n",
    "print(\"\\nData Frame information\")\n",
    "df_product_reviews.info()"
   ]
  },
  {
   "cell_type": "markdown",
   "metadata": {},
   "source": [
    "#### **Data Cleaning - Finding missing data**"
   ]
  },
  {
   "cell_type": "code",
   "execution_count": null,
   "metadata": {},
   "outputs": [],
   "source": [
    "df_product_reviews.isnull().sum()"
   ]
  },
  {
   "cell_type": "code",
   "execution_count": null,
   "metadata": {},
   "outputs": [],
   "source": [
    "df_product_reviews[\"product_name\"].fillna(\"Unknown\", inplace=True)\n",
    "df_product_reviews.isna().sum()"
   ]
  },
  {
   "cell_type": "code",
   "execution_count": null,
   "metadata": {},
   "outputs": [],
   "source": [
    "df_review_table = pd.read_sql(\"SELECT review_id, review_score \"\n",
    "                              \"FROM olist_order_reviews_dataset\", connection)\n",
    "df_review_table.isna().sum()"
   ]
  },
  {
   "cell_type": "code",
   "execution_count": null,
   "metadata": {},
   "outputs": [],
   "source": [
    "df_order_table = pd.read_sql(\"SELECT order_id FROM olist_order_dataset\", connection)\n",
    "df_order_table.isna().sum()"
   ]
  },
  {
   "cell_type": "code",
   "execution_count": null,
   "metadata": {},
   "outputs": [],
   "source": [
    "df_order_item_table = pd.read_sql(\"SELECT product_id, order_id \"\n",
    "                                  \"FROM olist_order_items_dataset\", connection)\n",
    "df_order_item_table.isna().sum()"
   ]
  },
  {
   "cell_type": "code",
   "execution_count": null,
   "metadata": {},
   "outputs": [],
   "source": [
    "cte_query = \"\"\"\n",
    "SELECT\n",
    "\torder_items.product_id,\n",
    "\torder_data.order_id,\n",
    "\treviews.review_id,\n",
    "\treviews.review_score,\n",
    "\torder_data.order_status\n",
    "FROM olist_order_dataset AS order_data\n",
    "LEFT JOIN olist_order_reviews_dataset AS reviews ON order_data.order_id = reviews.order_id\n",
    "LEFT JOIN olist_order_items_dataset AS order_items ON order_data.order_id = order_items.order_id\n",
    "\"\"\"\n",
    "df_cte_table = pd.read_sql(cte_query, connection)\n",
    "df_cte_table.isna().sum()"
   ]
  },
  {
   "cell_type": "code",
   "execution_count": null,
   "metadata": {},
   "outputs": [],
   "source": [
    "df_product_reviews.dropna(subset=[\"review_score\"], inplace=True)\n",
    "df_product_reviews.isna().sum()"
   ]
  },
  {
   "cell_type": "markdown",
   "metadata": {},
   "source": [
    "#### **Data Cleaning - Finding Duplicates**"
   ]
  },
  {
   "cell_type": "code",
   "execution_count": null,
   "metadata": {},
   "outputs": [],
   "source": [
    "df_product_reviews[df_product_reviews.duplicated(keep=False)]"
   ]
  },
  {
   "cell_type": "code",
   "execution_count": null,
   "metadata": {},
   "outputs": [],
   "source": [
    "df_product_reviews.drop_duplicates(keep=\"first\", inplace=True)\n",
    "\n",
    "#Re-Check duplicates\n",
    "df_product_reviews[df_product_reviews.duplicated()]"
   ]
  },
  {
   "cell_type": "markdown",
   "metadata": {},
   "source": [
    "#### **Data Formatting and Manipulaton**"
   ]
  },
  {
   "cell_type": "code",
   "execution_count": null,
   "metadata": {},
   "outputs": [],
   "source": [
    "df_product_reviews.replace(new_product_name, inplace=True)\n",
    "df_product_reviews[\"product_name\"].head()"
   ]
  },
  {
   "cell_type": "code",
   "execution_count": null,
   "metadata": {},
   "outputs": [],
   "source": [
    "df_product_reviews.info()"
   ]
  },
  {
   "cell_type": "code",
   "execution_count": null,
   "metadata": {},
   "outputs": [],
   "source": [
    "df_product_reviews = df_product_reviews.astype({\"review_score\": \"int64\"})\n",
    "df_product_reviews.info()"
   ]
  },
  {
   "cell_type": "markdown",
   "metadata": {},
   "source": [
    "#### **Group and Transform Data**"
   ]
  },
  {
   "cell_type": "code",
   "execution_count": null,
   "metadata": {},
   "outputs": [],
   "source": [
    "df_review_analysis = df_product_reviews.groupby(\"review_score\").agg(\"count\")\n",
    "df_review_analysis.head()"
   ]
  },
  {
   "cell_type": "code",
   "execution_count": null,
   "metadata": {},
   "outputs": [],
   "source": [
    "df_review_analysis.reset_index(inplace=True)\n",
    "df_review_analysis.head()"
   ]
  },
  {
   "cell_type": "markdown",
   "metadata": {},
   "source": [
    "### **Data Analysis**"
   ]
  },
  {
   "cell_type": "code",
   "execution_count": null,
   "metadata": {},
   "outputs": [],
   "source": [
    "# Colors\n",
    "colors = ['#FF0000', '#0000FF', '#FFFF00', \n",
    "          '#ADFF2F', '#FFA500']\n",
    "\n",
    "explode = (0.05, 0.05, 0.05, 0.05, 0.05)\n",
    "\n",
    "\n",
    "plt.pie(df_review_analysis[\"product_name\"],\n",
    "        colors=colors, labels=df_review_analysis[\"review_score\"],\n",
    "        autopct=\"%1.1f%%\", pctdistance=0.85, explode=explode)\n",
    "\n",
    "centre_circle = plt.Circle((0, 0), 0.70, fc=\"white\")\n",
    "fig = plt.gcf()\n",
    "\n",
    "fig.gca().add_artist(centre_circle)\n",
    "\n",
    "plt.show()"
   ]
  },
  {
   "cell_type": "markdown",
   "metadata": {},
   "source": [
    "### **Case 2: Analyzing products ordered by sellers**"
   ]
  },
  {
   "cell_type": "markdown",
   "metadata": {},
   "source": [
    "#### **Loading data and show basic table information**"
   ]
  },
  {
   "cell_type": "code",
   "execution_count": null,
   "metadata": {},
   "outputs": [],
   "source": [
    "df_sellers_products = pd.read_sql(sellers_sold_items, connection)\n",
    "df_sellers_products.head()"
   ]
  },
  {
   "cell_type": "code",
   "execution_count": null,
   "metadata": {},
   "outputs": [],
   "source": [
    "print(\"Data Frame Shape: \", df_sellers_products.shape)\n",
    "print(\"\\nData Frame information\")\n",
    "df_sellers_products.info()"
   ]
  },
  {
   "cell_type": "code",
   "execution_count": null,
   "metadata": {},
   "outputs": [],
   "source": [
    "df_sellers_products.isnull().sum()"
   ]
  },
  {
   "cell_type": "markdown",
   "metadata": {},
   "source": [
    "#### **Data Cleaning - Finding missing data**"
   ]
  },
  {
   "cell_type": "code",
   "execution_count": null,
   "metadata": {},
   "outputs": [],
   "source": [
    "df_sellers_products.isnull().sum()"
   ]
  },
  {
   "cell_type": "code",
   "execution_count": null,
   "metadata": {},
   "outputs": [],
   "source": [
    "df_sellers_products[df_sellers_products[\"product_name\"].isnull()]"
   ]
  },
  {
   "cell_type": "code",
   "execution_count": null,
   "metadata": {},
   "outputs": [],
   "source": [
    "df_sellers_products[\"product_name\"].fillna(\"Unknown\", inplace=True)\n",
    "\n",
    "# Re-Checking missing values\n",
    "df_sellers_products.isna().sum()"
   ]
  },
  {
   "cell_type": "markdown",
   "metadata": {},
   "source": [
    "#### **Data Cleaning - Finding Duplicates**"
   ]
  },
  {
   "cell_type": "code",
   "execution_count": null,
   "metadata": {},
   "outputs": [],
   "source": [
    "df_sellers_products[df_sellers_products.duplicated(keep=False)]"
   ]
  },
  {
   "cell_type": "code",
   "execution_count": null,
   "metadata": {},
   "outputs": [],
   "source": [
    "df_sellers_products.drop_duplicates(keep=\"first\", inplace=True)\n",
    "\n",
    "# Re-checking duplcates\n",
    "df_sellers_products[df_sellers_products.duplicated()]"
   ]
  },
  {
   "cell_type": "markdown",
   "metadata": {},
   "source": [
    "#### **Data Formatting and Manipulaton**"
   ]
  },
  {
   "cell_type": "code",
   "execution_count": null,
   "metadata": {},
   "outputs": [],
   "source": [
    "df_sellers_products.replace(new_product_name, inplace=True)\n",
    "df_sellers_products[\"product_name\"].head()"
   ]
  },
  {
   "cell_type": "markdown",
   "metadata": {},
   "source": [
    "#### **Group and Transform Data**"
   ]
  },
  {
   "cell_type": "code",
   "execution_count": null,
   "metadata": {},
   "outputs": [],
   "source": [
    "df_sellers_analysis = df_sellers_products.groupby(\"product_name\").agg(\"count\")\n",
    "df_sellers_analysis.head()"
   ]
  },
  {
   "cell_type": "code",
   "execution_count": null,
   "metadata": {},
   "outputs": [],
   "source": [
    "df_sellers_analysis.reset_index(inplace=True)"
   ]
  },
  {
   "cell_type": "markdown",
   "metadata": {},
   "source": [
    "### **Data Analysis**"
   ]
  },
  {
   "cell_type": "code",
   "execution_count": null,
   "metadata": {},
   "outputs": [],
   "source": [
    "sellers_products = df_sellers_analysis.sort_values(\"seller_id\", ascending=False)[:20]\n",
    "\n",
    "\n",
    "# Create chart\n",
    "plt.figure(figsize=(10, 7))\n",
    "\n",
    "ax1 = sns.barplot(x=\"seller_id\", y=\"product_name\",\n",
    "                  palette=\"YlGnBu_r\", data=sellers_products)\n",
    "\n",
    "# Adding data label into the graph\n",
    "ax1.bar_label(ax1.containers[0])\n",
    "\n",
    "# Adding table name and axes labels\n",
    "plt.title(\"Top 20 Most Ordered Products By Sellers\")\n",
    "plt.xlabel(\"Number of Orders\")\n",
    "plt.ylabel(\"Product Name\")\n",
    "plt.show()"
   ]
  }
 ],
 "metadata": {
  "kernelspec": {
   "display_name": "Python 3.10.0 64-bit",
   "language": "python",
   "name": "python3"
  },
  "language_info": {
   "codemirror_mode": {
    "name": "ipython",
    "version": 3
   },
   "file_extension": ".py",
   "mimetype": "text/x-python",
   "name": "python",
   "nbconvert_exporter": "python",
   "pygments_lexer": "ipython3",
   "version": "3.10.0"
  },
  "orig_nbformat": 4,
  "vscode": {
   "interpreter": {
    "hash": "ec71345ca5d37a0e9a74c52dd4df8f08155a9116efa2c99cb350734e2b4aad3e"
   }
  }
 },
 "nbformat": 4,
 "nbformat_minor": 2
}
