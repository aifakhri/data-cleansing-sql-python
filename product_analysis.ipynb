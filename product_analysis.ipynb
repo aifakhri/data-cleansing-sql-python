{
 "cells": [
  {
   "cell_type": "code",
   "execution_count": 1,
   "metadata": {},
   "outputs": [],
   "source": [
    "import matplotlib.pyplot as plt\n",
    "import pandas as pd\n",
    "import seaborn as sns\n",
    "\n",
    "from sql_queries import main_query\n",
    "from common_functions import open_connection, translate_products"
   ]
  },
  {
   "cell_type": "markdown",
   "metadata": {},
   "source": [
    "### **Basic Setup**"
   ]
  },
  {
   "cell_type": "markdown",
   "metadata": {},
   "source": [
    "#### **Functions**"
   ]
  },
  {
   "cell_type": "code",
   "execution_count": 2,
   "metadata": {},
   "outputs": [],
   "source": [
    "def missing_value_table(data):\n",
    "    \"\"\"Creating Summary Table for Missing Value in Dataset\n",
    "\n",
    "    Creating Table containing total of missing value and its percentage\n",
    "    of each feature/column on the dataset.\n",
    "\n",
    "    Parameters\n",
    "    ----------\n",
    "    data : pandas.DataFrame\n",
    "        The data we want to get the missing value\n",
    "\n",
    "    Returns\n",
    "    -------\n",
    "    table : pandas.DataFrame\n",
    "        Summary Table for Missing Value\n",
    "    \"\"\"\n",
    "    \n",
    "    missing_value_count = data.isna().sum()\n",
    "    missing_value_percent = ((data.isna().sum()/data.count())*100).round(3)\n",
    "\n",
    "    content = {\n",
    "            \"Missing Data\": missing_value_count, \n",
    "            \"Percentage (%)\": missing_value_percent\n",
    "        }\n",
    "\n",
    "    table = pd.DataFrame(content)\n",
    "    return table\n"
   ]
  },
  {
   "cell_type": "code",
   "execution_count": 3,
   "metadata": {},
   "outputs": [],
   "source": [
    "def outliers_table(data, col_name, replace=False):\n",
    "    \"\"\"Create outliers table and replace outliers\n",
    "    \n",
    "    Parameters\n",
    "    ----------\n",
    "    data : pandas.DataFrame\n",
    "        pandas data frame object\n",
    "    col_name : str\n",
    "        name of the data frame columns\n",
    "    replace : bool\n",
    "        whether outliers would be replaced or not\n",
    "\n",
    "    Returns\n",
    "    -------\n",
    "    outliers : pandas.DataFrame\n",
    "        the outliers table in data frame\n",
    "    \"\"\"\n",
    "\n",
    "    q1 = data[col_name].quantile(.25)\n",
    "    q3 = data[col_name].quantile(.75)\n",
    "    iqr = q3 - q1\n",
    "\n",
    "    lower_iqr = data[col_name] < q1 - 1.5*iqr\n",
    "    upper_iqr = data[col_name] > q3 + 1.5*iqr\n",
    "\n",
    "    if replace:\n",
    "        new_outliers_value = data[col_name].median()\n",
    "        data.loc[lower_iqr | upper_iqr, col_name] = new_outliers_value\n",
    "        data[lower_iqr | upper_iqr][col_name].head()\n",
    "    else:\n",
    "        outliers = data[lower_iqr | upper_iqr]\n",
    "        return outliers\n"
   ]
  },
  {
   "cell_type": "code",
   "execution_count": 4,
   "metadata": {},
   "outputs": [],
   "source": [
    "import textwrap\n",
    "\n",
    "\n",
    "def wrap_labels(ax, width, break_long_words=False):\n",
    "    \"\"\"Wrapping Graph xtick value\n",
    "    \n",
    "    Parameters:\n",
    "    -----------\n",
    "    ax : matplotlib.Axes\n",
    "        Matplotlib Axes object\n",
    "    width : int\n",
    "        Maximum allowed text width\n",
    "    break_long_words : boolean\n",
    "        Break text if it is too long\n",
    "    \"\"\"\n",
    "    \n",
    "    labels = []\n",
    "    for label in ax.get_xticklabels():\n",
    "        text = label.get_text()\n",
    "        labels.append(textwrap.fill(text, width=width,\n",
    "                    break_long_words=break_long_words))\n",
    "    \n",
    "    ax.set_xticklabels(labels, rotation=0)"
   ]
  },
  {
   "cell_type": "markdown",
   "metadata": {},
   "source": [
    "#### **Import Query and Get Basic Info of the Table**"
   ]
  },
  {
   "cell_type": "code",
   "execution_count": 5,
   "metadata": {},
   "outputs": [
    {
     "name": "stdout",
     "output_type": "stream",
     "text": [
      "Connection is successful\n"
     ]
    }
   ],
   "source": [
    "connection = open_connection(\"olist.db\")"
   ]
  },
  {
   "cell_type": "code",
   "execution_count": 6,
   "metadata": {},
   "outputs": [],
   "source": [
    "df_main = pd.read_sql(main_query, connection)"
   ]
  },
  {
   "cell_type": "code",
   "execution_count": 7,
   "metadata": {},
   "outputs": [
    {
     "name": "stdout",
     "output_type": "stream",
     "text": [
      "Dataset Shape: (114092, 6)\n",
      "\n",
      "<class 'pandas.core.frame.DataFrame'>\n",
      "RangeIndex: 114092 entries, 0 to 114091\n",
      "Data columns (total 6 columns):\n",
      " #   Column         Non-Null Count   Dtype  \n",
      "---  ------         --------------   -----  \n",
      " 0   order_id       114092 non-null  object \n",
      " 1   order_item_id  113314 non-null  float64\n",
      " 2   seller_id      113314 non-null  object \n",
      " 3   product_name   111702 non-null  object \n",
      " 4   price          113314 non-null  float64\n",
      " 5   review_score   113131 non-null  float64\n",
      "dtypes: float64(3), object(3)\n",
      "memory usage: 5.2+ MB\n"
     ]
    }
   ],
   "source": [
    "print(f\"Dataset Shape: {df_main.shape}\\n\")\n",
    "df_main.info()"
   ]
  },
  {
   "cell_type": "markdown",
   "metadata": {},
   "source": [
    "### **Data Processing**"
   ]
  },
  {
   "cell_type": "markdown",
   "metadata": {},
   "source": [
    "#### **Finding Missing Values**"
   ]
  },
  {
   "cell_type": "code",
   "execution_count": 8,
   "metadata": {},
   "outputs": [
    {
     "data": {
      "text/html": [
       "<div>\n",
       "<style scoped>\n",
       "    .dataframe tbody tr th:only-of-type {\n",
       "        vertical-align: middle;\n",
       "    }\n",
       "\n",
       "    .dataframe tbody tr th {\n",
       "        vertical-align: top;\n",
       "    }\n",
       "\n",
       "    .dataframe thead th {\n",
       "        text-align: right;\n",
       "    }\n",
       "</style>\n",
       "<table border=\"1\" class=\"dataframe\">\n",
       "  <thead>\n",
       "    <tr style=\"text-align: right;\">\n",
       "      <th></th>\n",
       "      <th>Missing Data</th>\n",
       "      <th>Percentage (%)</th>\n",
       "    </tr>\n",
       "  </thead>\n",
       "  <tbody>\n",
       "    <tr>\n",
       "      <th>order_id</th>\n",
       "      <td>0</td>\n",
       "      <td>0.000</td>\n",
       "    </tr>\n",
       "    <tr>\n",
       "      <th>order_item_id</th>\n",
       "      <td>778</td>\n",
       "      <td>0.687</td>\n",
       "    </tr>\n",
       "    <tr>\n",
       "      <th>seller_id</th>\n",
       "      <td>778</td>\n",
       "      <td>0.687</td>\n",
       "    </tr>\n",
       "    <tr>\n",
       "      <th>product_name</th>\n",
       "      <td>2390</td>\n",
       "      <td>2.140</td>\n",
       "    </tr>\n",
       "    <tr>\n",
       "      <th>price</th>\n",
       "      <td>778</td>\n",
       "      <td>0.687</td>\n",
       "    </tr>\n",
       "    <tr>\n",
       "      <th>review_score</th>\n",
       "      <td>961</td>\n",
       "      <td>0.849</td>\n",
       "    </tr>\n",
       "  </tbody>\n",
       "</table>\n",
       "</div>"
      ],
      "text/plain": [
       "               Missing Data  Percentage (%)\n",
       "order_id                  0           0.000\n",
       "order_item_id           778           0.687\n",
       "seller_id               778           0.687\n",
       "product_name           2390           2.140\n",
       "price                   778           0.687\n",
       "review_score            961           0.849"
      ]
     },
     "execution_count": 8,
     "metadata": {},
     "output_type": "execute_result"
    }
   ],
   "source": [
    "missing_value_table(df_main)"
   ]
  },
  {
   "cell_type": "markdown",
   "metadata": {},
   "source": [
    "##### Processing - Product Name Missing Value "
   ]
  },
  {
   "cell_type": "code",
   "execution_count": 9,
   "metadata": {},
   "outputs": [
    {
     "data": {
      "text/html": [
       "<div>\n",
       "<style scoped>\n",
       "    .dataframe tbody tr th:only-of-type {\n",
       "        vertical-align: middle;\n",
       "    }\n",
       "\n",
       "    .dataframe tbody tr th {\n",
       "        vertical-align: top;\n",
       "    }\n",
       "\n",
       "    .dataframe thead th {\n",
       "        text-align: right;\n",
       "    }\n",
       "</style>\n",
       "<table border=\"1\" class=\"dataframe\">\n",
       "  <thead>\n",
       "    <tr style=\"text-align: right;\">\n",
       "      <th></th>\n",
       "      <th>order_id</th>\n",
       "      <th>order_item_id</th>\n",
       "      <th>seller_id</th>\n",
       "      <th>product_name</th>\n",
       "      <th>price</th>\n",
       "      <th>review_score</th>\n",
       "    </tr>\n",
       "  </thead>\n",
       "  <tbody>\n",
       "    <tr>\n",
       "      <th>6</th>\n",
       "      <td>136cce7faa42fdb2cefd53fdc79a6098</td>\n",
       "      <td>1.0</td>\n",
       "      <td>dc8798cbf453b7e0f98745e396cc5616</td>\n",
       "      <td>None</td>\n",
       "      <td>49.90</td>\n",
       "      <td>2.0</td>\n",
       "    </tr>\n",
       "    <tr>\n",
       "      <th>122</th>\n",
       "      <td>bfe42c22ecbf90bc9f35cf591270b6a7</td>\n",
       "      <td>1.0</td>\n",
       "      <td>e5a3438891c0bfdb9394643f95273d8e</td>\n",
       "      <td>None</td>\n",
       "      <td>27.30</td>\n",
       "      <td>5.0</td>\n",
       "    </tr>\n",
       "    <tr>\n",
       "      <th>212</th>\n",
       "      <td>58ac1947c1a9067b9f416cba6d844a3f</td>\n",
       "      <td>1.0</td>\n",
       "      <td>520b493b57809f446cb0a233bb3e25c7</td>\n",
       "      <td>None</td>\n",
       "      <td>110.00</td>\n",
       "      <td>5.0</td>\n",
       "    </tr>\n",
       "    <tr>\n",
       "      <th>264</th>\n",
       "      <td>e22b71f6e4a481445ec4527cb4c405f7</td>\n",
       "      <td>1.0</td>\n",
       "      <td>6cd68b3ed6d59aaa9fece558ad360c0a</td>\n",
       "      <td>None</td>\n",
       "      <td>22.50</td>\n",
       "      <td>4.0</td>\n",
       "    </tr>\n",
       "    <tr>\n",
       "      <th>303</th>\n",
       "      <td>a094215e786240fcfefb83d18036a1cd</td>\n",
       "      <td>1.0</td>\n",
       "      <td>c826c40d7b19f62a09e2d7c5e7295ee2</td>\n",
       "      <td>None</td>\n",
       "      <td>122.99</td>\n",
       "      <td>5.0</td>\n",
       "    </tr>\n",
       "    <tr>\n",
       "      <th>...</th>\n",
       "      <td>...</td>\n",
       "      <td>...</td>\n",
       "      <td>...</td>\n",
       "      <td>...</td>\n",
       "      <td>...</td>\n",
       "      <td>...</td>\n",
       "    </tr>\n",
       "    <tr>\n",
       "      <th>113871</th>\n",
       "      <td>aaab15da689073f8f9aa978a390a69d1</td>\n",
       "      <td>NaN</td>\n",
       "      <td>None</td>\n",
       "      <td>None</td>\n",
       "      <td>NaN</td>\n",
       "      <td>1.0</td>\n",
       "    </tr>\n",
       "    <tr>\n",
       "      <th>113903</th>\n",
       "      <td>3a3cddda5a7c27851bd96c3313412840</td>\n",
       "      <td>NaN</td>\n",
       "      <td>None</td>\n",
       "      <td>None</td>\n",
       "      <td>NaN</td>\n",
       "      <td>5.0</td>\n",
       "    </tr>\n",
       "    <tr>\n",
       "      <th>113991</th>\n",
       "      <td>a89abace0dcc01eeb267a9660b5ac126</td>\n",
       "      <td>NaN</td>\n",
       "      <td>None</td>\n",
       "      <td>None</td>\n",
       "      <td>NaN</td>\n",
       "      <td>4.0</td>\n",
       "    </tr>\n",
       "    <tr>\n",
       "      <th>113992</th>\n",
       "      <td>a69ba794cc7deb415c3e15a0a3877e69</td>\n",
       "      <td>NaN</td>\n",
       "      <td>None</td>\n",
       "      <td>None</td>\n",
       "      <td>NaN</td>\n",
       "      <td>1.0</td>\n",
       "    </tr>\n",
       "    <tr>\n",
       "      <th>114064</th>\n",
       "      <td>5fabc81b6322c8443648e1b21a6fef21</td>\n",
       "      <td>NaN</td>\n",
       "      <td>None</td>\n",
       "      <td>None</td>\n",
       "      <td>NaN</td>\n",
       "      <td>1.0</td>\n",
       "    </tr>\n",
       "  </tbody>\n",
       "</table>\n",
       "<p>2390 rows × 6 columns</p>\n",
       "</div>"
      ],
      "text/plain": [
       "                                order_id  order_item_id  \\\n",
       "6       136cce7faa42fdb2cefd53fdc79a6098            1.0   \n",
       "122     bfe42c22ecbf90bc9f35cf591270b6a7            1.0   \n",
       "212     58ac1947c1a9067b9f416cba6d844a3f            1.0   \n",
       "264     e22b71f6e4a481445ec4527cb4c405f7            1.0   \n",
       "303     a094215e786240fcfefb83d18036a1cd            1.0   \n",
       "...                                  ...            ...   \n",
       "113871  aaab15da689073f8f9aa978a390a69d1            NaN   \n",
       "113903  3a3cddda5a7c27851bd96c3313412840            NaN   \n",
       "113991  a89abace0dcc01eeb267a9660b5ac126            NaN   \n",
       "113992  a69ba794cc7deb415c3e15a0a3877e69            NaN   \n",
       "114064  5fabc81b6322c8443648e1b21a6fef21            NaN   \n",
       "\n",
       "                               seller_id product_name   price  review_score  \n",
       "6       dc8798cbf453b7e0f98745e396cc5616         None   49.90           2.0  \n",
       "122     e5a3438891c0bfdb9394643f95273d8e         None   27.30           5.0  \n",
       "212     520b493b57809f446cb0a233bb3e25c7         None  110.00           5.0  \n",
       "264     6cd68b3ed6d59aaa9fece558ad360c0a         None   22.50           4.0  \n",
       "303     c826c40d7b19f62a09e2d7c5e7295ee2         None  122.99           5.0  \n",
       "...                                  ...          ...     ...           ...  \n",
       "113871                              None         None     NaN           1.0  \n",
       "113903                              None         None     NaN           5.0  \n",
       "113991                              None         None     NaN           4.0  \n",
       "113992                              None         None     NaN           1.0  \n",
       "114064                              None         None     NaN           1.0  \n",
       "\n",
       "[2390 rows x 6 columns]"
      ]
     },
     "execution_count": 9,
     "metadata": {},
     "output_type": "execute_result"
    }
   ],
   "source": [
    "df_main[df_main[\"product_name\"].isna()]"
   ]
  },
  {
   "cell_type": "code",
   "execution_count": 10,
   "metadata": {},
   "outputs": [
    {
     "data": {
      "text/html": [
       "<div>\n",
       "<style scoped>\n",
       "    .dataframe tbody tr th:only-of-type {\n",
       "        vertical-align: middle;\n",
       "    }\n",
       "\n",
       "    .dataframe tbody tr th {\n",
       "        vertical-align: top;\n",
       "    }\n",
       "\n",
       "    .dataframe thead th {\n",
       "        text-align: right;\n",
       "    }\n",
       "</style>\n",
       "<table border=\"1\" class=\"dataframe\">\n",
       "  <thead>\n",
       "    <tr style=\"text-align: right;\">\n",
       "      <th></th>\n",
       "      <th>product_id</th>\n",
       "      <th>product_name</th>\n",
       "    </tr>\n",
       "  </thead>\n",
       "  <tbody>\n",
       "    <tr>\n",
       "      <th>105</th>\n",
       "      <td>a41e356c76fab66334f36de622ecbd3a</td>\n",
       "      <td>None</td>\n",
       "    </tr>\n",
       "    <tr>\n",
       "      <th>128</th>\n",
       "      <td>d8dee61c2034d6d075997acef1870e9b</td>\n",
       "      <td>None</td>\n",
       "    </tr>\n",
       "    <tr>\n",
       "      <th>145</th>\n",
       "      <td>56139431d72cd51f19eb9f7dae4d1617</td>\n",
       "      <td>None</td>\n",
       "    </tr>\n",
       "    <tr>\n",
       "      <th>154</th>\n",
       "      <td>46b48281eb6d663ced748f324108c733</td>\n",
       "      <td>None</td>\n",
       "    </tr>\n",
       "    <tr>\n",
       "      <th>197</th>\n",
       "      <td>5fb61f482620cb672f5e586bb132eae9</td>\n",
       "      <td>None</td>\n",
       "    </tr>\n",
       "    <tr>\n",
       "      <th>...</th>\n",
       "      <td>...</td>\n",
       "      <td>...</td>\n",
       "    </tr>\n",
       "    <tr>\n",
       "      <th>32515</th>\n",
       "      <td>b0a0c5dd78e644373b199380612c350a</td>\n",
       "      <td>None</td>\n",
       "    </tr>\n",
       "    <tr>\n",
       "      <th>32589</th>\n",
       "      <td>10dbe0fbaa2c505123c17fdc34a63c56</td>\n",
       "      <td>None</td>\n",
       "    </tr>\n",
       "    <tr>\n",
       "      <th>32616</th>\n",
       "      <td>bd2ada37b58ae94cc838b9c0569fecd8</td>\n",
       "      <td>None</td>\n",
       "    </tr>\n",
       "    <tr>\n",
       "      <th>32772</th>\n",
       "      <td>fa51e914046aab32764c41356b9d4ea4</td>\n",
       "      <td>None</td>\n",
       "    </tr>\n",
       "    <tr>\n",
       "      <th>32852</th>\n",
       "      <td>c4ceee876c82b8328e9c293fa0e1989b</td>\n",
       "      <td>None</td>\n",
       "    </tr>\n",
       "  </tbody>\n",
       "</table>\n",
       "<p>610 rows × 2 columns</p>\n",
       "</div>"
      ],
      "text/plain": [
       "                             product_id product_name\n",
       "105    a41e356c76fab66334f36de622ecbd3a         None\n",
       "128    d8dee61c2034d6d075997acef1870e9b         None\n",
       "145    56139431d72cd51f19eb9f7dae4d1617         None\n",
       "154    46b48281eb6d663ced748f324108c733         None\n",
       "197    5fb61f482620cb672f5e586bb132eae9         None\n",
       "...                                 ...          ...\n",
       "32515  b0a0c5dd78e644373b199380612c350a         None\n",
       "32589  10dbe0fbaa2c505123c17fdc34a63c56         None\n",
       "32616  bd2ada37b58ae94cc838b9c0569fecd8         None\n",
       "32772  fa51e914046aab32764c41356b9d4ea4         None\n",
       "32852  c4ceee876c82b8328e9c293fa0e1989b         None\n",
       "\n",
       "[610 rows x 2 columns]"
      ]
     },
     "execution_count": 10,
     "metadata": {},
     "output_type": "execute_result"
    }
   ],
   "source": [
    "# Check the missing value on the initial table in the database\n",
    "product_table_query = \"\"\"\n",
    "SELECT\n",
    "    product_id,\n",
    "    product_category_name as product_name\n",
    "FROM olist_products_dataset\n",
    "\"\"\"\n",
    "df_product_table = pd.read_sql(product_table_query, connection)\n",
    "\n",
    "df_product_table[df_product_table[\"product_name\"].isna()]"
   ]
  },
  {
   "cell_type": "code",
   "execution_count": 11,
   "metadata": {},
   "outputs": [
    {
     "data": {
      "text/html": [
       "<div>\n",
       "<style scoped>\n",
       "    .dataframe tbody tr th:only-of-type {\n",
       "        vertical-align: middle;\n",
       "    }\n",
       "\n",
       "    .dataframe tbody tr th {\n",
       "        vertical-align: top;\n",
       "    }\n",
       "\n",
       "    .dataframe thead th {\n",
       "        text-align: right;\n",
       "    }\n",
       "</style>\n",
       "<table border=\"1\" class=\"dataframe\">\n",
       "  <thead>\n",
       "    <tr style=\"text-align: right;\">\n",
       "      <th></th>\n",
       "      <th>Missing Data</th>\n",
       "      <th>Percentage (%)</th>\n",
       "    </tr>\n",
       "  </thead>\n",
       "  <tbody>\n",
       "    <tr>\n",
       "      <th>order_id</th>\n",
       "      <td>0</td>\n",
       "      <td>0.000</td>\n",
       "    </tr>\n",
       "    <tr>\n",
       "      <th>order_item_id</th>\n",
       "      <td>778</td>\n",
       "      <td>0.687</td>\n",
       "    </tr>\n",
       "    <tr>\n",
       "      <th>seller_id</th>\n",
       "      <td>778</td>\n",
       "      <td>0.687</td>\n",
       "    </tr>\n",
       "    <tr>\n",
       "      <th>product_name</th>\n",
       "      <td>0</td>\n",
       "      <td>0.000</td>\n",
       "    </tr>\n",
       "    <tr>\n",
       "      <th>price</th>\n",
       "      <td>778</td>\n",
       "      <td>0.687</td>\n",
       "    </tr>\n",
       "    <tr>\n",
       "      <th>review_score</th>\n",
       "      <td>961</td>\n",
       "      <td>0.849</td>\n",
       "    </tr>\n",
       "  </tbody>\n",
       "</table>\n",
       "</div>"
      ],
      "text/plain": [
       "               Missing Data  Percentage (%)\n",
       "order_id                  0           0.000\n",
       "order_item_id           778           0.687\n",
       "seller_id               778           0.687\n",
       "product_name              0           0.000\n",
       "price                   778           0.687\n",
       "review_score            961           0.849"
      ]
     },
     "execution_count": 11,
     "metadata": {},
     "output_type": "execute_result"
    }
   ],
   "source": [
    "# Replacing Missing Value in the product_name column\n",
    "df_main[\"product_name\"].fillna(\"Unknown\", inplace=True)\n",
    "\n",
    "missing_value_table(df_main)"
   ]
  },
  {
   "cell_type": "markdown",
   "metadata": {},
   "source": [
    "##### Processing - seller_id, review_score, price Missing Value "
   ]
  },
  {
   "cell_type": "code",
   "execution_count": 12,
   "metadata": {},
   "outputs": [
    {
     "data": {
      "text/html": [
       "<div>\n",
       "<style scoped>\n",
       "    .dataframe tbody tr th:only-of-type {\n",
       "        vertical-align: middle;\n",
       "    }\n",
       "\n",
       "    .dataframe tbody tr th {\n",
       "        vertical-align: top;\n",
       "    }\n",
       "\n",
       "    .dataframe thead th {\n",
       "        text-align: right;\n",
       "    }\n",
       "</style>\n",
       "<table border=\"1\" class=\"dataframe\">\n",
       "  <thead>\n",
       "    <tr style=\"text-align: right;\">\n",
       "      <th></th>\n",
       "      <th>order_id</th>\n",
       "      <th>order_item_id</th>\n",
       "      <th>seller_id</th>\n",
       "      <th>product_name</th>\n",
       "      <th>price</th>\n",
       "      <th>review_score</th>\n",
       "    </tr>\n",
       "  </thead>\n",
       "  <tbody>\n",
       "    <tr>\n",
       "      <th>306</th>\n",
       "      <td>8e24261a7e58791d10cb1bf9da94df5c</td>\n",
       "      <td>NaN</td>\n",
       "      <td>None</td>\n",
       "      <td>Unknown</td>\n",
       "      <td>NaN</td>\n",
       "      <td>1.0</td>\n",
       "    </tr>\n",
       "    <tr>\n",
       "      <th>673</th>\n",
       "      <td>c272bcd21c287498b4883c7512019702</td>\n",
       "      <td>NaN</td>\n",
       "      <td>None</td>\n",
       "      <td>Unknown</td>\n",
       "      <td>NaN</td>\n",
       "      <td>3.0</td>\n",
       "    </tr>\n",
       "    <tr>\n",
       "      <th>798</th>\n",
       "      <td>37553832a3a89c9b2db59701c357ca67</td>\n",
       "      <td>NaN</td>\n",
       "      <td>None</td>\n",
       "      <td>Unknown</td>\n",
       "      <td>NaN</td>\n",
       "      <td>1.0</td>\n",
       "    </tr>\n",
       "    <tr>\n",
       "      <th>857</th>\n",
       "      <td>d57e15fb07fd180f06ab3926b39edcd2</td>\n",
       "      <td>NaN</td>\n",
       "      <td>None</td>\n",
       "      <td>Unknown</td>\n",
       "      <td>NaN</td>\n",
       "      <td>1.0</td>\n",
       "    </tr>\n",
       "    <tr>\n",
       "      <th>1304</th>\n",
       "      <td>00b1cb0320190ca0daa2c88b35206009</td>\n",
       "      <td>NaN</td>\n",
       "      <td>None</td>\n",
       "      <td>Unknown</td>\n",
       "      <td>NaN</td>\n",
       "      <td>1.0</td>\n",
       "    </tr>\n",
       "    <tr>\n",
       "      <th>...</th>\n",
       "      <td>...</td>\n",
       "      <td>...</td>\n",
       "      <td>...</td>\n",
       "      <td>...</td>\n",
       "      <td>...</td>\n",
       "      <td>...</td>\n",
       "    </tr>\n",
       "    <tr>\n",
       "      <th>113871</th>\n",
       "      <td>aaab15da689073f8f9aa978a390a69d1</td>\n",
       "      <td>NaN</td>\n",
       "      <td>None</td>\n",
       "      <td>Unknown</td>\n",
       "      <td>NaN</td>\n",
       "      <td>1.0</td>\n",
       "    </tr>\n",
       "    <tr>\n",
       "      <th>113903</th>\n",
       "      <td>3a3cddda5a7c27851bd96c3313412840</td>\n",
       "      <td>NaN</td>\n",
       "      <td>None</td>\n",
       "      <td>Unknown</td>\n",
       "      <td>NaN</td>\n",
       "      <td>5.0</td>\n",
       "    </tr>\n",
       "    <tr>\n",
       "      <th>113991</th>\n",
       "      <td>a89abace0dcc01eeb267a9660b5ac126</td>\n",
       "      <td>NaN</td>\n",
       "      <td>None</td>\n",
       "      <td>Unknown</td>\n",
       "      <td>NaN</td>\n",
       "      <td>4.0</td>\n",
       "    </tr>\n",
       "    <tr>\n",
       "      <th>113992</th>\n",
       "      <td>a69ba794cc7deb415c3e15a0a3877e69</td>\n",
       "      <td>NaN</td>\n",
       "      <td>None</td>\n",
       "      <td>Unknown</td>\n",
       "      <td>NaN</td>\n",
       "      <td>1.0</td>\n",
       "    </tr>\n",
       "    <tr>\n",
       "      <th>114064</th>\n",
       "      <td>5fabc81b6322c8443648e1b21a6fef21</td>\n",
       "      <td>NaN</td>\n",
       "      <td>None</td>\n",
       "      <td>Unknown</td>\n",
       "      <td>NaN</td>\n",
       "      <td>1.0</td>\n",
       "    </tr>\n",
       "  </tbody>\n",
       "</table>\n",
       "<p>778 rows × 6 columns</p>\n",
       "</div>"
      ],
      "text/plain": [
       "                                order_id  order_item_id seller_id  \\\n",
       "306     8e24261a7e58791d10cb1bf9da94df5c            NaN      None   \n",
       "673     c272bcd21c287498b4883c7512019702            NaN      None   \n",
       "798     37553832a3a89c9b2db59701c357ca67            NaN      None   \n",
       "857     d57e15fb07fd180f06ab3926b39edcd2            NaN      None   \n",
       "1304    00b1cb0320190ca0daa2c88b35206009            NaN      None   \n",
       "...                                  ...            ...       ...   \n",
       "113871  aaab15da689073f8f9aa978a390a69d1            NaN      None   \n",
       "113903  3a3cddda5a7c27851bd96c3313412840            NaN      None   \n",
       "113991  a89abace0dcc01eeb267a9660b5ac126            NaN      None   \n",
       "113992  a69ba794cc7deb415c3e15a0a3877e69            NaN      None   \n",
       "114064  5fabc81b6322c8443648e1b21a6fef21            NaN      None   \n",
       "\n",
       "       product_name  price  review_score  \n",
       "306         Unknown    NaN           1.0  \n",
       "673         Unknown    NaN           3.0  \n",
       "798         Unknown    NaN           1.0  \n",
       "857         Unknown    NaN           1.0  \n",
       "1304        Unknown    NaN           1.0  \n",
       "...             ...    ...           ...  \n",
       "113871      Unknown    NaN           1.0  \n",
       "113903      Unknown    NaN           5.0  \n",
       "113991      Unknown    NaN           4.0  \n",
       "113992      Unknown    NaN           1.0  \n",
       "114064      Unknown    NaN           1.0  \n",
       "\n",
       "[778 rows x 6 columns]"
      ]
     },
     "execution_count": 12,
     "metadata": {},
     "output_type": "execute_result"
    }
   ],
   "source": [
    "df_main[df_main[\"price\"].isna()]"
   ]
  },
  {
   "cell_type": "code",
   "execution_count": 13,
   "metadata": {},
   "outputs": [
    {
     "data": {
      "text/html": [
       "<div>\n",
       "<style scoped>\n",
       "    .dataframe tbody tr th:only-of-type {\n",
       "        vertical-align: middle;\n",
       "    }\n",
       "\n",
       "    .dataframe tbody tr th {\n",
       "        vertical-align: top;\n",
       "    }\n",
       "\n",
       "    .dataframe thead th {\n",
       "        text-align: right;\n",
       "    }\n",
       "</style>\n",
       "<table border=\"1\" class=\"dataframe\">\n",
       "  <thead>\n",
       "    <tr style=\"text-align: right;\">\n",
       "      <th></th>\n",
       "      <th>Missing Data</th>\n",
       "      <th>Percentage (%)</th>\n",
       "    </tr>\n",
       "  </thead>\n",
       "  <tbody>\n",
       "    <tr>\n",
       "      <th>order_id</th>\n",
       "      <td>0</td>\n",
       "      <td>0.0</td>\n",
       "    </tr>\n",
       "    <tr>\n",
       "      <th>order_item_id</th>\n",
       "      <td>0</td>\n",
       "      <td>0.0</td>\n",
       "    </tr>\n",
       "    <tr>\n",
       "      <th>seller_id</th>\n",
       "      <td>0</td>\n",
       "      <td>0.0</td>\n",
       "    </tr>\n",
       "    <tr>\n",
       "      <th>product_name</th>\n",
       "      <td>0</td>\n",
       "      <td>0.0</td>\n",
       "    </tr>\n",
       "    <tr>\n",
       "      <th>price</th>\n",
       "      <td>0</td>\n",
       "      <td>0.0</td>\n",
       "    </tr>\n",
       "    <tr>\n",
       "      <th>review_score</th>\n",
       "      <td>0</td>\n",
       "      <td>0.0</td>\n",
       "    </tr>\n",
       "  </tbody>\n",
       "</table>\n",
       "</div>"
      ],
      "text/plain": [
       "               Missing Data  Percentage (%)\n",
       "order_id                  0             0.0\n",
       "order_item_id             0             0.0\n",
       "seller_id                 0             0.0\n",
       "product_name              0             0.0\n",
       "price                     0             0.0\n",
       "review_score              0             0.0"
      ]
     },
     "execution_count": 13,
     "metadata": {},
     "output_type": "execute_result"
    }
   ],
   "source": [
    "df_main.dropna(inplace=True)\n",
    "\n",
    "missing_value_table(df_main)"
   ]
  },
  {
   "cell_type": "markdown",
   "metadata": {},
   "source": [
    "#### **Finding Duplicates**"
   ]
  },
  {
   "cell_type": "code",
   "execution_count": 14,
   "metadata": {},
   "outputs": [
    {
     "name": "stdout",
     "output_type": "stream",
     "text": [
      "Number of Duplicates:  794\n"
     ]
    },
    {
     "data": {
      "text/html": [
       "<div>\n",
       "<style scoped>\n",
       "    .dataframe tbody tr th:only-of-type {\n",
       "        vertical-align: middle;\n",
       "    }\n",
       "\n",
       "    .dataframe tbody tr th {\n",
       "        vertical-align: top;\n",
       "    }\n",
       "\n",
       "    .dataframe thead th {\n",
       "        text-align: right;\n",
       "    }\n",
       "</style>\n",
       "<table border=\"1\" class=\"dataframe\">\n",
       "  <thead>\n",
       "    <tr style=\"text-align: right;\">\n",
       "      <th></th>\n",
       "      <th>order_id</th>\n",
       "      <th>order_item_id</th>\n",
       "      <th>seller_id</th>\n",
       "      <th>product_name</th>\n",
       "      <th>price</th>\n",
       "      <th>review_score</th>\n",
       "    </tr>\n",
       "  </thead>\n",
       "  <tbody>\n",
       "    <tr>\n",
       "      <th>458</th>\n",
       "      <td>ac7a92560a9e99f0a0ab4988102f491b</td>\n",
       "      <td>1.0</td>\n",
       "      <td>b2479f944e1b90cf8a5de1bbfde284d6</td>\n",
       "      <td>cama_mesa_banho</td>\n",
       "      <td>89.99</td>\n",
       "      <td>1.0</td>\n",
       "    </tr>\n",
       "    <tr>\n",
       "      <th>459</th>\n",
       "      <td>ac7a92560a9e99f0a0ab4988102f491b</td>\n",
       "      <td>1.0</td>\n",
       "      <td>b2479f944e1b90cf8a5de1bbfde284d6</td>\n",
       "      <td>cama_mesa_banho</td>\n",
       "      <td>89.99</td>\n",
       "      <td>1.0</td>\n",
       "    </tr>\n",
       "    <tr>\n",
       "      <th>631</th>\n",
       "      <td>7845a2492ab1b4f2cf3d56c7b8da1446</td>\n",
       "      <td>1.0</td>\n",
       "      <td>4830e40640734fc1c52cd21127c341d4</td>\n",
       "      <td>moveis_decoracao</td>\n",
       "      <td>29.99</td>\n",
       "      <td>5.0</td>\n",
       "    </tr>\n",
       "    <tr>\n",
       "      <th>632</th>\n",
       "      <td>7845a2492ab1b4f2cf3d56c7b8da1446</td>\n",
       "      <td>1.0</td>\n",
       "      <td>4830e40640734fc1c52cd21127c341d4</td>\n",
       "      <td>moveis_decoracao</td>\n",
       "      <td>29.99</td>\n",
       "      <td>5.0</td>\n",
       "    </tr>\n",
       "    <tr>\n",
       "      <th>707</th>\n",
       "      <td>714fb133a6730ab81fa1d3c1b2007291</td>\n",
       "      <td>1.0</td>\n",
       "      <td>95f83f51203c626648c875dd41874c7f</td>\n",
       "      <td>moveis_decoracao</td>\n",
       "      <td>69.90</td>\n",
       "      <td>1.0</td>\n",
       "    </tr>\n",
       "    <tr>\n",
       "      <th>...</th>\n",
       "      <td>...</td>\n",
       "      <td>...</td>\n",
       "      <td>...</td>\n",
       "      <td>...</td>\n",
       "      <td>...</td>\n",
       "      <td>...</td>\n",
       "    </tr>\n",
       "    <tr>\n",
       "      <th>113633</th>\n",
       "      <td>2fcdb0c004a2a538d3dd724ea76916bd</td>\n",
       "      <td>1.0</td>\n",
       "      <td>c9c7905cffc4ef9ff9f113554423e671</td>\n",
       "      <td>telefonia</td>\n",
       "      <td>55.00</td>\n",
       "      <td>5.0</td>\n",
       "    </tr>\n",
       "    <tr>\n",
       "      <th>113674</th>\n",
       "      <td>dbfa3d8c05cc5d84083fc259a9feb5bc</td>\n",
       "      <td>1.0</td>\n",
       "      <td>6039e27294dc75811c0d8a39069f52c0</td>\n",
       "      <td>eletronicos</td>\n",
       "      <td>129.90</td>\n",
       "      <td>5.0</td>\n",
       "    </tr>\n",
       "    <tr>\n",
       "      <th>113675</th>\n",
       "      <td>dbfa3d8c05cc5d84083fc259a9feb5bc</td>\n",
       "      <td>1.0</td>\n",
       "      <td>6039e27294dc75811c0d8a39069f52c0</td>\n",
       "      <td>eletronicos</td>\n",
       "      <td>129.90</td>\n",
       "      <td>5.0</td>\n",
       "    </tr>\n",
       "    <tr>\n",
       "      <th>113820</th>\n",
       "      <td>79ce3a0a9eba49ff442b392ab05349a4</td>\n",
       "      <td>1.0</td>\n",
       "      <td>620c87c171fb2a6dd6e8bb4dec959fc6</td>\n",
       "      <td>beleza_saude</td>\n",
       "      <td>69.90</td>\n",
       "      <td>5.0</td>\n",
       "    </tr>\n",
       "    <tr>\n",
       "      <th>113821</th>\n",
       "      <td>79ce3a0a9eba49ff442b392ab05349a4</td>\n",
       "      <td>1.0</td>\n",
       "      <td>620c87c171fb2a6dd6e8bb4dec959fc6</td>\n",
       "      <td>beleza_saude</td>\n",
       "      <td>69.90</td>\n",
       "      <td>5.0</td>\n",
       "    </tr>\n",
       "  </tbody>\n",
       "</table>\n",
       "<p>794 rows × 6 columns</p>\n",
       "</div>"
      ],
      "text/plain": [
       "                                order_id  order_item_id  \\\n",
       "458     ac7a92560a9e99f0a0ab4988102f491b            1.0   \n",
       "459     ac7a92560a9e99f0a0ab4988102f491b            1.0   \n",
       "631     7845a2492ab1b4f2cf3d56c7b8da1446            1.0   \n",
       "632     7845a2492ab1b4f2cf3d56c7b8da1446            1.0   \n",
       "707     714fb133a6730ab81fa1d3c1b2007291            1.0   \n",
       "...                                  ...            ...   \n",
       "113633  2fcdb0c004a2a538d3dd724ea76916bd            1.0   \n",
       "113674  dbfa3d8c05cc5d84083fc259a9feb5bc            1.0   \n",
       "113675  dbfa3d8c05cc5d84083fc259a9feb5bc            1.0   \n",
       "113820  79ce3a0a9eba49ff442b392ab05349a4            1.0   \n",
       "113821  79ce3a0a9eba49ff442b392ab05349a4            1.0   \n",
       "\n",
       "                               seller_id      product_name   price  \\\n",
       "458     b2479f944e1b90cf8a5de1bbfde284d6   cama_mesa_banho   89.99   \n",
       "459     b2479f944e1b90cf8a5de1bbfde284d6   cama_mesa_banho   89.99   \n",
       "631     4830e40640734fc1c52cd21127c341d4  moveis_decoracao   29.99   \n",
       "632     4830e40640734fc1c52cd21127c341d4  moveis_decoracao   29.99   \n",
       "707     95f83f51203c626648c875dd41874c7f  moveis_decoracao   69.90   \n",
       "...                                  ...               ...     ...   \n",
       "113633  c9c7905cffc4ef9ff9f113554423e671         telefonia   55.00   \n",
       "113674  6039e27294dc75811c0d8a39069f52c0       eletronicos  129.90   \n",
       "113675  6039e27294dc75811c0d8a39069f52c0       eletronicos  129.90   \n",
       "113820  620c87c171fb2a6dd6e8bb4dec959fc6      beleza_saude   69.90   \n",
       "113821  620c87c171fb2a6dd6e8bb4dec959fc6      beleza_saude   69.90   \n",
       "\n",
       "        review_score  \n",
       "458              1.0  \n",
       "459              1.0  \n",
       "631              5.0  \n",
       "632              5.0  \n",
       "707              1.0  \n",
       "...              ...  \n",
       "113633           5.0  \n",
       "113674           5.0  \n",
       "113675           5.0  \n",
       "113820           5.0  \n",
       "113821           5.0  \n",
       "\n",
       "[794 rows x 6 columns]"
      ]
     },
     "execution_count": 14,
     "metadata": {},
     "output_type": "execute_result"
    }
   ],
   "source": [
    "n_duplicates = df_main.duplicated(keep=False).sum()\n",
    "\n",
    "print(\"Number of Duplicates: \", n_duplicates)\n",
    "df_main[df_main.duplicated(keep=False)]"
   ]
  },
  {
   "cell_type": "code",
   "execution_count": 15,
   "metadata": {},
   "outputs": [
    {
     "name": "stdout",
     "output_type": "stream",
     "text": [
      "Number of Duplicates:  0\n"
     ]
    },
    {
     "data": {
      "text/html": [
       "<div>\n",
       "<style scoped>\n",
       "    .dataframe tbody tr th:only-of-type {\n",
       "        vertical-align: middle;\n",
       "    }\n",
       "\n",
       "    .dataframe tbody tr th {\n",
       "        vertical-align: top;\n",
       "    }\n",
       "\n",
       "    .dataframe thead th {\n",
       "        text-align: right;\n",
       "    }\n",
       "</style>\n",
       "<table border=\"1\" class=\"dataframe\">\n",
       "  <thead>\n",
       "    <tr style=\"text-align: right;\">\n",
       "      <th></th>\n",
       "      <th>order_id</th>\n",
       "      <th>order_item_id</th>\n",
       "      <th>seller_id</th>\n",
       "      <th>product_name</th>\n",
       "      <th>price</th>\n",
       "      <th>review_score</th>\n",
       "    </tr>\n",
       "  </thead>\n",
       "  <tbody>\n",
       "  </tbody>\n",
       "</table>\n",
       "</div>"
      ],
      "text/plain": [
       "Empty DataFrame\n",
       "Columns: [order_id, order_item_id, seller_id, product_name, price, review_score]\n",
       "Index: []"
      ]
     },
     "execution_count": 15,
     "metadata": {},
     "output_type": "execute_result"
    }
   ],
   "source": [
    "# Removing duplicates\n",
    "df_main.drop_duplicates(keep=\"first\", inplace=True)\n",
    "\n",
    "# Re-check duplicates\n",
    "n_duplicates = df_main.duplicated(keep=False).sum()\n",
    "\n",
    "print(\"Number of Duplicates: \", n_duplicates)\n",
    "df_main[df_main.duplicated(keep=False)]"
   ]
  },
  {
   "cell_type": "markdown",
   "metadata": {},
   "source": [
    "#### **Handling Outliers**"
   ]
  },
  {
   "cell_type": "code",
   "execution_count": 16,
   "metadata": {},
   "outputs": [
    {
     "data": {
      "image/png": "[encoded data removed]",
      "text/plain": [
       "<Figure size 432x288 with 1 Axes>"
      ]
     },
     "metadata": {
      "needs_background": "light"
     },
     "output_type": "display_data"
    }
   ],
   "source": [
    "# Create Boxplot\n",
    "sns.boxplot(x=df_main[\"price\"])\n",
    "\n",
    "#Modify Graph Info\n",
    "plt.title(\"Outliers on Price Data\")\n",
    "plt.xlabel(\"Price\")\n",
    "plt.show()"
   ]
  },
  {
   "cell_type": "code",
   "execution_count": 17,
   "metadata": {},
   "outputs": [
    {
     "name": "stdout",
     "output_type": "stream",
     "text": [
      "Number of Outliers:  8357\n",
      "Total of Datapoints:  111973\n",
      "Outliers to Total Data Percentage: 7.463%\n"
     ]
    }
   ],
   "source": [
    "outliers = outliers_table(df_main, \"price\")\n",
    "\n",
    "print(\"Number of Outliers: \", outliers[\"price\"].count())\n",
    "print(\"Total of Datapoints: \", df_main[\"price\"].count())\n",
    "print(\"Outliers to Total Data Percentage: \"\\\n",
    "      + f\"{round((outliers['price'].count()/df_main['price'].count())*100, 3)}%\")"
   ]
  },
  {
   "cell_type": "code",
   "execution_count": 18,
   "metadata": {},
   "outputs": [
    {
     "data": {
      "image/png": "[encoded data removed]",
      "text/plain": [
       "<Figure size 432x288 with 1 Axes>"
      ]
     },
     "metadata": {
      "needs_background": "light"
     },
     "output_type": "display_data"
    }
   ],
   "source": [
    "outliers_table(df_main, \"price\", replace=True)\n",
    "\n",
    "# Create Boxplot\n",
    "sns.boxplot(x=df_main[\"price\"])\n",
    "\n",
    "#Modify Graph Info\n",
    "plt.title(\"Outliers on Price Data\")\n",
    "plt.xlabel(\"Price\")\n",
    "plt.show()"
   ]
  },
  {
   "cell_type": "markdown",
   "metadata": {},
   "source": [
    "#### **Formatting Data**"
   ]
  },
  {
   "cell_type": "code",
   "execution_count": 19,
   "metadata": {},
   "outputs": [
    {
     "name": "stdout",
     "output_type": "stream",
     "text": [
      "<class 'pandas.core.frame.DataFrame'>\n",
      "Int64Index: 111973 entries, 0 to 114091\n",
      "Data columns (total 6 columns):\n",
      " #   Column         Non-Null Count   Dtype  \n",
      "---  ------         --------------   -----  \n",
      " 0   order_id       111973 non-null  object \n",
      " 1   order_item_id  111973 non-null  float64\n",
      " 2   seller_id      111973 non-null  object \n",
      " 3   product_name   111973 non-null  object \n",
      " 4   price          111973 non-null  float64\n",
      " 5   review_score   111973 non-null  float64\n",
      "dtypes: float64(3), object(3)\n",
      "memory usage: 6.0+ MB\n"
     ]
    }
   ],
   "source": [
    "df_main.info()"
   ]
  },
  {
   "cell_type": "code",
   "execution_count": 20,
   "metadata": {},
   "outputs": [
    {
     "name": "stdout",
     "output_type": "stream",
     "text": [
      "Review Score unique value:  [4. 5. 2. 1. 3.]\n",
      "Order Item Id unique value:  [ 1.  2.  3.  4.  5.  6.  7.  8.  9. 10. 11. 12. 13. 14. 15. 16. 17. 18.\n",
      " 19. 20. 21.]\n"
     ]
    }
   ],
   "source": [
    "print(\"Review Score unique value: \", df_main[\"review_score\"].unique())\n",
    "print(\"Order Item Id unique value: \", df_main[\"order_item_id\"].unique())"
   ]
  },
  {
   "cell_type": "code",
   "execution_count": 21,
   "metadata": {},
   "outputs": [
    {
     "name": "stdout",
     "output_type": "stream",
     "text": [
      "<class 'pandas.core.frame.DataFrame'>\n",
      "Int64Index: 111973 entries, 0 to 114091\n",
      "Data columns (total 6 columns):\n",
      " #   Column         Non-Null Count   Dtype  \n",
      "---  ------         --------------   -----  \n",
      " 0   order_id       111973 non-null  object \n",
      " 1   order_item_id  111973 non-null  int32  \n",
      " 2   seller_id      111973 non-null  object \n",
      " 3   product_name   111973 non-null  object \n",
      " 4   price          111973 non-null  float64\n",
      " 5   review_score   111973 non-null  int32  \n",
      "dtypes: float64(1), int32(2), object(3)\n",
      "memory usage: 5.1+ MB\n"
     ]
    }
   ],
   "source": [
    "# Change review_score data type to integer\n",
    "df_main[\"review_score\"] = df_main[\"review_score\"].astype(int)\n",
    "df_main[\"order_item_id\"] = df_main[\"order_item_id\"].astype(int)\n",
    "\n",
    "# Check data type changes\n",
    "df_main.info()"
   ]
  },
  {
   "cell_type": "markdown",
   "metadata": {},
   "source": [
    "##### Translating Product From Portuguese to English"
   ]
  },
  {
   "cell_type": "code",
   "execution_count": 22,
   "metadata": {},
   "outputs": [
    {
     "data": {
      "text/plain": [
       "0    utilidades_domesticas\n",
       "1               perfumaria\n",
       "2               automotivo\n",
       "3                 pet_shop\n",
       "4                papelaria\n",
       "Name: product_name, dtype: object"
      ]
     },
     "execution_count": 22,
     "metadata": {},
     "output_type": "execute_result"
    }
   ],
   "source": [
    "# Checking Table\n",
    "df_main[\"product_name\"].head()"
   ]
  },
  {
   "cell_type": "code",
   "execution_count": 23,
   "metadata": {},
   "outputs": [
    {
     "data": {
      "text/html": [
       "<div>\n",
       "<style scoped>\n",
       "    .dataframe tbody tr th:only-of-type {\n",
       "        vertical-align: middle;\n",
       "    }\n",
       "\n",
       "    .dataframe tbody tr th {\n",
       "        vertical-align: top;\n",
       "    }\n",
       "\n",
       "    .dataframe thead th {\n",
       "        text-align: right;\n",
       "    }\n",
       "</style>\n",
       "<table border=\"1\" class=\"dataframe\">\n",
       "  <thead>\n",
       "    <tr style=\"text-align: right;\">\n",
       "      <th></th>\n",
       "      <th>index</th>\n",
       "      <th>product_category_name</th>\n",
       "      <th>product_category_name_english</th>\n",
       "    </tr>\n",
       "  </thead>\n",
       "  <tbody>\n",
       "    <tr>\n",
       "      <th>0</th>\n",
       "      <td>0</td>\n",
       "      <td>beleza_saude</td>\n",
       "      <td>health_beauty</td>\n",
       "    </tr>\n",
       "    <tr>\n",
       "      <th>1</th>\n",
       "      <td>1</td>\n",
       "      <td>informatica_acessorios</td>\n",
       "      <td>computers_accessories</td>\n",
       "    </tr>\n",
       "    <tr>\n",
       "      <th>2</th>\n",
       "      <td>2</td>\n",
       "      <td>automotivo</td>\n",
       "      <td>auto</td>\n",
       "    </tr>\n",
       "    <tr>\n",
       "      <th>3</th>\n",
       "      <td>3</td>\n",
       "      <td>cama_mesa_banho</td>\n",
       "      <td>bed_bath_table</td>\n",
       "    </tr>\n",
       "    <tr>\n",
       "      <th>4</th>\n",
       "      <td>4</td>\n",
       "      <td>moveis_decoracao</td>\n",
       "      <td>furniture_decor</td>\n",
       "    </tr>\n",
       "  </tbody>\n",
       "</table>\n",
       "</div>"
      ],
      "text/plain": [
       "   index   product_category_name product_category_name_english\n",
       "0      0            beleza_saude                 health_beauty\n",
       "1      1  informatica_acessorios         computers_accessories\n",
       "2      2              automotivo                          auto\n",
       "3      3         cama_mesa_banho                bed_bath_table\n",
       "4      4        moveis_decoracao               furniture_decor"
      ]
     },
     "execution_count": 23,
     "metadata": {},
     "output_type": "execute_result"
    }
   ],
   "source": [
    "# SQL Query for translation table\n",
    "query = \"\"\"\n",
    "SELECT * FROM product_category_name_translation\n",
    "\"\"\"\n",
    "\n",
    "#Transform into Pandas DataFrame\n",
    "df_translation = pd.read_sql(query, connection)\n",
    "df_translation.head()"
   ]
  },
  {
   "cell_type": "code",
   "execution_count": 24,
   "metadata": {},
   "outputs": [
    {
     "data": {
      "text/html": [
       "<div>\n",
       "<style scoped>\n",
       "    .dataframe tbody tr th:only-of-type {\n",
       "        vertical-align: middle;\n",
       "    }\n",
       "\n",
       "    .dataframe tbody tr th {\n",
       "        vertical-align: top;\n",
       "    }\n",
       "\n",
       "    .dataframe thead th {\n",
       "        text-align: right;\n",
       "    }\n",
       "</style>\n",
       "<table border=\"1\" class=\"dataframe\">\n",
       "  <thead>\n",
       "    <tr style=\"text-align: right;\">\n",
       "      <th></th>\n",
       "      <th>order_id</th>\n",
       "      <th>order_item_id</th>\n",
       "      <th>seller_id</th>\n",
       "      <th>product_name</th>\n",
       "      <th>price</th>\n",
       "      <th>review_score</th>\n",
       "    </tr>\n",
       "  </thead>\n",
       "  <tbody>\n",
       "    <tr>\n",
       "      <th>0</th>\n",
       "      <td>e481f51cbdc54678b7cc49136f2d6af7</td>\n",
       "      <td>1</td>\n",
       "      <td>3504c0cb71d7fa48d967e0e4c94d59d9</td>\n",
       "      <td>Housewares</td>\n",
       "      <td>29.99</td>\n",
       "      <td>4</td>\n",
       "    </tr>\n",
       "    <tr>\n",
       "      <th>1</th>\n",
       "      <td>53cdb2fc8bc7dce0b6741e2150273451</td>\n",
       "      <td>1</td>\n",
       "      <td>289cdb325fb7e7f891c38608bf9e0962</td>\n",
       "      <td>Perfumery</td>\n",
       "      <td>118.70</td>\n",
       "      <td>4</td>\n",
       "    </tr>\n",
       "    <tr>\n",
       "      <th>2</th>\n",
       "      <td>47770eb9100c2d0c44946d9cf07ec65d</td>\n",
       "      <td>1</td>\n",
       "      <td>4869f7a5dfa277a7dca6462dcf3b52b2</td>\n",
       "      <td>Auto</td>\n",
       "      <td>159.90</td>\n",
       "      <td>5</td>\n",
       "    </tr>\n",
       "    <tr>\n",
       "      <th>3</th>\n",
       "      <td>949d5b44dbf5de918fe9c16f97b45f8a</td>\n",
       "      <td>1</td>\n",
       "      <td>66922902710d126a0e7d26b0e3805106</td>\n",
       "      <td>Pet shop</td>\n",
       "      <td>45.00</td>\n",
       "      <td>5</td>\n",
       "    </tr>\n",
       "    <tr>\n",
       "      <th>4</th>\n",
       "      <td>ad21c59c0840e6cb83a9ceb5573f8159</td>\n",
       "      <td>1</td>\n",
       "      <td>2c9e548be18521d1c43cde1c582c6de8</td>\n",
       "      <td>Stationery</td>\n",
       "      <td>19.90</td>\n",
       "      <td>5</td>\n",
       "    </tr>\n",
       "  </tbody>\n",
       "</table>\n",
       "</div>"
      ],
      "text/plain": [
       "                           order_id  order_item_id  \\\n",
       "0  e481f51cbdc54678b7cc49136f2d6af7              1   \n",
       "1  53cdb2fc8bc7dce0b6741e2150273451              1   \n",
       "2  47770eb9100c2d0c44946d9cf07ec65d              1   \n",
       "3  949d5b44dbf5de918fe9c16f97b45f8a              1   \n",
       "4  ad21c59c0840e6cb83a9ceb5573f8159              1   \n",
       "\n",
       "                          seller_id product_name   price  review_score  \n",
       "0  3504c0cb71d7fa48d967e0e4c94d59d9   Housewares   29.99             4  \n",
       "1  289cdb325fb7e7f891c38608bf9e0962    Perfumery  118.70             4  \n",
       "2  4869f7a5dfa277a7dca6462dcf3b52b2         Auto  159.90             5  \n",
       "3  66922902710d126a0e7d26b0e3805106     Pet shop   45.00             5  \n",
       "4  2c9e548be18521d1c43cde1c582c6de8   Stationery   19.90             5  "
      ]
     },
     "execution_count": 24,
     "metadata": {},
     "output_type": "execute_result"
    }
   ],
   "source": [
    "# Put each translation column in variable\n",
    "original_product_name = df_translation[\"product_category_name\"]\n",
    "product_in_english = df_translation[\"product_category_name_english\"]\n",
    "\n",
    "# Turn those columns into dictionary\n",
    "translation_map = dict(zip(original_product_name,  product_in_english))\n",
    "\n",
    "# Removing the \"_\" characters\n",
    "for key in translation_map:\n",
    "    if \"_\" in translation_map[key]: \n",
    "        translation_map[key] = \" \".join(translation_map[key].split(\"_\")).capitalize()\n",
    "    else:\n",
    "        translation_map[key] = translation_map[key].capitalize()\n",
    "\n",
    "df_main.replace(translation_map, inplace=True)\n",
    "df_main.head()"
   ]
  },
  {
   "cell_type": "code",
   "execution_count": 25,
   "metadata": {},
   "outputs": [
    {
     "data": {
      "text/plain": [
       "['portateis_cozinha_e_preparadores_de_alimentos', 'pc_gamer']"
      ]
     },
     "execution_count": 25,
     "metadata": {},
     "output_type": "execute_result"
    }
   ],
   "source": [
    "# Re-checking the translated products\n",
    "products = df_main[\"product_name\"].unique()\n",
    "not_translated = [product for product in products if \"_\" in product]\n",
    "not_translated"
   ]
  },
  {
   "cell_type": "code",
   "execution_count": 26,
   "metadata": {},
   "outputs": [
    {
     "data": {
      "text/plain": [
       "[]"
      ]
     },
     "execution_count": 26,
     "metadata": {},
     "output_type": "execute_result"
    }
   ],
   "source": [
    "# Adding unformatted and not translated data\n",
    "translation_map[\"pc_gamer\"] = \"PC Gamer\" \n",
    "translation_map[\"portateis_cozinha_e_preparadores_de_alimentos\"] = \"Kitchen and Food Preparation racks\"\n",
    "\n",
    "# Replacing unformatted and not translated data\n",
    "df_main[\"product_name\"].replace(translation_map, inplace=True)\n",
    "\n",
    "# Re-checking the \n",
    "products = df_main[\"product_name\"].unique()\n",
    "not_translated = [product for product in products if \"_\" in product]\n",
    "not_translated"
   ]
  },
  {
   "cell_type": "code",
   "execution_count": 27,
   "metadata": {},
   "outputs": [
    {
     "data": {
      "text/html": [
       "<div>\n",
       "<style scoped>\n",
       "    .dataframe tbody tr th:only-of-type {\n",
       "        vertical-align: middle;\n",
       "    }\n",
       "\n",
       "    .dataframe tbody tr th {\n",
       "        vertical-align: top;\n",
       "    }\n",
       "\n",
       "    .dataframe thead th {\n",
       "        text-align: right;\n",
       "    }\n",
       "</style>\n",
       "<table border=\"1\" class=\"dataframe\">\n",
       "  <thead>\n",
       "    <tr style=\"text-align: right;\">\n",
       "      <th></th>\n",
       "      <th>order_id</th>\n",
       "      <th>order_item_id</th>\n",
       "      <th>seller_id</th>\n",
       "      <th>product_name</th>\n",
       "      <th>price</th>\n",
       "      <th>review_score</th>\n",
       "    </tr>\n",
       "  </thead>\n",
       "  <tbody>\n",
       "    <tr>\n",
       "      <th>0</th>\n",
       "      <td>e481f51cbdc54678b7cc49136f2d6af7</td>\n",
       "      <td>1</td>\n",
       "      <td>sellers 0</td>\n",
       "      <td>Housewares</td>\n",
       "      <td>29.99</td>\n",
       "      <td>4</td>\n",
       "    </tr>\n",
       "    <tr>\n",
       "      <th>1</th>\n",
       "      <td>53cdb2fc8bc7dce0b6741e2150273451</td>\n",
       "      <td>1</td>\n",
       "      <td>sellers 1</td>\n",
       "      <td>Perfumery</td>\n",
       "      <td>118.70</td>\n",
       "      <td>4</td>\n",
       "    </tr>\n",
       "    <tr>\n",
       "      <th>2</th>\n",
       "      <td>47770eb9100c2d0c44946d9cf07ec65d</td>\n",
       "      <td>1</td>\n",
       "      <td>sellers 2</td>\n",
       "      <td>Auto</td>\n",
       "      <td>159.90</td>\n",
       "      <td>5</td>\n",
       "    </tr>\n",
       "    <tr>\n",
       "      <th>3</th>\n",
       "      <td>949d5b44dbf5de918fe9c16f97b45f8a</td>\n",
       "      <td>1</td>\n",
       "      <td>sellers 3</td>\n",
       "      <td>Pet shop</td>\n",
       "      <td>45.00</td>\n",
       "      <td>5</td>\n",
       "    </tr>\n",
       "    <tr>\n",
       "      <th>4</th>\n",
       "      <td>ad21c59c0840e6cb83a9ceb5573f8159</td>\n",
       "      <td>1</td>\n",
       "      <td>sellers 4</td>\n",
       "      <td>Stationery</td>\n",
       "      <td>19.90</td>\n",
       "      <td>5</td>\n",
       "    </tr>\n",
       "  </tbody>\n",
       "</table>\n",
       "</div>"
      ],
      "text/plain": [
       "                           order_id  order_item_id  seller_id product_name  \\\n",
       "0  e481f51cbdc54678b7cc49136f2d6af7              1  sellers 0   Housewares   \n",
       "1  53cdb2fc8bc7dce0b6741e2150273451              1  sellers 1    Perfumery   \n",
       "2  47770eb9100c2d0c44946d9cf07ec65d              1  sellers 2         Auto   \n",
       "3  949d5b44dbf5de918fe9c16f97b45f8a              1  sellers 3     Pet shop   \n",
       "4  ad21c59c0840e6cb83a9ceb5573f8159              1  sellers 4   Stationery   \n",
       "\n",
       "    price  review_score  \n",
       "0   29.99             4  \n",
       "1  118.70             4  \n",
       "2  159.90             5  \n",
       "3   45.00             5  \n",
       "4   19.90             5  "
      ]
     },
     "execution_count": 27,
     "metadata": {},
     "output_type": "execute_result"
    }
   ],
   "source": [
    "seller_id = df_main[\"seller_id\"].unique()\n",
    "seller_name = [f\"sellers {i}\" for i, _ in enumerate(seller_id)]\n",
    "\n",
    "new_seller_id = dict(zip(seller_id, seller_name))\n",
    "\n",
    "df_main[\"seller_id\"].replace(new_seller_id, inplace=True)\n",
    "df_main.head()"
   ]
  },
  {
   "cell_type": "markdown",
   "metadata": {},
   "source": [
    "### **Data Analysis**"
   ]
  },
  {
   "cell_type": "markdown",
   "metadata": {},
   "source": [
    "#### **Use Case 1: Which products are ordered the most and the least?**"
   ]
  },
  {
   "cell_type": "code",
   "execution_count": 28,
   "metadata": {},
   "outputs": [
    {
     "data": {
      "text/html": [
       "<div>\n",
       "<style scoped>\n",
       "    .dataframe tbody tr th:only-of-type {\n",
       "        vertical-align: middle;\n",
       "    }\n",
       "\n",
       "    .dataframe tbody tr th {\n",
       "        vertical-align: top;\n",
       "    }\n",
       "\n",
       "    .dataframe thead th {\n",
       "        text-align: right;\n",
       "    }\n",
       "</style>\n",
       "<table border=\"1\" class=\"dataframe\">\n",
       "  <thead>\n",
       "    <tr style=\"text-align: right;\">\n",
       "      <th></th>\n",
       "      <th>product_name</th>\n",
       "      <th>order_id</th>\n",
       "    </tr>\n",
       "  </thead>\n",
       "  <tbody>\n",
       "    <tr>\n",
       "      <th>0</th>\n",
       "      <td>Agro industry and commerce</td>\n",
       "      <td>212</td>\n",
       "    </tr>\n",
       "    <tr>\n",
       "      <th>1</th>\n",
       "      <td>Air conditioning</td>\n",
       "      <td>292</td>\n",
       "    </tr>\n",
       "    <tr>\n",
       "      <th>2</th>\n",
       "      <td>Art</td>\n",
       "      <td>207</td>\n",
       "    </tr>\n",
       "    <tr>\n",
       "      <th>3</th>\n",
       "      <td>Arts and craftmanship</td>\n",
       "      <td>24</td>\n",
       "    </tr>\n",
       "    <tr>\n",
       "      <th>4</th>\n",
       "      <td>Audio</td>\n",
       "      <td>361</td>\n",
       "    </tr>\n",
       "  </tbody>\n",
       "</table>\n",
       "</div>"
      ],
      "text/plain": [
       "                 product_name  order_id\n",
       "0  Agro industry and commerce       212\n",
       "1            Air conditioning       292\n",
       "2                         Art       207\n",
       "3       Arts and craftmanship        24\n",
       "4                       Audio       361"
      ]
     },
     "execution_count": 28,
     "metadata": {},
     "output_type": "execute_result"
    }
   ],
   "source": [
    "df_ordered_products = df_main[\n",
    "                [\"product_name\", \"order_id\"]\n",
    "        ].groupby(\"product_name\").agg(\"count\")\n",
    "\n",
    "df_ordered_products.reset_index(inplace=True)\n",
    "df_ordered_products.head()"
   ]
  },
  {
   "cell_type": "code",
   "execution_count": 29,
   "metadata": {},
   "outputs": [
    {
     "data": {
      "image/png": "[encoded data removed]",
      "text/plain": [
       "<Figure size 1440x576 with 2 Axes>"
      ]
     },
     "metadata": {
      "needs_background": "light"
     },
     "output_type": "display_data"
    }
   ],
   "source": [
    "# Setup the Matplotlib Axes\n",
    "fig, axes = plt.subplots(ncols=2, nrows=1, figsize=(20, 8))\n",
    "\n",
    "for i, _ in enumerate(axes):\n",
    "    if (i == 0):\n",
    "        # set the most ordered products\n",
    "        data = df_ordered_products.sort_values(\"order_id\",\n",
    "                                               ascending=False)\n",
    "        bar_title = \"Top 10 Most Ordered Products\"\n",
    "    elif (i == 1):\n",
    "        data = df_ordered_products.sort_values(\"order_id\")\n",
    "        bar_title = \"Top 10 Least Ordered Products\"\n",
    "\n",
    "    sns.barplot(x=\"product_name\", y=\"order_id\", ax=axes[i],\n",
    "                palette=\"YlGnBu_r\", data=data[:10])\n",
    "\n",
    "    wrap_labels(axes[i], 10)\n",
    "    axes[i].bar_label(axes[i].containers[0])\n",
    "    axes[i].title.set_text(bar_title)\n",
    "    axes[i].set_xlabel(\"\\nProduct Category\")\n",
    "    axes[i].set_ylabel(\"Number of Ordered Products\")\n",
    "\n",
    "plt.tight_layout()\n",
    "plt.show()\n",
    "\n"
   ]
  },
  {
   "cell_type": "code",
   "execution_count": 30,
   "metadata": {},
   "outputs": [
    {
     "data": {
      "text/html": [
       "<div>\n",
       "<style scoped>\n",
       "    .dataframe tbody tr th:only-of-type {\n",
       "        vertical-align: middle;\n",
       "    }\n",
       "\n",
       "    .dataframe tbody tr th {\n",
       "        vertical-align: top;\n",
       "    }\n",
       "\n",
       "    .dataframe thead th {\n",
       "        text-align: right;\n",
       "    }\n",
       "</style>\n",
       "<table border=\"1\" class=\"dataframe\">\n",
       "  <thead>\n",
       "    <tr style=\"text-align: right;\">\n",
       "      <th></th>\n",
       "      <th>count</th>\n",
       "      <th>mean</th>\n",
       "      <th>std</th>\n",
       "      <th>min</th>\n",
       "      <th>25%</th>\n",
       "      <th>50%</th>\n",
       "      <th>75%</th>\n",
       "      <th>max</th>\n",
       "    </tr>\n",
       "  </thead>\n",
       "  <tbody>\n",
       "    <tr>\n",
       "      <th>order_id</th>\n",
       "      <td>74.0</td>\n",
       "      <td>1513.148649</td>\n",
       "      <td>2550.951048</td>\n",
       "      <td>2.0</td>\n",
       "      <td>77.25</td>\n",
       "      <td>279.0</td>\n",
       "      <td>1662.0</td>\n",
       "      <td>11051.0</td>\n",
       "    </tr>\n",
       "  </tbody>\n",
       "</table>\n",
       "</div>"
      ],
      "text/plain": [
       "          count         mean          std  min    25%    50%     75%      max\n",
       "order_id   74.0  1513.148649  2550.951048  2.0  77.25  279.0  1662.0  11051.0"
      ]
     },
     "execution_count": 30,
     "metadata": {},
     "output_type": "execute_result"
    }
   ],
   "source": [
    "df_ordered_products.describe().transpose()"
   ]
  },
  {
   "cell_type": "markdown",
   "metadata": {},
   "source": [
    "#### **Use Case 2: How Does the Revenue Generated by Each Ordered Products**"
   ]
  },
  {
   "cell_type": "code",
   "execution_count": 31,
   "metadata": {},
   "outputs": [
    {
     "data": {
      "text/html": [
       "<div>\n",
       "<style scoped>\n",
       "    .dataframe tbody tr th:only-of-type {\n",
       "        vertical-align: middle;\n",
       "    }\n",
       "\n",
       "    .dataframe tbody tr th {\n",
       "        vertical-align: top;\n",
       "    }\n",
       "\n",
       "    .dataframe thead th {\n",
       "        text-align: right;\n",
       "    }\n",
       "</style>\n",
       "<table border=\"1\" class=\"dataframe\">\n",
       "  <thead>\n",
       "    <tr style=\"text-align: right;\">\n",
       "      <th></th>\n",
       "      <th>order_id</th>\n",
       "      <th>order_item_id</th>\n",
       "      <th>seller_id</th>\n",
       "      <th>product_name</th>\n",
       "      <th>price</th>\n",
       "      <th>review_score</th>\n",
       "      <th>revenue</th>\n",
       "    </tr>\n",
       "  </thead>\n",
       "  <tbody>\n",
       "    <tr>\n",
       "      <th>0</th>\n",
       "      <td>e481f51cbdc54678b7cc49136f2d6af7</td>\n",
       "      <td>1</td>\n",
       "      <td>sellers 0</td>\n",
       "      <td>Housewares</td>\n",
       "      <td>29.99</td>\n",
       "      <td>4</td>\n",
       "      <td>29.99</td>\n",
       "    </tr>\n",
       "    <tr>\n",
       "      <th>1</th>\n",
       "      <td>53cdb2fc8bc7dce0b6741e2150273451</td>\n",
       "      <td>1</td>\n",
       "      <td>sellers 1</td>\n",
       "      <td>Perfumery</td>\n",
       "      <td>118.70</td>\n",
       "      <td>4</td>\n",
       "      <td>118.70</td>\n",
       "    </tr>\n",
       "    <tr>\n",
       "      <th>2</th>\n",
       "      <td>47770eb9100c2d0c44946d9cf07ec65d</td>\n",
       "      <td>1</td>\n",
       "      <td>sellers 2</td>\n",
       "      <td>Auto</td>\n",
       "      <td>159.90</td>\n",
       "      <td>5</td>\n",
       "      <td>159.90</td>\n",
       "    </tr>\n",
       "    <tr>\n",
       "      <th>3</th>\n",
       "      <td>949d5b44dbf5de918fe9c16f97b45f8a</td>\n",
       "      <td>1</td>\n",
       "      <td>sellers 3</td>\n",
       "      <td>Pet shop</td>\n",
       "      <td>45.00</td>\n",
       "      <td>5</td>\n",
       "      <td>45.00</td>\n",
       "    </tr>\n",
       "    <tr>\n",
       "      <th>4</th>\n",
       "      <td>ad21c59c0840e6cb83a9ceb5573f8159</td>\n",
       "      <td>1</td>\n",
       "      <td>sellers 4</td>\n",
       "      <td>Stationery</td>\n",
       "      <td>19.90</td>\n",
       "      <td>5</td>\n",
       "      <td>19.90</td>\n",
       "    </tr>\n",
       "  </tbody>\n",
       "</table>\n",
       "</div>"
      ],
      "text/plain": [
       "                           order_id  order_item_id  seller_id product_name  \\\n",
       "0  e481f51cbdc54678b7cc49136f2d6af7              1  sellers 0   Housewares   \n",
       "1  53cdb2fc8bc7dce0b6741e2150273451              1  sellers 1    Perfumery   \n",
       "2  47770eb9100c2d0c44946d9cf07ec65d              1  sellers 2         Auto   \n",
       "3  949d5b44dbf5de918fe9c16f97b45f8a              1  sellers 3     Pet shop   \n",
       "4  ad21c59c0840e6cb83a9ceb5573f8159              1  sellers 4   Stationery   \n",
       "\n",
       "    price  review_score  revenue  \n",
       "0   29.99             4    29.99  \n",
       "1  118.70             4   118.70  \n",
       "2  159.90             5   159.90  \n",
       "3   45.00             5    45.00  \n",
       "4   19.90             5    19.90  "
      ]
     },
     "execution_count": 31,
     "metadata": {},
     "output_type": "execute_result"
    }
   ],
   "source": [
    "df_main[\"revenue\"] = df_main[\"price\"] * df_main[\"order_item_id\"]\n",
    "df_main.head()"
   ]
  },
  {
   "cell_type": "code",
   "execution_count": 32,
   "metadata": {},
   "outputs": [
    {
     "data": {
      "text/html": [
       "<div>\n",
       "<style scoped>\n",
       "    .dataframe tbody tr th:only-of-type {\n",
       "        vertical-align: middle;\n",
       "    }\n",
       "\n",
       "    .dataframe tbody tr th {\n",
       "        vertical-align: top;\n",
       "    }\n",
       "\n",
       "    .dataframe thead th {\n",
       "        text-align: right;\n",
       "    }\n",
       "</style>\n",
       "<table border=\"1\" class=\"dataframe\">\n",
       "  <thead>\n",
       "    <tr style=\"text-align: right;\">\n",
       "      <th></th>\n",
       "      <th>product_name</th>\n",
       "      <th>revenue</th>\n",
       "    </tr>\n",
       "  </thead>\n",
       "  <tbody>\n",
       "    <tr>\n",
       "      <th>0</th>\n",
       "      <td>Agro industry and commerce</td>\n",
       "      <td>19036.18</td>\n",
       "    </tr>\n",
       "    <tr>\n",
       "      <th>1</th>\n",
       "      <td>Air conditioning</td>\n",
       "      <td>43579.96</td>\n",
       "    </tr>\n",
       "    <tr>\n",
       "      <th>2</th>\n",
       "      <td>Art</td>\n",
       "      <td>18552.18</td>\n",
       "    </tr>\n",
       "    <tr>\n",
       "      <th>3</th>\n",
       "      <td>Arts and craftmanship</td>\n",
       "      <td>1661.40</td>\n",
       "    </tr>\n",
       "    <tr>\n",
       "      <th>4</th>\n",
       "      <td>Audio</td>\n",
       "      <td>31332.08</td>\n",
       "    </tr>\n",
       "  </tbody>\n",
       "</table>\n",
       "</div>"
      ],
      "text/plain": [
       "                 product_name   revenue\n",
       "0  Agro industry and commerce  19036.18\n",
       "1            Air conditioning  43579.96\n",
       "2                         Art  18552.18\n",
       "3       Arts and craftmanship   1661.40\n",
       "4                       Audio  31332.08"
      ]
     },
     "execution_count": 32,
     "metadata": {},
     "output_type": "execute_result"
    }
   ],
   "source": [
    "df_revenue_analysis = df_main[\n",
    "    [\"product_name\", \"revenue\"]\n",
    "].groupby(\"product_name\").agg(\"sum\")\n",
    "\n",
    "df_revenue_analysis.reset_index(inplace=True)\n",
    "df_revenue_analysis.head()"
   ]
  },
  {
   "cell_type": "code",
   "execution_count": 33,
   "metadata": {},
   "outputs": [
    {
     "data": {
      "image/png": "[encoded data removed]",
      "text/plain": [
       "<Figure size 864x576 with 1 Axes>"
      ]
     },
     "metadata": {
      "needs_background": "light"
     },
     "output_type": "display_data"
    }
   ],
   "source": [
    "# Create chart\n",
    "plt.figure(figsize=(12, 8))\n",
    "\n",
    "ax = sns.barplot(x=\"product_name\", \n",
    "                 y=\"revenue\",\n",
    "                 palette=\"YlGnBu_r\",\n",
    "                 data=df_revenue_analysis[:10],\n",
    "                 order=df_revenue_analysis[:10]\n",
    "                       .sort_values(\"revenue\", \n",
    "                                     ascending=False).product_name)  \n",
    "# Adding data label into the graph\n",
    "wrap_labels(ax, 10)\n",
    "\n",
    "# Adding table name and axes labels\n",
    "plt.bar_label(ax.containers[0], fmt=\"%.f\")\n",
    "plt.title(\"Revenue per Product Category\")\n",
    "plt.xlabel(\"Product Category\")\n",
    "plt.ylabel(\"Revenue (in Millions)\")\n",
    "plt.show()"
   ]
  },
  {
   "cell_type": "code",
   "execution_count": 34,
   "metadata": {},
   "outputs": [
    {
     "data": {
      "text/html": [
       "<div>\n",
       "<style scoped>\n",
       "    .dataframe tbody tr th:only-of-type {\n",
       "        vertical-align: middle;\n",
       "    }\n",
       "\n",
       "    .dataframe tbody tr th {\n",
       "        vertical-align: top;\n",
       "    }\n",
       "\n",
       "    .dataframe thead th {\n",
       "        text-align: right;\n",
       "    }\n",
       "</style>\n",
       "<table border=\"1\" class=\"dataframe\">\n",
       "  <thead>\n",
       "    <tr style=\"text-align: right;\">\n",
       "      <th></th>\n",
       "      <th>count</th>\n",
       "      <th>mean</th>\n",
       "      <th>std</th>\n",
       "      <th>min</th>\n",
       "      <th>25%</th>\n",
       "      <th>50%</th>\n",
       "      <th>75%</th>\n",
       "      <th>max</th>\n",
       "    </tr>\n",
       "  </thead>\n",
       "  <tbody>\n",
       "    <tr>\n",
       "      <th>revenue</th>\n",
       "      <td>74.0</td>\n",
       "      <td>146139.739865</td>\n",
       "      <td>253667.443013</td>\n",
       "      <td>283.29</td>\n",
       "      <td>6432.56</td>\n",
       "      <td>27793.305</td>\n",
       "      <td>138122.235</td>\n",
       "      <td>1136203.48</td>\n",
       "    </tr>\n",
       "  </tbody>\n",
       "</table>\n",
       "</div>"
      ],
      "text/plain": [
       "         count           mean            std     min      25%        50%  \\\n",
       "revenue   74.0  146139.739865  253667.443013  283.29  6432.56  27793.305   \n",
       "\n",
       "                75%         max  \n",
       "revenue  138122.235  1136203.48  "
      ]
     },
     "execution_count": 34,
     "metadata": {},
     "output_type": "execute_result"
    }
   ],
   "source": [
    "df_revenue_analysis.describe().transpose()"
   ]
  },
  {
   "cell_type": "markdown",
   "metadata": {},
   "source": [
    "#### **Use Case 3: How Does the Proportion of Review Score of the Ordered Products?**"
   ]
  },
  {
   "cell_type": "code",
   "execution_count": 35,
   "metadata": {},
   "outputs": [
    {
     "data": {
      "text/html": [
       "<div>\n",
       "<style scoped>\n",
       "    .dataframe tbody tr th:only-of-type {\n",
       "        vertical-align: middle;\n",
       "    }\n",
       "\n",
       "    .dataframe tbody tr th {\n",
       "        vertical-align: top;\n",
       "    }\n",
       "\n",
       "    .dataframe thead th {\n",
       "        text-align: right;\n",
       "    }\n",
       "</style>\n",
       "<table border=\"1\" class=\"dataframe\">\n",
       "  <thead>\n",
       "    <tr style=\"text-align: right;\">\n",
       "      <th></th>\n",
       "      <th>review_score</th>\n",
       "      <th>product_name</th>\n",
       "    </tr>\n",
       "  </thead>\n",
       "  <tbody>\n",
       "    <tr>\n",
       "      <th>0</th>\n",
       "      <td>1</td>\n",
       "      <td>14192</td>\n",
       "    </tr>\n",
       "    <tr>\n",
       "      <th>1</th>\n",
       "      <td>2</td>\n",
       "      <td>3871</td>\n",
       "    </tr>\n",
       "    <tr>\n",
       "      <th>2</th>\n",
       "      <td>3</td>\n",
       "      <td>9404</td>\n",
       "    </tr>\n",
       "    <tr>\n",
       "      <th>3</th>\n",
       "      <td>4</td>\n",
       "      <td>21267</td>\n",
       "    </tr>\n",
       "    <tr>\n",
       "      <th>4</th>\n",
       "      <td>5</td>\n",
       "      <td>63239</td>\n",
       "    </tr>\n",
       "  </tbody>\n",
       "</table>\n",
       "</div>"
      ],
      "text/plain": [
       "   review_score  product_name\n",
       "0             1         14192\n",
       "1             2          3871\n",
       "2             3          9404\n",
       "3             4         21267\n",
       "4             5         63239"
      ]
     },
     "execution_count": 35,
     "metadata": {},
     "output_type": "execute_result"
    }
   ],
   "source": [
    "df_review_proportion = df_main[\n",
    "        [\"product_name\", \"review_score\"]\n",
    "    ].groupby(\"review_score\").agg(\"count\")\n",
    "\n",
    "df_review_proportion.reset_index(inplace=True)\n",
    "df_review_proportion.head()"
   ]
  },
  {
   "cell_type": "code",
   "execution_count": 36,
   "metadata": {},
   "outputs": [
    {
     "data": {
      "text/html": [
       "<div>\n",
       "<style scoped>\n",
       "    .dataframe tbody tr th:only-of-type {\n",
       "        vertical-align: middle;\n",
       "    }\n",
       "\n",
       "    .dataframe tbody tr th {\n",
       "        vertical-align: top;\n",
       "    }\n",
       "\n",
       "    .dataframe thead th {\n",
       "        text-align: right;\n",
       "    }\n",
       "</style>\n",
       "<table border=\"1\" class=\"dataframe\">\n",
       "  <thead>\n",
       "    <tr style=\"text-align: right;\">\n",
       "      <th></th>\n",
       "      <th>review_score</th>\n",
       "      <th>product_name</th>\n",
       "      <th>percentages</th>\n",
       "    </tr>\n",
       "  </thead>\n",
       "  <tbody>\n",
       "    <tr>\n",
       "      <th>0</th>\n",
       "      <td>1</td>\n",
       "      <td>14192</td>\n",
       "      <td>12.674484</td>\n",
       "    </tr>\n",
       "    <tr>\n",
       "      <th>1</th>\n",
       "      <td>2</td>\n",
       "      <td>3871</td>\n",
       "      <td>3.457083</td>\n",
       "    </tr>\n",
       "    <tr>\n",
       "      <th>2</th>\n",
       "      <td>3</td>\n",
       "      <td>9404</td>\n",
       "      <td>8.398453</td>\n",
       "    </tr>\n",
       "    <tr>\n",
       "      <th>3</th>\n",
       "      <td>4</td>\n",
       "      <td>21267</td>\n",
       "      <td>18.992972</td>\n",
       "    </tr>\n",
       "    <tr>\n",
       "      <th>4</th>\n",
       "      <td>5</td>\n",
       "      <td>63239</td>\n",
       "      <td>56.477008</td>\n",
       "    </tr>\n",
       "  </tbody>\n",
       "</table>\n",
       "</div>"
      ],
      "text/plain": [
       "   review_score  product_name  percentages\n",
       "0             1         14192    12.674484\n",
       "1             2          3871     3.457083\n",
       "2             3          9404     8.398453\n",
       "3             4         21267    18.992972\n",
       "4             5         63239    56.477008"
      ]
     },
     "execution_count": 36,
     "metadata": {},
     "output_type": "execute_result"
    }
   ],
   "source": [
    "percentages = (df_review_proportion[\"product_name\"]\\\n",
    "              / df_review_proportion[\"product_name\"].sum())\\\n",
    "              * 100\n",
    "\n",
    "df_review_proportion[\"percentages\"] = percentages\n",
    "df_review_proportion"
   ]
  },
  {
   "cell_type": "code",
   "execution_count": 37,
   "metadata": {},
   "outputs": [
    {
     "data": {
      "image/png": "[encoded data removed]",
      "text/plain": [
       "<Figure size 576x576 with 1 Axes>"
      ]
     },
     "metadata": {},
     "output_type": "display_data"
    }
   ],
   "source": [
    "# colors\n",
    "colors = ['#F1AE89', '#FFDFBa', '#A8D3DA', \n",
    "          '#CBE2B0', '#F29191']\n",
    "\n",
    "# Separator\n",
    "explode = (0.02, 0.02, 0.02, 0.02, 0.02)\n",
    "\n",
    "fig, ax = plt.subplots(figsize=(8, 8))\n",
    "\n",
    "ax.pie(df_review_proportion[\"percentages\"],\n",
    "       labels=df_review_proportion[\"review_score\"],\n",
    "       colors=colors, autopct=\"%.2f%%\",\n",
    "       pctdistance=0.85, explode=explode)\n",
    "\n",
    "center_circle = plt.Circle((0, 0), 0.70, fc=\"white\")\n",
    "fig = plt.gcf()\n",
    "\n",
    "fig.gca().add_artist(center_circle)\n",
    "\n",
    "plt.title(\"Proportion of Product Category Review Score\")\n",
    "plt.legend(df_review_proportion[\"review_score\"],\n",
    "            loc=\"upper left\", title=\"Review Score\")\n",
    "plt.show()"
   ]
  },
  {
   "cell_type": "code",
   "execution_count": 38,
   "metadata": {},
   "outputs": [
    {
     "data": {
      "text/html": [
       "<div>\n",
       "<style scoped>\n",
       "    .dataframe tbody tr th:only-of-type {\n",
       "        vertical-align: middle;\n",
       "    }\n",
       "\n",
       "    .dataframe tbody tr th {\n",
       "        vertical-align: top;\n",
       "    }\n",
       "\n",
       "    .dataframe thead th {\n",
       "        text-align: right;\n",
       "    }\n",
       "</style>\n",
       "<table border=\"1\" class=\"dataframe\">\n",
       "  <thead>\n",
       "    <tr style=\"text-align: right;\">\n",
       "      <th></th>\n",
       "      <th>product_name</th>\n",
       "      <th>review_score</th>\n",
       "      <th>order_id</th>\n",
       "    </tr>\n",
       "  </thead>\n",
       "  <tbody>\n",
       "    <tr>\n",
       "      <th>0</th>\n",
       "      <td>Agro industry and commerce</td>\n",
       "      <td>1</td>\n",
       "      <td>27</td>\n",
       "    </tr>\n",
       "    <tr>\n",
       "      <th>1</th>\n",
       "      <td>Agro industry and commerce</td>\n",
       "      <td>2</td>\n",
       "      <td>7</td>\n",
       "    </tr>\n",
       "    <tr>\n",
       "      <th>2</th>\n",
       "      <td>Agro industry and commerce</td>\n",
       "      <td>3</td>\n",
       "      <td>13</td>\n",
       "    </tr>\n",
       "    <tr>\n",
       "      <th>3</th>\n",
       "      <td>Agro industry and commerce</td>\n",
       "      <td>4</td>\n",
       "      <td>57</td>\n",
       "    </tr>\n",
       "    <tr>\n",
       "      <th>4</th>\n",
       "      <td>Agro industry and commerce</td>\n",
       "      <td>5</td>\n",
       "      <td>108</td>\n",
       "    </tr>\n",
       "  </tbody>\n",
       "</table>\n",
       "</div>"
      ],
      "text/plain": [
       "                 product_name  review_score  order_id\n",
       "0  Agro industry and commerce             1        27\n",
       "1  Agro industry and commerce             2         7\n",
       "2  Agro industry and commerce             3        13\n",
       "3  Agro industry and commerce             4        57\n",
       "4  Agro industry and commerce             5       108"
      ]
     },
     "execution_count": 38,
     "metadata": {},
     "output_type": "execute_result"
    }
   ],
   "source": [
    "df_product_review = df_main[\n",
    "        [\"product_name\", \"review_score\", \"order_id\"]\n",
    "    ].groupby([\"product_name\", \"review_score\"]).agg(\"count\")\n",
    "\n",
    "df_product_review.reset_index(inplace=True)\n",
    "df_product_review.head()"
   ]
  },
  {
   "cell_type": "code",
   "execution_count": 39,
   "metadata": {},
   "outputs": [
    {
     "data": {
      "image/png": "[encoded data removed]",
      "text/plain": [
       "<Figure size 1296x432 with 2 Axes>"
      ]
     },
     "metadata": {
      "needs_background": "light"
     },
     "output_type": "display_data"
    }
   ],
   "source": [
    "fig, axes = plt.subplots(nrows=1, ncols=2, figsize=(18, 6))\n",
    "\n",
    "for i, _ in enumerate(axes):\n",
    "    if i == 0:\n",
    "        high_score = df_product_review[\"review_score\"] == 5\n",
    "        data = df_product_review[high_score][:10]\n",
    "        data.sort_values(\"order_id\", ascending=False, inplace=True)\n",
    "        bar_title = \"Top 10 Products with the Highest Review Score\"\n",
    "    elif i == 1:\n",
    "        low_score = df_product_review[\"review_score\"] == 1\n",
    "        data = df_product_review[low_score][:10]\n",
    "        data.sort_values(\"order_id\", ascending=False, inplace=True)\n",
    "        bar_title = \"Top 10 Products with the Lowest Review Score\"\n",
    "\n",
    "    bar_plot = sns.barplot(x=\"product_name\", y=\"order_id\",ax=axes[i],\n",
    "                            palette=\"YlGnBu_r\",data=data)\n",
    "\n",
    "    wrap_labels(axes[i], 10)\n",
    "    axes[i].bar_label(axes[i].containers[0])\n",
    "    axes[i].title.set_text(bar_title)\n",
    "    axes[i].set_xlabel(\"\\nProdut Category Name\")\n",
    "    axes[i].set_ylabel(\"Number of Product Categories\")\n",
    "\n",
    "plt.tight_layout()"
   ]
  }
 ],
 "metadata": {
  "kernelspec": {
   "display_name": "Python 3.10.0 64-bit",
   "language": "python",
   "name": "python3"
  },
  "language_info": {
   "codemirror_mode": {
    "name": "ipython",
    "version": 3
   },
   "file_extension": ".py",
   "mimetype": "text/x-python",
   "name": "python",
   "nbconvert_exporter": "python",
   "pygments_lexer": "ipython3",
   "version": "3.10.0"
  },
  "orig_nbformat": 4,
  "vscode": {
   "interpreter": {
    "hash": "ec71345ca5d37a0e9a74c52dd4df8f08155a9116efa2c99cb350734e2b4aad3e"
   }
  }
 },
 "nbformat": 4,
 "nbformat_minor": 2
}
