{
 "cells": [
  {
   "cell_type": "code",
   "execution_count": 1,
   "metadata": {},
   "outputs": [],
   "source": [
    "import matplotlib.pyplot as plt\n",
    "import pandas as pd\n",
    "import seaborn as sns\n",
    "\n",
    "from new_queries import main_query, translation_table\n",
    "from common_functions import open_connection, translate_products"
   ]
  },
  {
   "cell_type": "markdown",
   "metadata": {},
   "source": [
    "### **Functions**"
   ]
  },
  {
   "cell_type": "code",
   "execution_count": 2,
   "metadata": {},
   "outputs": [],
   "source": [
    "def missing_value_table(data):\n",
    "    \"\"\"Creating Summary Table for Missing Value in Dataset\n",
    "\n",
    "    Creating Table containing total of missing value and its percentage\n",
    "    of each feature/column on the dataset.\n",
    "\n",
    "    Parameters\n",
    "    ----------\n",
    "    data : pandas.DataFrame\n",
    "        The data we want to get the missing value\n",
    "\n",
    "    Returns\n",
    "    -------\n",
    "    table : pandas.DataFrame\n",
    "        Summary Table for Missing Value\n",
    "    \"\"\"\n",
    "    \n",
    "    missing_value_count = data.isna().sum()\n",
    "    missing_value_percent = ((data.isna().sum()/data.count())*100).round(3)\n",
    "\n",
    "    content = {\n",
    "            \"Missing Data\": missing_value_count, \n",
    "            \"Percentage (%)\": missing_value_percent\n",
    "        }\n",
    "\n",
    "    table = pd.DataFrame(content)\n",
    "    return table"
   ]
  },
  {
   "cell_type": "code",
   "execution_count": 49,
   "metadata": {},
   "outputs": [],
   "source": [
    "import textwrap\n",
    "\n",
    "\n",
    "def wrap_labels(ax, width, break_long_words=False):\n",
    "    \"\"\"Wrapping Graph xtick value\"\"\"\n",
    "    \n",
    "    labels = []\n",
    "    for label in ax.get_xtick_labels():\n",
    "        text = label.get_text()\n",
    "        labels.append(textwrap.fill(text, width=width,\n",
    "                    break_long_words=break_long_words))\n",
    "    \n",
    "    ax.set_xticklabels(labels, rotation=0)"
   ]
  },
  {
   "cell_type": "markdown",
   "metadata": {},
   "source": [
    "### **Data Processing Setup**"
   ]
  },
  {
   "cell_type": "code",
   "execution_count": 4,
   "metadata": {},
   "outputs": [
    {
     "name": "stdout",
     "output_type": "stream",
     "text": [
      "Connection is successful\n"
     ]
    }
   ],
   "source": [
    "connection = open_connection(\"olist.db\")"
   ]
  },
  {
   "cell_type": "code",
   "execution_count": 5,
   "metadata": {},
   "outputs": [],
   "source": [
    "df_main = pd.read_sql(main_query, connection)"
   ]
  },
  {
   "cell_type": "code",
   "execution_count": 6,
   "metadata": {},
   "outputs": [
    {
     "name": "stdout",
     "output_type": "stream",
     "text": [
      "Dataset Shape: (114092, 5)\n",
      "\n",
      "<class 'pandas.core.frame.DataFrame'>\n",
      "RangeIndex: 114092 entries, 0 to 114091\n",
      "Data columns (total 5 columns):\n",
      " #   Column        Non-Null Count   Dtype  \n",
      "---  ------        --------------   -----  \n",
      " 0   order_id      114092 non-null  object \n",
      " 1   seller_id     113314 non-null  object \n",
      " 2   product_name  111702 non-null  object \n",
      " 3   price         113314 non-null  float64\n",
      " 4   review_score  113131 non-null  float64\n",
      "dtypes: float64(2), object(3)\n",
      "memory usage: 4.4+ MB\n"
     ]
    }
   ],
   "source": [
    "print(f\"Dataset Shape: {df_main.shape}\\n\")\n",
    "df_main.info()"
   ]
  },
  {
   "cell_type": "markdown",
   "metadata": {},
   "source": [
    "### **Data Processing**"
   ]
  },
  {
   "cell_type": "markdown",
   "metadata": {},
   "source": [
    "#### **Finding Missing Values**"
   ]
  },
  {
   "cell_type": "code",
   "execution_count": 7,
   "metadata": {},
   "outputs": [
    {
     "data": {
      "text/html": [
       "<div>\n",
       "<style scoped>\n",
       "    .dataframe tbody tr th:only-of-type {\n",
       "        vertical-align: middle;\n",
       "    }\n",
       "\n",
       "    .dataframe tbody tr th {\n",
       "        vertical-align: top;\n",
       "    }\n",
       "\n",
       "    .dataframe thead th {\n",
       "        text-align: right;\n",
       "    }\n",
       "</style>\n",
       "<table border=\"1\" class=\"dataframe\">\n",
       "  <thead>\n",
       "    <tr style=\"text-align: right;\">\n",
       "      <th></th>\n",
       "      <th>Missing Data</th>\n",
       "      <th>Percentage (%)</th>\n",
       "    </tr>\n",
       "  </thead>\n",
       "  <tbody>\n",
       "    <tr>\n",
       "      <th>order_id</th>\n",
       "      <td>0</td>\n",
       "      <td>0.000</td>\n",
       "    </tr>\n",
       "    <tr>\n",
       "      <th>seller_id</th>\n",
       "      <td>778</td>\n",
       "      <td>0.687</td>\n",
       "    </tr>\n",
       "    <tr>\n",
       "      <th>product_name</th>\n",
       "      <td>2390</td>\n",
       "      <td>2.140</td>\n",
       "    </tr>\n",
       "    <tr>\n",
       "      <th>price</th>\n",
       "      <td>778</td>\n",
       "      <td>0.687</td>\n",
       "    </tr>\n",
       "    <tr>\n",
       "      <th>review_score</th>\n",
       "      <td>961</td>\n",
       "      <td>0.849</td>\n",
       "    </tr>\n",
       "  </tbody>\n",
       "</table>\n",
       "</div>"
      ],
      "text/plain": [
       "              Missing Data  Percentage (%)\n",
       "order_id                 0           0.000\n",
       "seller_id              778           0.687\n",
       "product_name          2390           2.140\n",
       "price                  778           0.687\n",
       "review_score           961           0.849"
      ]
     },
     "execution_count": 7,
     "metadata": {},
     "output_type": "execute_result"
    }
   ],
   "source": [
    "missing_value_table(df_main)"
   ]
  },
  {
   "cell_type": "code",
   "execution_count": 8,
   "metadata": {},
   "outputs": [
    {
     "data": {
      "text/html": [
       "<div>\n",
       "<style scoped>\n",
       "    .dataframe tbody tr th:only-of-type {\n",
       "        vertical-align: middle;\n",
       "    }\n",
       "\n",
       "    .dataframe tbody tr th {\n",
       "        vertical-align: top;\n",
       "    }\n",
       "\n",
       "    .dataframe thead th {\n",
       "        text-align: right;\n",
       "    }\n",
       "</style>\n",
       "<table border=\"1\" class=\"dataframe\">\n",
       "  <thead>\n",
       "    <tr style=\"text-align: right;\">\n",
       "      <th></th>\n",
       "      <th>order_id</th>\n",
       "      <th>seller_id</th>\n",
       "      <th>product_name</th>\n",
       "      <th>price</th>\n",
       "      <th>review_score</th>\n",
       "    </tr>\n",
       "  </thead>\n",
       "  <tbody>\n",
       "    <tr>\n",
       "      <th>6</th>\n",
       "      <td>136cce7faa42fdb2cefd53fdc79a6098</td>\n",
       "      <td>dc8798cbf453b7e0f98745e396cc5616</td>\n",
       "      <td>None</td>\n",
       "      <td>49.90</td>\n",
       "      <td>2.0</td>\n",
       "    </tr>\n",
       "    <tr>\n",
       "      <th>122</th>\n",
       "      <td>bfe42c22ecbf90bc9f35cf591270b6a7</td>\n",
       "      <td>e5a3438891c0bfdb9394643f95273d8e</td>\n",
       "      <td>None</td>\n",
       "      <td>27.30</td>\n",
       "      <td>5.0</td>\n",
       "    </tr>\n",
       "    <tr>\n",
       "      <th>212</th>\n",
       "      <td>58ac1947c1a9067b9f416cba6d844a3f</td>\n",
       "      <td>520b493b57809f446cb0a233bb3e25c7</td>\n",
       "      <td>None</td>\n",
       "      <td>110.00</td>\n",
       "      <td>5.0</td>\n",
       "    </tr>\n",
       "    <tr>\n",
       "      <th>264</th>\n",
       "      <td>e22b71f6e4a481445ec4527cb4c405f7</td>\n",
       "      <td>6cd68b3ed6d59aaa9fece558ad360c0a</td>\n",
       "      <td>None</td>\n",
       "      <td>22.50</td>\n",
       "      <td>4.0</td>\n",
       "    </tr>\n",
       "    <tr>\n",
       "      <th>303</th>\n",
       "      <td>a094215e786240fcfefb83d18036a1cd</td>\n",
       "      <td>c826c40d7b19f62a09e2d7c5e7295ee2</td>\n",
       "      <td>None</td>\n",
       "      <td>122.99</td>\n",
       "      <td>5.0</td>\n",
       "    </tr>\n",
       "    <tr>\n",
       "      <th>...</th>\n",
       "      <td>...</td>\n",
       "      <td>...</td>\n",
       "      <td>...</td>\n",
       "      <td>...</td>\n",
       "      <td>...</td>\n",
       "    </tr>\n",
       "    <tr>\n",
       "      <th>113871</th>\n",
       "      <td>aaab15da689073f8f9aa978a390a69d1</td>\n",
       "      <td>None</td>\n",
       "      <td>None</td>\n",
       "      <td>NaN</td>\n",
       "      <td>1.0</td>\n",
       "    </tr>\n",
       "    <tr>\n",
       "      <th>113903</th>\n",
       "      <td>3a3cddda5a7c27851bd96c3313412840</td>\n",
       "      <td>None</td>\n",
       "      <td>None</td>\n",
       "      <td>NaN</td>\n",
       "      <td>5.0</td>\n",
       "    </tr>\n",
       "    <tr>\n",
       "      <th>113991</th>\n",
       "      <td>a89abace0dcc01eeb267a9660b5ac126</td>\n",
       "      <td>None</td>\n",
       "      <td>None</td>\n",
       "      <td>NaN</td>\n",
       "      <td>4.0</td>\n",
       "    </tr>\n",
       "    <tr>\n",
       "      <th>113992</th>\n",
       "      <td>a69ba794cc7deb415c3e15a0a3877e69</td>\n",
       "      <td>None</td>\n",
       "      <td>None</td>\n",
       "      <td>NaN</td>\n",
       "      <td>1.0</td>\n",
       "    </tr>\n",
       "    <tr>\n",
       "      <th>114064</th>\n",
       "      <td>5fabc81b6322c8443648e1b21a6fef21</td>\n",
       "      <td>None</td>\n",
       "      <td>None</td>\n",
       "      <td>NaN</td>\n",
       "      <td>1.0</td>\n",
       "    </tr>\n",
       "  </tbody>\n",
       "</table>\n",
       "<p>2390 rows × 5 columns</p>\n",
       "</div>"
      ],
      "text/plain": [
       "                                order_id                         seller_id  \\\n",
       "6       136cce7faa42fdb2cefd53fdc79a6098  dc8798cbf453b7e0f98745e396cc5616   \n",
       "122     bfe42c22ecbf90bc9f35cf591270b6a7  e5a3438891c0bfdb9394643f95273d8e   \n",
       "212     58ac1947c1a9067b9f416cba6d844a3f  520b493b57809f446cb0a233bb3e25c7   \n",
       "264     e22b71f6e4a481445ec4527cb4c405f7  6cd68b3ed6d59aaa9fece558ad360c0a   \n",
       "303     a094215e786240fcfefb83d18036a1cd  c826c40d7b19f62a09e2d7c5e7295ee2   \n",
       "...                                  ...                               ...   \n",
       "113871  aaab15da689073f8f9aa978a390a69d1                              None   \n",
       "113903  3a3cddda5a7c27851bd96c3313412840                              None   \n",
       "113991  a89abace0dcc01eeb267a9660b5ac126                              None   \n",
       "113992  a69ba794cc7deb415c3e15a0a3877e69                              None   \n",
       "114064  5fabc81b6322c8443648e1b21a6fef21                              None   \n",
       "\n",
       "       product_name   price  review_score  \n",
       "6              None   49.90           2.0  \n",
       "122            None   27.30           5.0  \n",
       "212            None  110.00           5.0  \n",
       "264            None   22.50           4.0  \n",
       "303            None  122.99           5.0  \n",
       "...             ...     ...           ...  \n",
       "113871         None     NaN           1.0  \n",
       "113903         None     NaN           5.0  \n",
       "113991         None     NaN           4.0  \n",
       "113992         None     NaN           1.0  \n",
       "114064         None     NaN           1.0  \n",
       "\n",
       "[2390 rows x 5 columns]"
      ]
     },
     "execution_count": 8,
     "metadata": {},
     "output_type": "execute_result"
    }
   ],
   "source": [
    "df_main[df_main[\"product_name\"].isna()]"
   ]
  },
  {
   "cell_type": "code",
   "execution_count": 9,
   "metadata": {},
   "outputs": [
    {
     "data": {
      "text/html": [
       "<div>\n",
       "<style scoped>\n",
       "    .dataframe tbody tr th:only-of-type {\n",
       "        vertical-align: middle;\n",
       "    }\n",
       "\n",
       "    .dataframe tbody tr th {\n",
       "        vertical-align: top;\n",
       "    }\n",
       "\n",
       "    .dataframe thead th {\n",
       "        text-align: right;\n",
       "    }\n",
       "</style>\n",
       "<table border=\"1\" class=\"dataframe\">\n",
       "  <thead>\n",
       "    <tr style=\"text-align: right;\">\n",
       "      <th></th>\n",
       "      <th>product_id</th>\n",
       "      <th>product_name</th>\n",
       "    </tr>\n",
       "  </thead>\n",
       "  <tbody>\n",
       "    <tr>\n",
       "      <th>105</th>\n",
       "      <td>a41e356c76fab66334f36de622ecbd3a</td>\n",
       "      <td>None</td>\n",
       "    </tr>\n",
       "    <tr>\n",
       "      <th>128</th>\n",
       "      <td>d8dee61c2034d6d075997acef1870e9b</td>\n",
       "      <td>None</td>\n",
       "    </tr>\n",
       "    <tr>\n",
       "      <th>145</th>\n",
       "      <td>56139431d72cd51f19eb9f7dae4d1617</td>\n",
       "      <td>None</td>\n",
       "    </tr>\n",
       "    <tr>\n",
       "      <th>154</th>\n",
       "      <td>46b48281eb6d663ced748f324108c733</td>\n",
       "      <td>None</td>\n",
       "    </tr>\n",
       "    <tr>\n",
       "      <th>197</th>\n",
       "      <td>5fb61f482620cb672f5e586bb132eae9</td>\n",
       "      <td>None</td>\n",
       "    </tr>\n",
       "    <tr>\n",
       "      <th>...</th>\n",
       "      <td>...</td>\n",
       "      <td>...</td>\n",
       "    </tr>\n",
       "    <tr>\n",
       "      <th>32515</th>\n",
       "      <td>b0a0c5dd78e644373b199380612c350a</td>\n",
       "      <td>None</td>\n",
       "    </tr>\n",
       "    <tr>\n",
       "      <th>32589</th>\n",
       "      <td>10dbe0fbaa2c505123c17fdc34a63c56</td>\n",
       "      <td>None</td>\n",
       "    </tr>\n",
       "    <tr>\n",
       "      <th>32616</th>\n",
       "      <td>bd2ada37b58ae94cc838b9c0569fecd8</td>\n",
       "      <td>None</td>\n",
       "    </tr>\n",
       "    <tr>\n",
       "      <th>32772</th>\n",
       "      <td>fa51e914046aab32764c41356b9d4ea4</td>\n",
       "      <td>None</td>\n",
       "    </tr>\n",
       "    <tr>\n",
       "      <th>32852</th>\n",
       "      <td>c4ceee876c82b8328e9c293fa0e1989b</td>\n",
       "      <td>None</td>\n",
       "    </tr>\n",
       "  </tbody>\n",
       "</table>\n",
       "<p>610 rows × 2 columns</p>\n",
       "</div>"
      ],
      "text/plain": [
       "                             product_id product_name\n",
       "105    a41e356c76fab66334f36de622ecbd3a         None\n",
       "128    d8dee61c2034d6d075997acef1870e9b         None\n",
       "145    56139431d72cd51f19eb9f7dae4d1617         None\n",
       "154    46b48281eb6d663ced748f324108c733         None\n",
       "197    5fb61f482620cb672f5e586bb132eae9         None\n",
       "...                                 ...          ...\n",
       "32515  b0a0c5dd78e644373b199380612c350a         None\n",
       "32589  10dbe0fbaa2c505123c17fdc34a63c56         None\n",
       "32616  bd2ada37b58ae94cc838b9c0569fecd8         None\n",
       "32772  fa51e914046aab32764c41356b9d4ea4         None\n",
       "32852  c4ceee876c82b8328e9c293fa0e1989b         None\n",
       "\n",
       "[610 rows x 2 columns]"
      ]
     },
     "execution_count": 9,
     "metadata": {},
     "output_type": "execute_result"
    }
   ],
   "source": [
    "# Check the missing value on the initial table in the database\n",
    "product_table_query = \"\"\"\n",
    "SELECT\n",
    "    product_id,\n",
    "    product_category_name as product_name\n",
    "FROM olist_products_dataset\n",
    "\"\"\"\n",
    "df_product_table = pd.read_sql(product_table_query, connection)\n",
    "\n",
    "df_product_table[df_product_table[\"product_name\"].isna()]"
   ]
  },
  {
   "cell_type": "code",
   "execution_count": 10,
   "metadata": {},
   "outputs": [
    {
     "data": {
      "text/html": [
       "<div>\n",
       "<style scoped>\n",
       "    .dataframe tbody tr th:only-of-type {\n",
       "        vertical-align: middle;\n",
       "    }\n",
       "\n",
       "    .dataframe tbody tr th {\n",
       "        vertical-align: top;\n",
       "    }\n",
       "\n",
       "    .dataframe thead th {\n",
       "        text-align: right;\n",
       "    }\n",
       "</style>\n",
       "<table border=\"1\" class=\"dataframe\">\n",
       "  <thead>\n",
       "    <tr style=\"text-align: right;\">\n",
       "      <th></th>\n",
       "      <th>order_id</th>\n",
       "      <th>seller_id</th>\n",
       "      <th>product_name</th>\n",
       "      <th>price</th>\n",
       "      <th>review_score</th>\n",
       "    </tr>\n",
       "  </thead>\n",
       "  <tbody>\n",
       "    <tr>\n",
       "      <th>306</th>\n",
       "      <td>8e24261a7e58791d10cb1bf9da94df5c</td>\n",
       "      <td>None</td>\n",
       "      <td>None</td>\n",
       "      <td>NaN</td>\n",
       "      <td>1.0</td>\n",
       "    </tr>\n",
       "    <tr>\n",
       "      <th>673</th>\n",
       "      <td>c272bcd21c287498b4883c7512019702</td>\n",
       "      <td>None</td>\n",
       "      <td>None</td>\n",
       "      <td>NaN</td>\n",
       "      <td>3.0</td>\n",
       "    </tr>\n",
       "    <tr>\n",
       "      <th>798</th>\n",
       "      <td>37553832a3a89c9b2db59701c357ca67</td>\n",
       "      <td>None</td>\n",
       "      <td>None</td>\n",
       "      <td>NaN</td>\n",
       "      <td>1.0</td>\n",
       "    </tr>\n",
       "    <tr>\n",
       "      <th>857</th>\n",
       "      <td>d57e15fb07fd180f06ab3926b39edcd2</td>\n",
       "      <td>None</td>\n",
       "      <td>None</td>\n",
       "      <td>NaN</td>\n",
       "      <td>1.0</td>\n",
       "    </tr>\n",
       "    <tr>\n",
       "      <th>1304</th>\n",
       "      <td>00b1cb0320190ca0daa2c88b35206009</td>\n",
       "      <td>None</td>\n",
       "      <td>None</td>\n",
       "      <td>NaN</td>\n",
       "      <td>1.0</td>\n",
       "    </tr>\n",
       "    <tr>\n",
       "      <th>...</th>\n",
       "      <td>...</td>\n",
       "      <td>...</td>\n",
       "      <td>...</td>\n",
       "      <td>...</td>\n",
       "      <td>...</td>\n",
       "    </tr>\n",
       "    <tr>\n",
       "      <th>113871</th>\n",
       "      <td>aaab15da689073f8f9aa978a390a69d1</td>\n",
       "      <td>None</td>\n",
       "      <td>None</td>\n",
       "      <td>NaN</td>\n",
       "      <td>1.0</td>\n",
       "    </tr>\n",
       "    <tr>\n",
       "      <th>113903</th>\n",
       "      <td>3a3cddda5a7c27851bd96c3313412840</td>\n",
       "      <td>None</td>\n",
       "      <td>None</td>\n",
       "      <td>NaN</td>\n",
       "      <td>5.0</td>\n",
       "    </tr>\n",
       "    <tr>\n",
       "      <th>113991</th>\n",
       "      <td>a89abace0dcc01eeb267a9660b5ac126</td>\n",
       "      <td>None</td>\n",
       "      <td>None</td>\n",
       "      <td>NaN</td>\n",
       "      <td>4.0</td>\n",
       "    </tr>\n",
       "    <tr>\n",
       "      <th>113992</th>\n",
       "      <td>a69ba794cc7deb415c3e15a0a3877e69</td>\n",
       "      <td>None</td>\n",
       "      <td>None</td>\n",
       "      <td>NaN</td>\n",
       "      <td>1.0</td>\n",
       "    </tr>\n",
       "    <tr>\n",
       "      <th>114064</th>\n",
       "      <td>5fabc81b6322c8443648e1b21a6fef21</td>\n",
       "      <td>None</td>\n",
       "      <td>None</td>\n",
       "      <td>NaN</td>\n",
       "      <td>1.0</td>\n",
       "    </tr>\n",
       "  </tbody>\n",
       "</table>\n",
       "<p>778 rows × 5 columns</p>\n",
       "</div>"
      ],
      "text/plain": [
       "                                order_id seller_id product_name  price  \\\n",
       "306     8e24261a7e58791d10cb1bf9da94df5c      None         None    NaN   \n",
       "673     c272bcd21c287498b4883c7512019702      None         None    NaN   \n",
       "798     37553832a3a89c9b2db59701c357ca67      None         None    NaN   \n",
       "857     d57e15fb07fd180f06ab3926b39edcd2      None         None    NaN   \n",
       "1304    00b1cb0320190ca0daa2c88b35206009      None         None    NaN   \n",
       "...                                  ...       ...          ...    ...   \n",
       "113871  aaab15da689073f8f9aa978a390a69d1      None         None    NaN   \n",
       "113903  3a3cddda5a7c27851bd96c3313412840      None         None    NaN   \n",
       "113991  a89abace0dcc01eeb267a9660b5ac126      None         None    NaN   \n",
       "113992  a69ba794cc7deb415c3e15a0a3877e69      None         None    NaN   \n",
       "114064  5fabc81b6322c8443648e1b21a6fef21      None         None    NaN   \n",
       "\n",
       "        review_score  \n",
       "306              1.0  \n",
       "673              3.0  \n",
       "798              1.0  \n",
       "857              1.0  \n",
       "1304             1.0  \n",
       "...              ...  \n",
       "113871           1.0  \n",
       "113903           5.0  \n",
       "113991           4.0  \n",
       "113992           1.0  \n",
       "114064           1.0  \n",
       "\n",
       "[778 rows x 5 columns]"
      ]
     },
     "execution_count": 10,
     "metadata": {},
     "output_type": "execute_result"
    }
   ],
   "source": [
    "df_main[df_main[\"price\"].isna()]"
   ]
  },
  {
   "cell_type": "code",
   "execution_count": 11,
   "metadata": {},
   "outputs": [
    {
     "data": {
      "text/html": [
       "<div>\n",
       "<style scoped>\n",
       "    .dataframe tbody tr th:only-of-type {\n",
       "        vertical-align: middle;\n",
       "    }\n",
       "\n",
       "    .dataframe tbody tr th {\n",
       "        vertical-align: top;\n",
       "    }\n",
       "\n",
       "    .dataframe thead th {\n",
       "        text-align: right;\n",
       "    }\n",
       "</style>\n",
       "<table border=\"1\" class=\"dataframe\">\n",
       "  <thead>\n",
       "    <tr style=\"text-align: right;\">\n",
       "      <th></th>\n",
       "      <th>Missing Data</th>\n",
       "      <th>Percentage (%)</th>\n",
       "    </tr>\n",
       "  </thead>\n",
       "  <tbody>\n",
       "    <tr>\n",
       "      <th>order_id</th>\n",
       "      <td>0</td>\n",
       "      <td>0.0</td>\n",
       "    </tr>\n",
       "    <tr>\n",
       "      <th>seller_id</th>\n",
       "      <td>0</td>\n",
       "      <td>0.0</td>\n",
       "    </tr>\n",
       "    <tr>\n",
       "      <th>product_name</th>\n",
       "      <td>0</td>\n",
       "      <td>0.0</td>\n",
       "    </tr>\n",
       "    <tr>\n",
       "      <th>price</th>\n",
       "      <td>0</td>\n",
       "      <td>0.0</td>\n",
       "    </tr>\n",
       "    <tr>\n",
       "      <th>review_score</th>\n",
       "      <td>0</td>\n",
       "      <td>0.0</td>\n",
       "    </tr>\n",
       "  </tbody>\n",
       "</table>\n",
       "</div>"
      ],
      "text/plain": [
       "              Missing Data  Percentage (%)\n",
       "order_id                 0             0.0\n",
       "seller_id                0             0.0\n",
       "product_name             0             0.0\n",
       "price                    0             0.0\n",
       "review_score             0             0.0"
      ]
     },
     "execution_count": 11,
     "metadata": {},
     "output_type": "execute_result"
    }
   ],
   "source": [
    "df_main.dropna(inplace=True)\n",
    "\n",
    "missing_value_table(df_main)"
   ]
  },
  {
   "cell_type": "markdown",
   "metadata": {},
   "source": [
    "#### **Finding Duplicates**"
   ]
  },
  {
   "cell_type": "code",
   "execution_count": 12,
   "metadata": {},
   "outputs": [
    {
     "name": "stdout",
     "output_type": "stream",
     "text": [
      "Number of Duplicates:  19486\n"
     ]
    },
    {
     "data": {
      "text/html": [
       "<div>\n",
       "<style scoped>\n",
       "    .dataframe tbody tr th:only-of-type {\n",
       "        vertical-align: middle;\n",
       "    }\n",
       "\n",
       "    .dataframe tbody tr th {\n",
       "        vertical-align: top;\n",
       "    }\n",
       "\n",
       "    .dataframe thead th {\n",
       "        text-align: right;\n",
       "    }\n",
       "</style>\n",
       "<table border=\"1\" class=\"dataframe\">\n",
       "  <thead>\n",
       "    <tr style=\"text-align: right;\">\n",
       "      <th></th>\n",
       "      <th>order_id</th>\n",
       "      <th>seller_id</th>\n",
       "      <th>product_name</th>\n",
       "      <th>price</th>\n",
       "      <th>review_score</th>\n",
       "    </tr>\n",
       "  </thead>\n",
       "  <tbody>\n",
       "    <tr>\n",
       "      <th>10</th>\n",
       "      <td>e6ce16cb79ec1d90b1da9085a6118aeb</td>\n",
       "      <td>001cca7ae9ae17fb1caed9dfb1094831</td>\n",
       "      <td>ferramentas_jardim</td>\n",
       "      <td>99.00</td>\n",
       "      <td>1.0</td>\n",
       "    </tr>\n",
       "    <tr>\n",
       "      <th>11</th>\n",
       "      <td>e6ce16cb79ec1d90b1da9085a6118aeb</td>\n",
       "      <td>001cca7ae9ae17fb1caed9dfb1094831</td>\n",
       "      <td>ferramentas_jardim</td>\n",
       "      <td>99.00</td>\n",
       "      <td>1.0</td>\n",
       "    </tr>\n",
       "    <tr>\n",
       "      <th>54</th>\n",
       "      <td>9faeb9b2746b9d7526aef5acb08e2aa0</td>\n",
       "      <td>f7ba60f8c3f99e7ee4042fdef03b70c4</td>\n",
       "      <td>esporte_lazer</td>\n",
       "      <td>60.00</td>\n",
       "      <td>1.0</td>\n",
       "    </tr>\n",
       "    <tr>\n",
       "      <th>55</th>\n",
       "      <td>9faeb9b2746b9d7526aef5acb08e2aa0</td>\n",
       "      <td>f7ba60f8c3f99e7ee4042fdef03b70c4</td>\n",
       "      <td>esporte_lazer</td>\n",
       "      <td>60.00</td>\n",
       "      <td>1.0</td>\n",
       "    </tr>\n",
       "    <tr>\n",
       "      <th>60</th>\n",
       "      <td>66e4624ae69e7dc89bd50222b59f581f</td>\n",
       "      <td>db4350fd57ae30082dec7acbaacc17f9</td>\n",
       "      <td>telefonia</td>\n",
       "      <td>22.99</td>\n",
       "      <td>1.0</td>\n",
       "    </tr>\n",
       "    <tr>\n",
       "      <th>...</th>\n",
       "      <td>...</td>\n",
       "      <td>...</td>\n",
       "      <td>...</td>\n",
       "      <td>...</td>\n",
       "      <td>...</td>\n",
       "    </tr>\n",
       "    <tr>\n",
       "      <th>114044</th>\n",
       "      <td>b3112ca67f3afd4e20cf2ee91fc4f804</td>\n",
       "      <td>5b0cc932433fa5184b5b94bfe6bcc256</td>\n",
       "      <td>moveis_quarto</td>\n",
       "      <td>95.00</td>\n",
       "      <td>2.0</td>\n",
       "    </tr>\n",
       "    <tr>\n",
       "      <th>114062</th>\n",
       "      <td>e8fd20068b9f7e6ec07068bb7537f781</td>\n",
       "      <td>218d46b86c1881d022bce9c68a7d4b15</td>\n",
       "      <td>esporte_lazer</td>\n",
       "      <td>356.00</td>\n",
       "      <td>4.0</td>\n",
       "    </tr>\n",
       "    <tr>\n",
       "      <th>114063</th>\n",
       "      <td>e8fd20068b9f7e6ec07068bb7537f781</td>\n",
       "      <td>218d46b86c1881d022bce9c68a7d4b15</td>\n",
       "      <td>esporte_lazer</td>\n",
       "      <td>356.00</td>\n",
       "      <td>4.0</td>\n",
       "    </tr>\n",
       "    <tr>\n",
       "      <th>114089</th>\n",
       "      <td>11c177c8e97725db2631073c19f07b62</td>\n",
       "      <td>a1043bafd471dff536d0c462352beb48</td>\n",
       "      <td>informatica_acessorios</td>\n",
       "      <td>179.99</td>\n",
       "      <td>2.0</td>\n",
       "    </tr>\n",
       "    <tr>\n",
       "      <th>114090</th>\n",
       "      <td>11c177c8e97725db2631073c19f07b62</td>\n",
       "      <td>a1043bafd471dff536d0c462352beb48</td>\n",
       "      <td>informatica_acessorios</td>\n",
       "      <td>179.99</td>\n",
       "      <td>2.0</td>\n",
       "    </tr>\n",
       "  </tbody>\n",
       "</table>\n",
       "<p>19486 rows × 5 columns</p>\n",
       "</div>"
      ],
      "text/plain": [
       "                                order_id                         seller_id  \\\n",
       "10      e6ce16cb79ec1d90b1da9085a6118aeb  001cca7ae9ae17fb1caed9dfb1094831   \n",
       "11      e6ce16cb79ec1d90b1da9085a6118aeb  001cca7ae9ae17fb1caed9dfb1094831   \n",
       "54      9faeb9b2746b9d7526aef5acb08e2aa0  f7ba60f8c3f99e7ee4042fdef03b70c4   \n",
       "55      9faeb9b2746b9d7526aef5acb08e2aa0  f7ba60f8c3f99e7ee4042fdef03b70c4   \n",
       "60      66e4624ae69e7dc89bd50222b59f581f  db4350fd57ae30082dec7acbaacc17f9   \n",
       "...                                  ...                               ...   \n",
       "114044  b3112ca67f3afd4e20cf2ee91fc4f804  5b0cc932433fa5184b5b94bfe6bcc256   \n",
       "114062  e8fd20068b9f7e6ec07068bb7537f781  218d46b86c1881d022bce9c68a7d4b15   \n",
       "114063  e8fd20068b9f7e6ec07068bb7537f781  218d46b86c1881d022bce9c68a7d4b15   \n",
       "114089  11c177c8e97725db2631073c19f07b62  a1043bafd471dff536d0c462352beb48   \n",
       "114090  11c177c8e97725db2631073c19f07b62  a1043bafd471dff536d0c462352beb48   \n",
       "\n",
       "                  product_name   price  review_score  \n",
       "10          ferramentas_jardim   99.00           1.0  \n",
       "11          ferramentas_jardim   99.00           1.0  \n",
       "54               esporte_lazer   60.00           1.0  \n",
       "55               esporte_lazer   60.00           1.0  \n",
       "60                   telefonia   22.99           1.0  \n",
       "...                        ...     ...           ...  \n",
       "114044           moveis_quarto   95.00           2.0  \n",
       "114062           esporte_lazer  356.00           4.0  \n",
       "114063           esporte_lazer  356.00           4.0  \n",
       "114089  informatica_acessorios  179.99           2.0  \n",
       "114090  informatica_acessorios  179.99           2.0  \n",
       "\n",
       "[19486 rows x 5 columns]"
      ]
     },
     "execution_count": 12,
     "metadata": {},
     "output_type": "execute_result"
    }
   ],
   "source": [
    "n_duplicates = df_main.duplicated(keep=False).sum()\n",
    "\n",
    "print(\"Number of Duplicates: \", n_duplicates)\n",
    "df_main[df_main.duplicated(keep=False)]"
   ]
  },
  {
   "cell_type": "code",
   "execution_count": 13,
   "metadata": {},
   "outputs": [
    {
     "name": "stdout",
     "output_type": "stream",
     "text": [
      "Number of Duplicates:  0\n"
     ]
    },
    {
     "data": {
      "text/html": [
       "<div>\n",
       "<style scoped>\n",
       "    .dataframe tbody tr th:only-of-type {\n",
       "        vertical-align: middle;\n",
       "    }\n",
       "\n",
       "    .dataframe tbody tr th {\n",
       "        vertical-align: top;\n",
       "    }\n",
       "\n",
       "    .dataframe thead th {\n",
       "        text-align: right;\n",
       "    }\n",
       "</style>\n",
       "<table border=\"1\" class=\"dataframe\">\n",
       "  <thead>\n",
       "    <tr style=\"text-align: right;\">\n",
       "      <th></th>\n",
       "      <th>order_id</th>\n",
       "      <th>seller_id</th>\n",
       "      <th>product_name</th>\n",
       "      <th>price</th>\n",
       "      <th>review_score</th>\n",
       "    </tr>\n",
       "  </thead>\n",
       "  <tbody>\n",
       "  </tbody>\n",
       "</table>\n",
       "</div>"
      ],
      "text/plain": [
       "Empty DataFrame\n",
       "Columns: [order_id, seller_id, product_name, price, review_score]\n",
       "Index: []"
      ]
     },
     "execution_count": 13,
     "metadata": {},
     "output_type": "execute_result"
    }
   ],
   "source": [
    "# Removing duplicates\n",
    "df_main.drop_duplicates(keep=\"first\", inplace=True)\n",
    "\n",
    "# Re-check duplicates\n",
    "n_duplicates = df_main.duplicated(keep=False).sum()\n",
    "\n",
    "print(\"Number of Duplicates: \", n_duplicates)\n",
    "df_main[df_main.duplicated(keep=False)]"
   ]
  },
  {
   "cell_type": "markdown",
   "metadata": {},
   "source": [
    "#### **Handling Outliers**"
   ]
  },
  {
   "cell_type": "code",
   "execution_count": 14,
   "metadata": {},
   "outputs": [
    {
     "data": {
      "image/png": "[encoded data removed]",
      "text/plain": [
       "<Figure size 432x288 with 1 Axes>"
      ]
     },
     "metadata": {
      "needs_background": "light"
     },
     "output_type": "display_data"
    }
   ],
   "source": [
    "# Create Boxplot\n",
    "sns.boxplot(x=df_main[\"price\"])\n",
    "\n",
    "#Modify Graph Info\n",
    "plt.title(\"Outliers on Price Data\")\n",
    "plt.xlabel(\"Price (USD)\")\n",
    "plt.show()"
   ]
  },
  {
   "cell_type": "code",
   "execution_count": 15,
   "metadata": {},
   "outputs": [
    {
     "name": "stdout",
     "output_type": "stream",
     "text": [
      "Number of Outliers:  7548\n",
      "Total of Datapoints:  99349\n",
      "Outliers to Total Data Percentage: 7.597%\n"
     ]
    }
   ],
   "source": [
    "# Check the 1.5IQR Rule\n",
    "q1 = df_main[\"price\"].quantile(.25)\n",
    "q3 = df_main[\"price\"].quantile(.75)\n",
    "iqr = q3 - q1\n",
    "\n",
    "lower_iqr = df_main[\"price\"] < q1 - 1.5*iqr\n",
    "upper_iqr = df_main[\"price\"] > q3 + 1.5*iqr\n",
    "\n",
    "outliers = df_main[lower_iqr | upper_iqr]\n",
    "\n",
    "print(\"Number of Outliers: \", outliers[\"price\"].count())\n",
    "print(\"Total of Datapoints: \", df_main[\"price\"].count())\n",
    "print(\"Outliers to Total Data Percentage: \"\\\n",
    "      + f\"{round((outliers['price'].count()/df_main['price'].count())*100, 3)}%\")"
   ]
  },
  {
   "cell_type": "code",
   "execution_count": 16,
   "metadata": {},
   "outputs": [
    {
     "data": {
      "text/plain": [
       "40    79.0\n",
       "43    79.0\n",
       "56    79.0\n",
       "66    79.0\n",
       "70    79.0\n",
       "Name: price, dtype: float64"
      ]
     },
     "execution_count": 16,
     "metadata": {},
     "output_type": "execute_result"
    }
   ],
   "source": [
    "# Check the 1.5IQR Rule\n",
    "q1 = df_main[\"price\"].quantile(.25)\n",
    "q3 = df_main[\"price\"].quantile(.75)\n",
    "iqr = q3 - q1\n",
    "\n",
    "lower_iqr = df_main[\"price\"] < q1 - 1.5*iqr\n",
    "upper_iqr = df_main[\"price\"] > q3 + 1.5*iqr\n",
    "\n",
    "outliers = df_main[lower_iqr | upper_iqr]\n",
    "\n",
    "new_outliers_value = df_main[\"price\"].median()\n",
    "\n",
    "df_main.loc[lower_iqr | upper_iqr, \"price\"] = new_outliers_value\n",
    "df_main[lower_iqr | upper_iqr][\"price\"].head()"
   ]
  },
  {
   "cell_type": "code",
   "execution_count": 17,
   "metadata": {},
   "outputs": [
    {
     "data": {
      "text/plain": [
       "<AxesSubplot:xlabel='price'>"
      ]
     },
     "execution_count": 17,
     "metadata": {},
     "output_type": "execute_result"
    },
    {
     "data": {
      "image/png": "[encoded data removed]",
      "text/plain": [
       "<Figure size 432x288 with 1 Axes>"
      ]
     },
     "metadata": {
      "needs_background": "light"
     },
     "output_type": "display_data"
    }
   ],
   "source": [
    "sns.boxplot(x=df_main[\"price\"])"
   ]
  },
  {
   "cell_type": "markdown",
   "metadata": {},
   "source": [
    "#### **Formatting Data**"
   ]
  },
  {
   "cell_type": "code",
   "execution_count": 18,
   "metadata": {},
   "outputs": [
    {
     "name": "stdout",
     "output_type": "stream",
     "text": [
      "<class 'pandas.core.frame.DataFrame'>\n",
      "Int64Index: 99349 entries, 0 to 114091\n",
      "Data columns (total 5 columns):\n",
      " #   Column        Non-Null Count  Dtype  \n",
      "---  ------        --------------  -----  \n",
      " 0   order_id      99349 non-null  object \n",
      " 1   seller_id     99349 non-null  object \n",
      " 2   product_name  99349 non-null  object \n",
      " 3   price         99349 non-null  float64\n",
      " 4   review_score  99349 non-null  float64\n",
      "dtypes: float64(2), object(3)\n",
      "memory usage: 4.5+ MB\n"
     ]
    }
   ],
   "source": [
    "df_main.info()"
   ]
  },
  {
   "cell_type": "code",
   "execution_count": 19,
   "metadata": {},
   "outputs": [
    {
     "name": "stdout",
     "output_type": "stream",
     "text": [
      "<class 'pandas.core.frame.DataFrame'>\n",
      "Int64Index: 99349 entries, 0 to 114091\n",
      "Data columns (total 5 columns):\n",
      " #   Column        Non-Null Count  Dtype  \n",
      "---  ------        --------------  -----  \n",
      " 0   order_id      99349 non-null  object \n",
      " 1   seller_id     99349 non-null  object \n",
      " 2   product_name  99349 non-null  object \n",
      " 3   price         99349 non-null  float64\n",
      " 4   review_score  99349 non-null  int32  \n",
      "dtypes: float64(1), int32(1), object(3)\n",
      "memory usage: 4.2+ MB\n"
     ]
    }
   ],
   "source": [
    "# Change review_score data type to integer\n",
    "df_main[\"review_score\"] = df_main[\"review_score\"].astype(int)\n",
    "\n",
    "# Check data type changes\n",
    "df_main.info()"
   ]
  },
  {
   "cell_type": "markdown",
   "metadata": {},
   "source": [
    "##### Translating Product From Portuguese to English"
   ]
  },
  {
   "cell_type": "code",
   "execution_count": 20,
   "metadata": {},
   "outputs": [
    {
     "data": {
      "text/html": [
       "<div>\n",
       "<style scoped>\n",
       "    .dataframe tbody tr th:only-of-type {\n",
       "        vertical-align: middle;\n",
       "    }\n",
       "\n",
       "    .dataframe tbody tr th {\n",
       "        vertical-align: top;\n",
       "    }\n",
       "\n",
       "    .dataframe thead th {\n",
       "        text-align: right;\n",
       "    }\n",
       "</style>\n",
       "<table border=\"1\" class=\"dataframe\">\n",
       "  <thead>\n",
       "    <tr style=\"text-align: right;\">\n",
       "      <th></th>\n",
       "      <th>order_id</th>\n",
       "      <th>seller_id</th>\n",
       "      <th>product_name</th>\n",
       "      <th>price</th>\n",
       "      <th>review_score</th>\n",
       "    </tr>\n",
       "  </thead>\n",
       "  <tbody>\n",
       "    <tr>\n",
       "      <th>0</th>\n",
       "      <td>e481f51cbdc54678b7cc49136f2d6af7</td>\n",
       "      <td>3504c0cb71d7fa48d967e0e4c94d59d9</td>\n",
       "      <td>utilidades_domesticas</td>\n",
       "      <td>29.99</td>\n",
       "      <td>4</td>\n",
       "    </tr>\n",
       "    <tr>\n",
       "      <th>1</th>\n",
       "      <td>53cdb2fc8bc7dce0b6741e2150273451</td>\n",
       "      <td>289cdb325fb7e7f891c38608bf9e0962</td>\n",
       "      <td>perfumaria</td>\n",
       "      <td>118.70</td>\n",
       "      <td>4</td>\n",
       "    </tr>\n",
       "    <tr>\n",
       "      <th>2</th>\n",
       "      <td>47770eb9100c2d0c44946d9cf07ec65d</td>\n",
       "      <td>4869f7a5dfa277a7dca6462dcf3b52b2</td>\n",
       "      <td>automotivo</td>\n",
       "      <td>159.90</td>\n",
       "      <td>5</td>\n",
       "    </tr>\n",
       "    <tr>\n",
       "      <th>3</th>\n",
       "      <td>949d5b44dbf5de918fe9c16f97b45f8a</td>\n",
       "      <td>66922902710d126a0e7d26b0e3805106</td>\n",
       "      <td>pet_shop</td>\n",
       "      <td>45.00</td>\n",
       "      <td>5</td>\n",
       "    </tr>\n",
       "    <tr>\n",
       "      <th>4</th>\n",
       "      <td>ad21c59c0840e6cb83a9ceb5573f8159</td>\n",
       "      <td>2c9e548be18521d1c43cde1c582c6de8</td>\n",
       "      <td>papelaria</td>\n",
       "      <td>19.90</td>\n",
       "      <td>5</td>\n",
       "    </tr>\n",
       "  </tbody>\n",
       "</table>\n",
       "</div>"
      ],
      "text/plain": [
       "                           order_id                         seller_id  \\\n",
       "0  e481f51cbdc54678b7cc49136f2d6af7  3504c0cb71d7fa48d967e0e4c94d59d9   \n",
       "1  53cdb2fc8bc7dce0b6741e2150273451  289cdb325fb7e7f891c38608bf9e0962   \n",
       "2  47770eb9100c2d0c44946d9cf07ec65d  4869f7a5dfa277a7dca6462dcf3b52b2   \n",
       "3  949d5b44dbf5de918fe9c16f97b45f8a  66922902710d126a0e7d26b0e3805106   \n",
       "4  ad21c59c0840e6cb83a9ceb5573f8159  2c9e548be18521d1c43cde1c582c6de8   \n",
       "\n",
       "            product_name   price  review_score  \n",
       "0  utilidades_domesticas   29.99             4  \n",
       "1             perfumaria  118.70             4  \n",
       "2             automotivo  159.90             5  \n",
       "3               pet_shop   45.00             5  \n",
       "4              papelaria   19.90             5  "
      ]
     },
     "execution_count": 20,
     "metadata": {},
     "output_type": "execute_result"
    }
   ],
   "source": [
    "# Checking Table\n",
    "df_main.head()"
   ]
  },
  {
   "cell_type": "code",
   "execution_count": 21,
   "metadata": {},
   "outputs": [
    {
     "data": {
      "text/html": [
       "<div>\n",
       "<style scoped>\n",
       "    .dataframe tbody tr th:only-of-type {\n",
       "        vertical-align: middle;\n",
       "    }\n",
       "\n",
       "    .dataframe tbody tr th {\n",
       "        vertical-align: top;\n",
       "    }\n",
       "\n",
       "    .dataframe thead th {\n",
       "        text-align: right;\n",
       "    }\n",
       "</style>\n",
       "<table border=\"1\" class=\"dataframe\">\n",
       "  <thead>\n",
       "    <tr style=\"text-align: right;\">\n",
       "      <th></th>\n",
       "      <th>order_id</th>\n",
       "      <th>seller_id</th>\n",
       "      <th>product_name</th>\n",
       "      <th>price</th>\n",
       "      <th>review_score</th>\n",
       "    </tr>\n",
       "  </thead>\n",
       "  <tbody>\n",
       "    <tr>\n",
       "      <th>0</th>\n",
       "      <td>e481f51cbdc54678b7cc49136f2d6af7</td>\n",
       "      <td>3504c0cb71d7fa48d967e0e4c94d59d9</td>\n",
       "      <td>Housewares</td>\n",
       "      <td>29.99</td>\n",
       "      <td>4</td>\n",
       "    </tr>\n",
       "    <tr>\n",
       "      <th>1</th>\n",
       "      <td>53cdb2fc8bc7dce0b6741e2150273451</td>\n",
       "      <td>289cdb325fb7e7f891c38608bf9e0962</td>\n",
       "      <td>Perfumery</td>\n",
       "      <td>118.70</td>\n",
       "      <td>4</td>\n",
       "    </tr>\n",
       "    <tr>\n",
       "      <th>2</th>\n",
       "      <td>47770eb9100c2d0c44946d9cf07ec65d</td>\n",
       "      <td>4869f7a5dfa277a7dca6462dcf3b52b2</td>\n",
       "      <td>Auto</td>\n",
       "      <td>159.90</td>\n",
       "      <td>5</td>\n",
       "    </tr>\n",
       "    <tr>\n",
       "      <th>3</th>\n",
       "      <td>949d5b44dbf5de918fe9c16f97b45f8a</td>\n",
       "      <td>66922902710d126a0e7d26b0e3805106</td>\n",
       "      <td>Pet shop</td>\n",
       "      <td>45.00</td>\n",
       "      <td>5</td>\n",
       "    </tr>\n",
       "    <tr>\n",
       "      <th>4</th>\n",
       "      <td>ad21c59c0840e6cb83a9ceb5573f8159</td>\n",
       "      <td>2c9e548be18521d1c43cde1c582c6de8</td>\n",
       "      <td>Stationery</td>\n",
       "      <td>19.90</td>\n",
       "      <td>5</td>\n",
       "    </tr>\n",
       "  </tbody>\n",
       "</table>\n",
       "</div>"
      ],
      "text/plain": [
       "                           order_id                         seller_id  \\\n",
       "0  e481f51cbdc54678b7cc49136f2d6af7  3504c0cb71d7fa48d967e0e4c94d59d9   \n",
       "1  53cdb2fc8bc7dce0b6741e2150273451  289cdb325fb7e7f891c38608bf9e0962   \n",
       "2  47770eb9100c2d0c44946d9cf07ec65d  4869f7a5dfa277a7dca6462dcf3b52b2   \n",
       "3  949d5b44dbf5de918fe9c16f97b45f8a  66922902710d126a0e7d26b0e3805106   \n",
       "4  ad21c59c0840e6cb83a9ceb5573f8159  2c9e548be18521d1c43cde1c582c6de8   \n",
       "\n",
       "  product_name   price  review_score  \n",
       "0   Housewares   29.99             4  \n",
       "1    Perfumery  118.70             4  \n",
       "2         Auto  159.90             5  \n",
       "3     Pet shop   45.00             5  \n",
       "4   Stationery   19.90             5  "
      ]
     },
     "execution_count": 21,
     "metadata": {},
     "output_type": "execute_result"
    }
   ],
   "source": [
    "df_translation_table = pd.read_sql(translation_table, connection)\n",
    "translation_map = translate_products(df_translation_table)\n",
    "\n",
    "df_main.replace(translation_map, inplace=True)\n",
    "df_main.head()"
   ]
  },
  {
   "cell_type": "code",
   "execution_count": 22,
   "metadata": {},
   "outputs": [
    {
     "data": {
      "text/plain": [
       "['portateis_cozinha_e_preparadores_de_alimentos', 'pc_gamer']"
      ]
     },
     "execution_count": 22,
     "metadata": {},
     "output_type": "execute_result"
    }
   ],
   "source": [
    "# Re-checking the translated products\n",
    "products = df_main[\"product_name\"].unique()\n",
    "not_translated = [product for product in products if \"_\" in product]\n",
    "not_translated"
   ]
  },
  {
   "cell_type": "code",
   "execution_count": 23,
   "metadata": {},
   "outputs": [
    {
     "data": {
      "text/plain": [
       "[]"
      ]
     },
     "execution_count": 23,
     "metadata": {},
     "output_type": "execute_result"
    }
   ],
   "source": [
    "# Adding unformatted and not translated data\n",
    "translation_map[\"pc_gamer\"] = \"PC Gamer\" \n",
    "translation_map[\"portateis_cozinha_e_preparadores_de_alimentos\"] = \"Kitchen and Food Preparation racks\"\n",
    "\n",
    "# Replacing unformatted and not translated data\n",
    "df_main[\"product_name\"].replace(translation_map, inplace=True)\n",
    "\n",
    "# Re-checking the \n",
    "products = df_main[\"product_name\"].unique()\n",
    "not_translated = [product for product in products if \"_\" in product]\n",
    "not_translated"
   ]
  },
  {
   "cell_type": "code",
   "execution_count": 124,
   "metadata": {},
   "outputs": [
    {
     "data": {
      "text/html": [
       "<div>\n",
       "<style scoped>\n",
       "    .dataframe tbody tr th:only-of-type {\n",
       "        vertical-align: middle;\n",
       "    }\n",
       "\n",
       "    .dataframe tbody tr th {\n",
       "        vertical-align: top;\n",
       "    }\n",
       "\n",
       "    .dataframe thead th {\n",
       "        text-align: right;\n",
       "    }\n",
       "</style>\n",
       "<table border=\"1\" class=\"dataframe\">\n",
       "  <thead>\n",
       "    <tr style=\"text-align: right;\">\n",
       "      <th></th>\n",
       "      <th>order_id</th>\n",
       "      <th>seller_id</th>\n",
       "      <th>product_name</th>\n",
       "      <th>price</th>\n",
       "      <th>review_score</th>\n",
       "    </tr>\n",
       "  </thead>\n",
       "  <tbody>\n",
       "    <tr>\n",
       "      <th>0</th>\n",
       "      <td>e481f51cbdc54678b7cc49136f2d6af7</td>\n",
       "      <td>sellers 0</td>\n",
       "      <td>Housewares</td>\n",
       "      <td>29.99</td>\n",
       "      <td>4</td>\n",
       "    </tr>\n",
       "    <tr>\n",
       "      <th>1</th>\n",
       "      <td>53cdb2fc8bc7dce0b6741e2150273451</td>\n",
       "      <td>sellers 1</td>\n",
       "      <td>Perfumery</td>\n",
       "      <td>118.70</td>\n",
       "      <td>4</td>\n",
       "    </tr>\n",
       "    <tr>\n",
       "      <th>2</th>\n",
       "      <td>47770eb9100c2d0c44946d9cf07ec65d</td>\n",
       "      <td>sellers 2</td>\n",
       "      <td>Auto</td>\n",
       "      <td>159.90</td>\n",
       "      <td>5</td>\n",
       "    </tr>\n",
       "    <tr>\n",
       "      <th>3</th>\n",
       "      <td>949d5b44dbf5de918fe9c16f97b45f8a</td>\n",
       "      <td>sellers 3</td>\n",
       "      <td>Pet shop</td>\n",
       "      <td>45.00</td>\n",
       "      <td>5</td>\n",
       "    </tr>\n",
       "    <tr>\n",
       "      <th>4</th>\n",
       "      <td>ad21c59c0840e6cb83a9ceb5573f8159</td>\n",
       "      <td>sellers 4</td>\n",
       "      <td>Stationery</td>\n",
       "      <td>19.90</td>\n",
       "      <td>5</td>\n",
       "    </tr>\n",
       "  </tbody>\n",
       "</table>\n",
       "</div>"
      ],
      "text/plain": [
       "                           order_id  seller_id product_name   price  \\\n",
       "0  e481f51cbdc54678b7cc49136f2d6af7  sellers 0   Housewares   29.99   \n",
       "1  53cdb2fc8bc7dce0b6741e2150273451  sellers 1    Perfumery  118.70   \n",
       "2  47770eb9100c2d0c44946d9cf07ec65d  sellers 2         Auto  159.90   \n",
       "3  949d5b44dbf5de918fe9c16f97b45f8a  sellers 3     Pet shop   45.00   \n",
       "4  ad21c59c0840e6cb83a9ceb5573f8159  sellers 4   Stationery   19.90   \n",
       "\n",
       "   review_score  \n",
       "0             4  \n",
       "1             4  \n",
       "2             5  \n",
       "3             5  \n",
       "4             5  "
      ]
     },
     "execution_count": 124,
     "metadata": {},
     "output_type": "execute_result"
    }
   ],
   "source": [
    "seller_id = df_main[\"seller_id\"].unique()\n",
    "seller_name = [f\"sellers {i}\" for i, _ in enumerate(seller_id)]\n",
    "\n",
    "new_seller_id = dict(zip(seller_id, seller_name))\n",
    "\n",
    "df_main.replace(new_seller_id, inplace=True)\n",
    "df_main.head()"
   ]
  },
  {
   "cell_type": "markdown",
   "metadata": {},
   "source": [
    "### **Data Analysis**"
   ]
  },
  {
   "cell_type": "markdown",
   "metadata": {},
   "source": [
    "#### **Use Case 1: Which products are ordered the most and the least?**"
   ]
  },
  {
   "cell_type": "code",
   "execution_count": 30,
   "metadata": {},
   "outputs": [
    {
     "data": {
      "text/html": [
       "<div>\n",
       "<style scoped>\n",
       "    .dataframe tbody tr th:only-of-type {\n",
       "        vertical-align: middle;\n",
       "    }\n",
       "\n",
       "    .dataframe tbody tr th {\n",
       "        vertical-align: top;\n",
       "    }\n",
       "\n",
       "    .dataframe thead th {\n",
       "        text-align: right;\n",
       "    }\n",
       "</style>\n",
       "<table border=\"1\" class=\"dataframe\">\n",
       "  <thead>\n",
       "    <tr style=\"text-align: right;\">\n",
       "      <th></th>\n",
       "      <th>order_id</th>\n",
       "    </tr>\n",
       "    <tr>\n",
       "      <th>product_name</th>\n",
       "      <th></th>\n",
       "    </tr>\n",
       "  </thead>\n",
       "  <tbody>\n",
       "    <tr>\n",
       "      <th>Agro industry and commerce</th>\n",
       "      <td>183</td>\n",
       "    </tr>\n",
       "    <tr>\n",
       "      <th>Air conditioning</th>\n",
       "      <td>250</td>\n",
       "    </tr>\n",
       "    <tr>\n",
       "      <th>Art</th>\n",
       "      <td>200</td>\n",
       "    </tr>\n",
       "    <tr>\n",
       "      <th>Arts and craftmanship</th>\n",
       "      <td>24</td>\n",
       "    </tr>\n",
       "    <tr>\n",
       "      <th>Audio</th>\n",
       "      <td>348</td>\n",
       "    </tr>\n",
       "  </tbody>\n",
       "</table>\n",
       "</div>"
      ],
      "text/plain": [
       "                            order_id\n",
       "product_name                        \n",
       "Agro industry and commerce       183\n",
       "Air conditioning                 250\n",
       "Art                              200\n",
       "Arts and craftmanship             24\n",
       "Audio                            348"
      ]
     },
     "execution_count": 30,
     "metadata": {},
     "output_type": "execute_result"
    }
   ],
   "source": [
    "df_ordered_products = df_main[\n",
    "        [\"product_name\", \"order_id\"]].groupby(\"product_name\").agg(\"count\")\n",
    "\n",
    "df_ordered_products.head()"
   ]
  },
  {
   "cell_type": "code",
   "execution_count": 31,
   "metadata": {},
   "outputs": [
    {
     "data": {
      "text/html": [
       "<div>\n",
       "<style scoped>\n",
       "    .dataframe tbody tr th:only-of-type {\n",
       "        vertical-align: middle;\n",
       "    }\n",
       "\n",
       "    .dataframe tbody tr th {\n",
       "        vertical-align: top;\n",
       "    }\n",
       "\n",
       "    .dataframe thead th {\n",
       "        text-align: right;\n",
       "    }\n",
       "</style>\n",
       "<table border=\"1\" class=\"dataframe\">\n",
       "  <thead>\n",
       "    <tr style=\"text-align: right;\">\n",
       "      <th></th>\n",
       "      <th>product_name</th>\n",
       "      <th>order_counts</th>\n",
       "    </tr>\n",
       "  </thead>\n",
       "  <tbody>\n",
       "    <tr>\n",
       "      <th>0</th>\n",
       "      <td>Agro industry and commerce</td>\n",
       "      <td>183</td>\n",
       "    </tr>\n",
       "    <tr>\n",
       "      <th>1</th>\n",
       "      <td>Air conditioning</td>\n",
       "      <td>250</td>\n",
       "    </tr>\n",
       "    <tr>\n",
       "      <th>2</th>\n",
       "      <td>Art</td>\n",
       "      <td>200</td>\n",
       "    </tr>\n",
       "    <tr>\n",
       "      <th>3</th>\n",
       "      <td>Arts and craftmanship</td>\n",
       "      <td>24</td>\n",
       "    </tr>\n",
       "    <tr>\n",
       "      <th>4</th>\n",
       "      <td>Audio</td>\n",
       "      <td>348</td>\n",
       "    </tr>\n",
       "  </tbody>\n",
       "</table>\n",
       "</div>"
      ],
      "text/plain": [
       "                 product_name  order_counts\n",
       "0  Agro industry and commerce           183\n",
       "1            Air conditioning           250\n",
       "2                         Art           200\n",
       "3       Arts and craftmanship            24\n",
       "4                       Audio           348"
      ]
     },
     "execution_count": 31,
     "metadata": {},
     "output_type": "execute_result"
    }
   ],
   "source": [
    "df_ordered_products.reset_index(inplace=True)\n",
    "df_ordered_products.rename(columns={\"order_id\": \"order_counts\"}, inplace=True)\n",
    "\n",
    "df_ordered_products.head()"
   ]
  },
  {
   "cell_type": "code",
   "execution_count": 64,
   "metadata": {},
   "outputs": [
    {
     "data": {
      "image/png": "[encoded data removed]",
      "text/plain": [
       "<Figure size 1440x576 with 2 Axes>"
      ]
     },
     "metadata": {
      "needs_background": "light"
     },
     "output_type": "display_data"
    }
   ],
   "source": [
    "# Setup the Matplotlib Axes\n",
    "\n",
    "fig, axes = plt.subplots(ncols=2, nrows=1, figsize=(20, 8))\n",
    "\n",
    "for i, _ in enumerate(axes):\n",
    "    if (i == 0):\n",
    "        # set the most ordered products\n",
    "        data = df_ordered_products.sort_values(\"order_counts\",\n",
    "                                               ascending=False)\n",
    "        bar_title = \"Top 10 Most Ordered Products\"\n",
    "    elif (i == 1):\n",
    "        data = df_ordered_products.sort_values(\"order_counts\")\n",
    "        bar_title = \"Top 10 Least Ordered Products\"\n",
    "\n",
    "    sns.barplot(x=\"product_name\", y=\"order_counts\", ax=axes[i],\n",
    "                palette=\"YlGnBu_r\", data=data[:10])\n",
    "\n",
    "    wrap_labels(axes[i], 10)\n",
    "    axes[i].bar_label(axes[i].containers[0])\n",
    "    axes[i].title.set_text(bar_title)\n",
    "    axes[i].set_xlabel(\"\\nProduct Category\")\n",
    "    axes[i].set_ylabel(\"Number of Ordered Products\")\n",
    "\n",
    "plt.tight_layout()\n",
    "plt.show()\n",
    "\n"
   ]
  },
  {
   "cell_type": "code",
   "execution_count": 78,
   "metadata": {},
   "outputs": [
    {
     "data": {
      "text/html": [
       "<div>\n",
       "<style scoped>\n",
       "    .dataframe tbody tr th:only-of-type {\n",
       "        vertical-align: middle;\n",
       "    }\n",
       "\n",
       "    .dataframe tbody tr th {\n",
       "        vertical-align: top;\n",
       "    }\n",
       "\n",
       "    .dataframe thead th {\n",
       "        text-align: right;\n",
       "    }\n",
       "</style>\n",
       "<table border=\"1\" class=\"dataframe\">\n",
       "  <thead>\n",
       "    <tr style=\"text-align: right;\">\n",
       "      <th></th>\n",
       "      <th>count</th>\n",
       "      <th>mean</th>\n",
       "      <th>std</th>\n",
       "      <th>min</th>\n",
       "      <th>25%</th>\n",
       "      <th>50%</th>\n",
       "      <th>75%</th>\n",
       "      <th>max</th>\n",
       "    </tr>\n",
       "  </thead>\n",
       "  <tbody>\n",
       "    <tr>\n",
       "      <th>order_counts</th>\n",
       "      <td>73.0</td>\n",
       "      <td>1360.945205</td>\n",
       "      <td>2293.162905</td>\n",
       "      <td>2.0</td>\n",
       "      <td>76.0</td>\n",
       "      <td>243.0</td>\n",
       "      <td>1289.0</td>\n",
       "      <td>9790.0</td>\n",
       "    </tr>\n",
       "  </tbody>\n",
       "</table>\n",
       "</div>"
      ],
      "text/plain": [
       "              count         mean          std  min   25%    50%     75%  \\\n",
       "order_counts   73.0  1360.945205  2293.162905  2.0  76.0  243.0  1289.0   \n",
       "\n",
       "                 max  \n",
       "order_counts  9790.0  "
      ]
     },
     "execution_count": 78,
     "metadata": {},
     "output_type": "execute_result"
    }
   ],
   "source": [
    "df_ordered_products.describe().transpose()"
   ]
  },
  {
   "cell_type": "markdown",
   "metadata": {},
   "source": [
    "#### **Use Case 2: How Does the Revenue Generated by Each Ordered Products**"
   ]
  },
  {
   "cell_type": "code",
   "execution_count": 133,
   "metadata": {},
   "outputs": [
    {
     "data": {
      "text/html": [
       "<div>\n",
       "<style scoped>\n",
       "    .dataframe tbody tr th:only-of-type {\n",
       "        vertical-align: middle;\n",
       "    }\n",
       "\n",
       "    .dataframe tbody tr th {\n",
       "        vertical-align: top;\n",
       "    }\n",
       "\n",
       "    .dataframe thead th {\n",
       "        text-align: right;\n",
       "    }\n",
       "</style>\n",
       "<table border=\"1\" class=\"dataframe\">\n",
       "  <thead>\n",
       "    <tr style=\"text-align: right;\">\n",
       "      <th></th>\n",
       "      <th>product_name</th>\n",
       "      <th>price</th>\n",
       "    </tr>\n",
       "  </thead>\n",
       "  <tbody>\n",
       "    <tr>\n",
       "      <th>0</th>\n",
       "      <td>Agro industry and commerce</td>\n",
       "      <td>14502.33</td>\n",
       "    </tr>\n",
       "    <tr>\n",
       "      <th>1</th>\n",
       "      <td>Air conditioning</td>\n",
       "      <td>28867.29</td>\n",
       "    </tr>\n",
       "    <tr>\n",
       "      <th>2</th>\n",
       "      <td>Art</td>\n",
       "      <td>17051.27</td>\n",
       "    </tr>\n",
       "    <tr>\n",
       "      <th>3</th>\n",
       "      <td>Arts and craftmanship</td>\n",
       "      <td>1603.52</td>\n",
       "    </tr>\n",
       "    <tr>\n",
       "      <th>4</th>\n",
       "      <td>Audio</td>\n",
       "      <td>29409.61</td>\n",
       "    </tr>\n",
       "    <tr>\n",
       "      <th>...</th>\n",
       "      <td>...</td>\n",
       "      <td>...</td>\n",
       "    </tr>\n",
       "    <tr>\n",
       "      <th>68</th>\n",
       "      <td>Stationery</td>\n",
       "      <td>199938.61</td>\n",
       "    </tr>\n",
       "    <tr>\n",
       "      <th>69</th>\n",
       "      <td>Tablets printing image</td>\n",
       "      <td>6152.63</td>\n",
       "    </tr>\n",
       "    <tr>\n",
       "      <th>70</th>\n",
       "      <td>Telephony</td>\n",
       "      <td>210809.30</td>\n",
       "    </tr>\n",
       "    <tr>\n",
       "      <th>71</th>\n",
       "      <td>Toys</td>\n",
       "      <td>342571.45</td>\n",
       "    </tr>\n",
       "    <tr>\n",
       "      <th>72</th>\n",
       "      <td>Watches gifts</td>\n",
       "      <td>650340.93</td>\n",
       "    </tr>\n",
       "  </tbody>\n",
       "</table>\n",
       "<p>73 rows × 2 columns</p>\n",
       "</div>"
      ],
      "text/plain": [
       "                  product_name      price\n",
       "0   Agro industry and commerce   14502.33\n",
       "1             Air conditioning   28867.29\n",
       "2                          Art   17051.27\n",
       "3        Arts and craftmanship    1603.52\n",
       "4                        Audio   29409.61\n",
       "..                         ...        ...\n",
       "68                  Stationery  199938.61\n",
       "69      Tablets printing image    6152.63\n",
       "70                   Telephony  210809.30\n",
       "71                        Toys  342571.45\n",
       "72               Watches gifts  650340.93\n",
       "\n",
       "[73 rows x 2 columns]"
      ]
     },
     "execution_count": 133,
     "metadata": {},
     "output_type": "execute_result"
    }
   ],
   "source": [
    "df_pricing = df_main[\n",
    "        [\"product_name\", \"price\"]\n",
    "    ].groupby(\"product_name\").agg(\"sum\").reset_index()\n",
    "\n",
    "df_pricing"
   ]
  },
  {
   "cell_type": "code",
   "execution_count": 137,
   "metadata": {},
   "outputs": [
    {
     "data": {
      "image/png": "[encoded data removed]",
      "text/plain": [
       "<Figure size 864x504 with 1 Axes>"
      ]
     },
     "metadata": {
      "needs_background": "light"
     },
     "output_type": "display_data"
    }
   ],
   "source": [
    "# Create chart\n",
    "plt.figure(figsize=(12, 7))\n",
    "\n",
    "ax = sns.barplot(x=\"product_name\", \n",
    "                 y=\"price\",\n",
    "                 palette=\"YlGnBu_r\", \n",
    "                 data=df_pricing[:10],\n",
    "                 order=df_pricing[:10]\n",
    "                       .sort_values(\"price\", \n",
    "                                     ascending=False).product_name)  \n",
    "# Adding data label into the graph\n",
    "wrap_labels(ax, 10)\n",
    "plt.bar_label(ax.containers[0])\n",
    "\n",
    "# Adding table name and axes labels\n",
    "plt.title(\"Proportion of Products by Review Score\")\n",
    "plt.xlabel(\"Review Score\")\n",
    "plt.ylabel(\"Product Proportion\")\n",
    "plt.show()"
   ]
  },
  {
   "cell_type": "markdown",
   "metadata": {},
   "source": [
    "#### **Use Case 3: How Does the Proportion of Review Score of the Ordered Products?**"
   ]
  },
  {
   "cell_type": "code",
   "execution_count": 110,
   "metadata": {},
   "outputs": [
    {
     "data": {
      "text/html": [
       "<div>\n",
       "<style scoped>\n",
       "    .dataframe tbody tr th:only-of-type {\n",
       "        vertical-align: middle;\n",
       "    }\n",
       "\n",
       "    .dataframe tbody tr th {\n",
       "        vertical-align: top;\n",
       "    }\n",
       "\n",
       "    .dataframe thead th {\n",
       "        text-align: right;\n",
       "    }\n",
       "</style>\n",
       "<table border=\"1\" class=\"dataframe\">\n",
       "  <thead>\n",
       "    <tr style=\"text-align: right;\">\n",
       "      <th></th>\n",
       "      <th>order_id</th>\n",
       "      <th>product_name</th>\n",
       "      <th>review_score</th>\n",
       "    </tr>\n",
       "  </thead>\n",
       "  <tbody>\n",
       "    <tr>\n",
       "      <th>0</th>\n",
       "      <td>e481f51cbdc54678b7cc49136f2d6af7</td>\n",
       "      <td>Housewares</td>\n",
       "      <td>4</td>\n",
       "    </tr>\n",
       "    <tr>\n",
       "      <th>1</th>\n",
       "      <td>53cdb2fc8bc7dce0b6741e2150273451</td>\n",
       "      <td>Perfumery</td>\n",
       "      <td>4</td>\n",
       "    </tr>\n",
       "    <tr>\n",
       "      <th>2</th>\n",
       "      <td>47770eb9100c2d0c44946d9cf07ec65d</td>\n",
       "      <td>Auto</td>\n",
       "      <td>5</td>\n",
       "    </tr>\n",
       "    <tr>\n",
       "      <th>3</th>\n",
       "      <td>949d5b44dbf5de918fe9c16f97b45f8a</td>\n",
       "      <td>Pet shop</td>\n",
       "      <td>5</td>\n",
       "    </tr>\n",
       "    <tr>\n",
       "      <th>4</th>\n",
       "      <td>ad21c59c0840e6cb83a9ceb5573f8159</td>\n",
       "      <td>Stationery</td>\n",
       "      <td>5</td>\n",
       "    </tr>\n",
       "  </tbody>\n",
       "</table>\n",
       "</div>"
      ],
      "text/plain": [
       "                           order_id product_name  review_score\n",
       "0  e481f51cbdc54678b7cc49136f2d6af7   Housewares             4\n",
       "1  53cdb2fc8bc7dce0b6741e2150273451    Perfumery             4\n",
       "2  47770eb9100c2d0c44946d9cf07ec65d         Auto             5\n",
       "3  949d5b44dbf5de918fe9c16f97b45f8a     Pet shop             5\n",
       "4  ad21c59c0840e6cb83a9ceb5573f8159   Stationery             5"
      ]
     },
     "execution_count": 110,
     "metadata": {},
     "output_type": "execute_result"
    }
   ],
   "source": [
    "df_review = df_main[[\"product_name\", \"review_score\"]]\n",
    "df_review.head()"
   ]
  },
  {
   "cell_type": "code",
   "execution_count": 111,
   "metadata": {},
   "outputs": [
    {
     "data": {
      "text/html": [
       "<div>\n",
       "<style scoped>\n",
       "    .dataframe tbody tr th:only-of-type {\n",
       "        vertical-align: middle;\n",
       "    }\n",
       "\n",
       "    .dataframe tbody tr th {\n",
       "        vertical-align: top;\n",
       "    }\n",
       "\n",
       "    .dataframe thead th {\n",
       "        text-align: right;\n",
       "    }\n",
       "</style>\n",
       "<table border=\"1\" class=\"dataframe\">\n",
       "  <thead>\n",
       "    <tr style=\"text-align: right;\">\n",
       "      <th></th>\n",
       "      <th>order_id</th>\n",
       "      <th>product_name</th>\n",
       "    </tr>\n",
       "    <tr>\n",
       "      <th>review_score</th>\n",
       "      <th></th>\n",
       "      <th></th>\n",
       "    </tr>\n",
       "  </thead>\n",
       "  <tbody>\n",
       "    <tr>\n",
       "      <th>1</th>\n",
       "      <td>11395</td>\n",
       "      <td>11395</td>\n",
       "    </tr>\n",
       "    <tr>\n",
       "      <th>2</th>\n",
       "      <td>3271</td>\n",
       "      <td>3271</td>\n",
       "    </tr>\n",
       "    <tr>\n",
       "      <th>3</th>\n",
       "      <td>8319</td>\n",
       "      <td>8319</td>\n",
       "    </tr>\n",
       "    <tr>\n",
       "      <th>4</th>\n",
       "      <td>19123</td>\n",
       "      <td>19123</td>\n",
       "    </tr>\n",
       "    <tr>\n",
       "      <th>5</th>\n",
       "      <td>57241</td>\n",
       "      <td>57241</td>\n",
       "    </tr>\n",
       "  </tbody>\n",
       "</table>\n",
       "</div>"
      ],
      "text/plain": [
       "              order_id  product_name\n",
       "review_score                        \n",
       "1                11395         11395\n",
       "2                 3271          3271\n",
       "3                 8319          8319\n",
       "4                19123         19123\n",
       "5                57241         57241"
      ]
     },
     "execution_count": 111,
     "metadata": {},
     "output_type": "execute_result"
    }
   ],
   "source": [
    "df_review_proportion = df_review.groupby(\"review_score\").agg(\"count\")\n",
    "df_review_proportion.head()"
   ]
  },
  {
   "cell_type": "code",
   "execution_count": 112,
   "metadata": {},
   "outputs": [
    {
     "data": {
      "text/html": [
       "<div>\n",
       "<style scoped>\n",
       "    .dataframe tbody tr th:only-of-type {\n",
       "        vertical-align: middle;\n",
       "    }\n",
       "\n",
       "    .dataframe tbody tr th {\n",
       "        vertical-align: top;\n",
       "    }\n",
       "\n",
       "    .dataframe thead th {\n",
       "        text-align: right;\n",
       "    }\n",
       "</style>\n",
       "<table border=\"1\" class=\"dataframe\">\n",
       "  <thead>\n",
       "    <tr style=\"text-align: right;\">\n",
       "      <th></th>\n",
       "      <th>review_score</th>\n",
       "      <th>order_id</th>\n",
       "      <th>product_name</th>\n",
       "    </tr>\n",
       "  </thead>\n",
       "  <tbody>\n",
       "    <tr>\n",
       "      <th>0</th>\n",
       "      <td>1</td>\n",
       "      <td>11395</td>\n",
       "      <td>11395</td>\n",
       "    </tr>\n",
       "    <tr>\n",
       "      <th>1</th>\n",
       "      <td>2</td>\n",
       "      <td>3271</td>\n",
       "      <td>3271</td>\n",
       "    </tr>\n",
       "    <tr>\n",
       "      <th>2</th>\n",
       "      <td>3</td>\n",
       "      <td>8319</td>\n",
       "      <td>8319</td>\n",
       "    </tr>\n",
       "    <tr>\n",
       "      <th>3</th>\n",
       "      <td>4</td>\n",
       "      <td>19123</td>\n",
       "      <td>19123</td>\n",
       "    </tr>\n",
       "    <tr>\n",
       "      <th>4</th>\n",
       "      <td>5</td>\n",
       "      <td>57241</td>\n",
       "      <td>57241</td>\n",
       "    </tr>\n",
       "  </tbody>\n",
       "</table>\n",
       "</div>"
      ],
      "text/plain": [
       "   review_score  order_id  product_name\n",
       "0             1     11395         11395\n",
       "1             2      3271          3271\n",
       "2             3      8319          8319\n",
       "3             4     19123         19123\n",
       "4             5     57241         57241"
      ]
     },
     "execution_count": 112,
     "metadata": {},
     "output_type": "execute_result"
    }
   ],
   "source": [
    "df_review_proportion.reset_index(inplace=True)\n",
    "df_review_proportion.head()"
   ]
  },
  {
   "cell_type": "code",
   "execution_count": 113,
   "metadata": {},
   "outputs": [
    {
     "data": {
      "image/png": "[encoded data removed]",
      "text/plain": [
       "<Figure size 720x504 with 1 Axes>"
      ]
     },
     "metadata": {
      "needs_background": "light"
     },
     "output_type": "display_data"
    }
   ],
   "source": [
    "# Set percentage column on the data frame\n",
    "percentages = (df_review_proportion[\"product_name\"]\\\n",
    "              / df_review_proportion[\"product_name\"].sum())\\\n",
    "              * 100\n",
    "\n",
    "df_review_proportion[\"percentages\"] = percentages\n",
    "\n",
    "# Create chart\n",
    "plt.figure(figsize=(10, 7))\n",
    "\n",
    "ax = sns.barplot(x=\"review_score\", \n",
    "                 y=\"percentages\",\n",
    "                 palette=\"YlGnBu_r\", \n",
    "                 data=df_review_proportion,\n",
    "                 order=df_review_proportion\n",
    "                       .sort_values(\"percentages\", \n",
    "                                     ascending=False).review_score)  \n",
    "# Adding data label into the graph\n",
    "plt.bar_label(ax.containers[0], fmt=\"%.2f%%\")\n",
    "\n",
    "# Adding table name and axes labels\n",
    "plt.title(\"Proportion of Products by Review Score\")\n",
    "plt.xlabel(\"Review Score\")\n",
    "plt.ylabel(\"Product Proportion\")\n",
    "plt.show()"
   ]
  },
  {
   "cell_type": "code",
   "execution_count": 117,
   "metadata": {},
   "outputs": [
    {
     "data": {
      "text/html": [
       "<div>\n",
       "<style scoped>\n",
       "    .dataframe tbody tr th:only-of-type {\n",
       "        vertical-align: middle;\n",
       "    }\n",
       "\n",
       "    .dataframe tbody tr th {\n",
       "        vertical-align: top;\n",
       "    }\n",
       "\n",
       "    .dataframe thead th {\n",
       "        text-align: right;\n",
       "    }\n",
       "</style>\n",
       "<table border=\"1\" class=\"dataframe\">\n",
       "  <thead>\n",
       "    <tr style=\"text-align: right;\">\n",
       "      <th></th>\n",
       "      <th></th>\n",
       "      <th>order_id</th>\n",
       "    </tr>\n",
       "    <tr>\n",
       "      <th>review_score</th>\n",
       "      <th>product_name</th>\n",
       "      <th></th>\n",
       "    </tr>\n",
       "  </thead>\n",
       "  <tbody>\n",
       "    <tr>\n",
       "      <th rowspan=\"5\" valign=\"top\">1</th>\n",
       "      <th>Agro industry and commerce</th>\n",
       "      <td>21</td>\n",
       "    </tr>\n",
       "    <tr>\n",
       "      <th>Air conditioning</th>\n",
       "      <td>34</td>\n",
       "    </tr>\n",
       "    <tr>\n",
       "      <th>Art</th>\n",
       "      <td>25</td>\n",
       "    </tr>\n",
       "    <tr>\n",
       "      <th>Arts and craftmanship</th>\n",
       "      <td>3</td>\n",
       "    </tr>\n",
       "    <tr>\n",
       "      <th>Audio</th>\n",
       "      <td>58</td>\n",
       "    </tr>\n",
       "    <tr>\n",
       "      <th>...</th>\n",
       "      <th>...</th>\n",
       "      <td>...</td>\n",
       "    </tr>\n",
       "    <tr>\n",
       "      <th rowspan=\"5\" valign=\"top\">5</th>\n",
       "      <th>Stationery</th>\n",
       "      <td>1462</td>\n",
       "    </tr>\n",
       "    <tr>\n",
       "      <th>Tablets printing image</th>\n",
       "      <td>41</td>\n",
       "    </tr>\n",
       "    <tr>\n",
       "      <th>Telephony</th>\n",
       "      <td>2222</td>\n",
       "    </tr>\n",
       "    <tr>\n",
       "      <th>Toys</th>\n",
       "      <td>2420</td>\n",
       "    </tr>\n",
       "    <tr>\n",
       "      <th>Watches gifts</th>\n",
       "      <td>3246</td>\n",
       "    </tr>\n",
       "  </tbody>\n",
       "</table>\n",
       "<p>348 rows × 1 columns</p>\n",
       "</div>"
      ],
      "text/plain": [
       "                                         order_id\n",
       "review_score product_name                        \n",
       "1            Agro industry and commerce        21\n",
       "             Air conditioning                  34\n",
       "             Art                               25\n",
       "             Arts and craftmanship              3\n",
       "             Audio                             58\n",
       "...                                           ...\n",
       "5            Stationery                      1462\n",
       "             Tablets printing image            41\n",
       "             Telephony                       2222\n",
       "             Toys                            2420\n",
       "             Watches gifts                   3246\n",
       "\n",
       "[348 rows x 1 columns]"
      ]
     },
     "execution_count": 117,
     "metadata": {},
     "output_type": "execute_result"
    }
   ],
   "source": [
    "df_product_review = df_review.groupby([\"review_score\", \"product_name\"]).agg(\"count\")\n",
    "df_product_review"
   ]
  },
  {
   "cell_type": "code",
   "execution_count": 120,
   "metadata": {},
   "outputs": [
    {
     "data": {
      "text/html": [
       "<div>\n",
       "<style scoped>\n",
       "    .dataframe tbody tr th:only-of-type {\n",
       "        vertical-align: middle;\n",
       "    }\n",
       "\n",
       "    .dataframe tbody tr th {\n",
       "        vertical-align: top;\n",
       "    }\n",
       "\n",
       "    .dataframe thead th {\n",
       "        text-align: right;\n",
       "    }\n",
       "</style>\n",
       "<table border=\"1\" class=\"dataframe\">\n",
       "  <thead>\n",
       "    <tr style=\"text-align: right;\">\n",
       "      <th></th>\n",
       "      <th>review_score</th>\n",
       "      <th>product_name</th>\n",
       "      <th>order_id</th>\n",
       "    </tr>\n",
       "  </thead>\n",
       "  <tbody>\n",
       "    <tr>\n",
       "      <th>0</th>\n",
       "      <td>1</td>\n",
       "      <td>Agro industry and commerce</td>\n",
       "      <td>21</td>\n",
       "    </tr>\n",
       "    <tr>\n",
       "      <th>1</th>\n",
       "      <td>1</td>\n",
       "      <td>Air conditioning</td>\n",
       "      <td>34</td>\n",
       "    </tr>\n",
       "    <tr>\n",
       "      <th>2</th>\n",
       "      <td>1</td>\n",
       "      <td>Art</td>\n",
       "      <td>25</td>\n",
       "    </tr>\n",
       "    <tr>\n",
       "      <th>3</th>\n",
       "      <td>1</td>\n",
       "      <td>Arts and craftmanship</td>\n",
       "      <td>3</td>\n",
       "    </tr>\n",
       "    <tr>\n",
       "      <th>4</th>\n",
       "      <td>1</td>\n",
       "      <td>Audio</td>\n",
       "      <td>58</td>\n",
       "    </tr>\n",
       "  </tbody>\n",
       "</table>\n",
       "</div>"
      ],
      "text/plain": [
       "   review_score                product_name  order_id\n",
       "0             1  Agro industry and commerce        21\n",
       "1             1            Air conditioning        34\n",
       "2             1                         Art        25\n",
       "3             1       Arts and craftmanship         3\n",
       "4             1                       Audio        58"
      ]
     },
     "execution_count": 120,
     "metadata": {},
     "output_type": "execute_result"
    }
   ],
   "source": [
    "df_product_review.reset_index(inplace=True)\n",
    "df_product_review.rename(columns={\"order_id\": \"product_counts\"})\n",
    "\n",
    "df_product_review.head()"
   ]
  },
  {
   "cell_type": "code",
   "execution_count": 122,
   "metadata": {},
   "outputs": [
    {
     "data": {
      "image/png": "[encoded data removed]",
      "text/plain": [
       "<Figure size 1296x432 with 2 Axes>"
      ]
     },
     "metadata": {
      "needs_background": "light"
     },
     "output_type": "display_data"
    }
   ],
   "source": [
    "fig, axes = plt.subplots(nrows=1, ncols=2, figsize=(18, 6))\n",
    "\n",
    "for i, _ in enumerate(axes):\n",
    "      if i == 0:\n",
    "            data = df_product_review[df_product_review[\"review_score\"] == 5][:10]\n",
    "            bar_title = \"Top 10 Products with the Highest Review Score\"\n",
    "      elif i == 1:\n",
    "            data = df_product_review[df_product_review[\"review_score\"] == 1][:10]\n",
    "            bar_title = \"Top 10 Products with the Lowest Review Score\"\n",
    "      \n",
    "      bar_plot = sns.barplot(x=\"product_name\",\n",
    "                             y=\"order_id\",\n",
    "                             ax=axes[i],\n",
    "                             palette=\"YlGnBu_r\",\n",
    "                             data=data,\n",
    "                             order=data.sort_values(\"order_id\", \n",
    "                                                    ascending=False).product_name)\n",
    "\n",
    "      wrap_labels(axes[i], 10)\n",
    "      axes[i].bar_label(axes[i].containers[0])\n",
    "      axes[i].title.set_text(bar_title)\n",
    "      axes[i].set_xlabel(\"\\nProdut Category Name\")\n",
    "      axes[i].set_ylabel(\"Number of Product Categories\")\n",
    "\n",
    "plt.tight_layout()"
   ]
  }
 ],
 "metadata": {
  "kernelspec": {
   "display_name": "Python 3.10.0 64-bit",
   "language": "python",
   "name": "python3"
  },
  "language_info": {
   "codemirror_mode": {
    "name": "ipython",
    "version": 3
   },
   "file_extension": ".py",
   "mimetype": "text/x-python",
   "name": "python",
   "nbconvert_exporter": "python",
   "pygments_lexer": "ipython3",
   "version": "3.10.0"
  },
  "orig_nbformat": 4,
  "vscode": {
   "interpreter": {
    "hash": "ec71345ca5d37a0e9a74c52dd4df8f08155a9116efa2c99cb350734e2b4aad3e"
   }
  }
 },
 "nbformat": 4,
 "nbformat_minor": 2
}
